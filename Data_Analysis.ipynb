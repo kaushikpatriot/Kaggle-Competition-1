{
  "nbformat": 4,
  "nbformat_minor": 0,
  "metadata": {
    "colab": {
      "provenance": [],
      "collapsed_sections": [
        "9wvh8fkHSNtA",
        "EJx2VT5-_d2d"
      ],
      "authorship_tag": "ABX9TyMWNDY31vBMWT/q4varnXwL",
      "include_colab_link": true
    },
    "kernelspec": {
      "name": "python3",
      "display_name": "Python 3"
    },
    "language_info": {
      "name": "python"
    }
  },
  "cells": [
    {
      "cell_type": "markdown",
      "metadata": {
        "id": "view-in-github",
        "colab_type": "text"
      },
      "source": [
        "<a href=\"https://colab.research.google.com/github/kaushikpatriot/ML-Work/blob/main/Data_Analysis.ipynb\" target=\"_parent\"><img src=\"https://colab.research.google.com/assets/colab-badge.svg\" alt=\"Open In Colab\"/></a>"
      ]
    },
    {
      "cell_type": "markdown",
      "source": [
        "#Data Loading and basic cleaning"
      ],
      "metadata": {
        "id": "q2QRa7j-F9Fy"
      }
    },
    {
      "cell_type": "code",
      "execution_count": null,
      "metadata": {
        "id": "uWXdmYzyv6cq"
      },
      "outputs": [],
      "source": [
        "import pandas as pd\n",
        "import numpy as np\n",
        "import matplotlib.pyplot as plt\n",
        "import seaborn as sns\n",
        "\n",
        "import warnings\n",
        "def warn(*args, **kwargs):\n",
        "  pass\n",
        "\n",
        "warnings.warn = warn"
      ]
    },
    {
      "cell_type": "code",
      "source": [
        "from google.colab import drive\n",
        "drive.mount('/content/drive')"
      ],
      "metadata": {
        "colab": {
          "base_uri": "https://localhost:8080/"
        },
        "id": "xAXZW_zV07rI",
        "outputId": "09976fc6-013e-460e-dfba-4482feb0b1da"
      },
      "execution_count": null,
      "outputs": [
        {
          "output_type": "stream",
          "name": "stdout",
          "text": [
            "Mounted at /content/drive\n"
          ]
        }
      ]
    },
    {
      "cell_type": "code",
      "source": [
        "train_path = '/content/drive/MyDrive/Colab Notebooks/MLP-Code/Project/train_data.csv'\n",
        "train_df = pd.read_csv(train_path)\n",
        "test_path = '/content/drive/MyDrive/Colab Notebooks/MLP-Code/Project/test_data.csv'\n",
        "test_df = pd.read_csv(test_path)"
      ],
      "metadata": {
        "id": "qN64evY31NLm"
      },
      "execution_count": null,
      "outputs": []
    },
    {
      "cell_type": "code",
      "source": [
        "train_df.shape, test_df.shape"
      ],
      "metadata": {
        "colab": {
          "base_uri": "https://localhost:8080/"
        },
        "id": "my616PTz1T1D",
        "outputId": "0f0497cb-a0d8-4fc2-d39b-cef04b7501e5"
      },
      "execution_count": null,
      "outputs": [
        {
          "output_type": "execute_result",
          "data": {
            "text/plain": [
              "((12379, 31), (5305, 30))"
            ]
          },
          "metadata": {},
          "execution_count": 4
        }
      ]
    },
    {
      "cell_type": "code",
      "source": [
        "train_df.head()"
      ],
      "metadata": {
        "colab": {
          "base_uri": "https://localhost:8080/",
          "height": 456
        },
        "id": "6YMku25V2KFx",
        "outputId": "6a2f981f-bc4a-4d5f-d1f0-a730d84bd48c"
      },
      "execution_count": null,
      "outputs": [
        {
          "output_type": "execute_result",
          "data": {
            "text/plain": [
              "  offer expiration     income_range no_visited_Cold drinks  \\\n",
              "0            2days  ₹100000 or More                    4~8   \n",
              "1            2days  ₹87500 - ₹99999                    4~8   \n",
              "2            2days  ₹87500 - ₹99999                  less1   \n",
              "3          10hours  ₹37500 - ₹49999                  less1   \n",
              "4            2days  ₹100000 or More                  never   \n",
              "\n",
              "   travelled_more_than_15mins_for_offer Restaur_spend_less_than20  \\\n",
              "0                                     1                     less1   \n",
              "1                                     0                       4~8   \n",
              "2                                     1                       1~3   \n",
              "3                                     0                       1~3   \n",
              "4                                     1                       1~3   \n",
              "\n",
              "    Marital Status       restaurant type     age  Prefer western over chinese  \\\n",
              "0  Married partner     4 star restaurant      36                            0   \n",
              "1  Married partner  Take-away restaurant  50plus                            0   \n",
              "2           Single           Cold drinks      26                            1   \n",
              "3           Single  Take-away restaurant      46                            1   \n",
              "4           Single     4 star restaurant      21                            0   \n",
              "\n",
              "   travelled_more_than_25mins_for_offer  ...  \\\n",
              "0                                     0  ...   \n",
              "1                                     0  ...   \n",
              "2                                     0  ...   \n",
              "3                                     0  ...   \n",
              "4                                     1  ...   \n",
              "\n",
              "   restuarant_opposite_direction_house has Children  \\\n",
              "0                                    0            0   \n",
              "1                                    0            1   \n",
              "2                                    1            1   \n",
              "3                                    0            1   \n",
              "4                                    1            0   \n",
              "\n",
              "  visit restaurant with rating (avg) temperature  \\\n",
              "0                                  4          67   \n",
              "1                                  3          89   \n",
              "2                                  4          67   \n",
              "3                                  3          89   \n",
              "4                                  3          40   \n",
              "\n",
              "   Restaur_spend_greater_than20  Travel Time Climate drop location  \\\n",
              "0                         less1           22  Spring    Location B   \n",
              "1                           1~3           18  Summer    Location B   \n",
              "2                         less1            7  Winter    Location A   \n",
              "3                           1~3            7  Summer    Location C   \n",
              "4                         less1            7  Summer    Location C   \n",
              "\n",
              "   Prefer home food Offer Accepted  \n",
              "0                 0             No  \n",
              "1                 0            Yes  \n",
              "2                 1            Yes  \n",
              "3                 0             No  \n",
              "4                 0             No  \n",
              "\n",
              "[5 rows x 31 columns]"
            ],
            "text/html": [
              "\n",
              "  <div id=\"df-47080e7d-fda2-4a53-9009-531cbd984133\">\n",
              "    <div class=\"colab-df-container\">\n",
              "      <div>\n",
              "<style scoped>\n",
              "    .dataframe tbody tr th:only-of-type {\n",
              "        vertical-align: middle;\n",
              "    }\n",
              "\n",
              "    .dataframe tbody tr th {\n",
              "        vertical-align: top;\n",
              "    }\n",
              "\n",
              "    .dataframe thead th {\n",
              "        text-align: right;\n",
              "    }\n",
              "</style>\n",
              "<table border=\"1\" class=\"dataframe\">\n",
              "  <thead>\n",
              "    <tr style=\"text-align: right;\">\n",
              "      <th></th>\n",
              "      <th>offer expiration</th>\n",
              "      <th>income_range</th>\n",
              "      <th>no_visited_Cold drinks</th>\n",
              "      <th>travelled_more_than_15mins_for_offer</th>\n",
              "      <th>Restaur_spend_less_than20</th>\n",
              "      <th>Marital Status</th>\n",
              "      <th>restaurant type</th>\n",
              "      <th>age</th>\n",
              "      <th>Prefer western over chinese</th>\n",
              "      <th>travelled_more_than_25mins_for_offer</th>\n",
              "      <th>...</th>\n",
              "      <th>restuarant_opposite_direction_house</th>\n",
              "      <th>has Children</th>\n",
              "      <th>visit restaurant with rating (avg)</th>\n",
              "      <th>temperature</th>\n",
              "      <th>Restaur_spend_greater_than20</th>\n",
              "      <th>Travel Time</th>\n",
              "      <th>Climate</th>\n",
              "      <th>drop location</th>\n",
              "      <th>Prefer home food</th>\n",
              "      <th>Offer Accepted</th>\n",
              "    </tr>\n",
              "  </thead>\n",
              "  <tbody>\n",
              "    <tr>\n",
              "      <th>0</th>\n",
              "      <td>2days</td>\n",
              "      <td>₹100000 or More</td>\n",
              "      <td>4~8</td>\n",
              "      <td>1</td>\n",
              "      <td>less1</td>\n",
              "      <td>Married partner</td>\n",
              "      <td>4 star restaurant</td>\n",
              "      <td>36</td>\n",
              "      <td>0</td>\n",
              "      <td>0</td>\n",
              "      <td>...</td>\n",
              "      <td>0</td>\n",
              "      <td>0</td>\n",
              "      <td>4</td>\n",
              "      <td>67</td>\n",
              "      <td>less1</td>\n",
              "      <td>22</td>\n",
              "      <td>Spring</td>\n",
              "      <td>Location B</td>\n",
              "      <td>0</td>\n",
              "      <td>No</td>\n",
              "    </tr>\n",
              "    <tr>\n",
              "      <th>1</th>\n",
              "      <td>2days</td>\n",
              "      <td>₹87500 - ₹99999</td>\n",
              "      <td>4~8</td>\n",
              "      <td>0</td>\n",
              "      <td>4~8</td>\n",
              "      <td>Married partner</td>\n",
              "      <td>Take-away restaurant</td>\n",
              "      <td>50plus</td>\n",
              "      <td>0</td>\n",
              "      <td>0</td>\n",
              "      <td>...</td>\n",
              "      <td>0</td>\n",
              "      <td>1</td>\n",
              "      <td>3</td>\n",
              "      <td>89</td>\n",
              "      <td>1~3</td>\n",
              "      <td>18</td>\n",
              "      <td>Summer</td>\n",
              "      <td>Location B</td>\n",
              "      <td>0</td>\n",
              "      <td>Yes</td>\n",
              "    </tr>\n",
              "    <tr>\n",
              "      <th>2</th>\n",
              "      <td>2days</td>\n",
              "      <td>₹87500 - ₹99999</td>\n",
              "      <td>less1</td>\n",
              "      <td>1</td>\n",
              "      <td>1~3</td>\n",
              "      <td>Single</td>\n",
              "      <td>Cold drinks</td>\n",
              "      <td>26</td>\n",
              "      <td>1</td>\n",
              "      <td>0</td>\n",
              "      <td>...</td>\n",
              "      <td>1</td>\n",
              "      <td>1</td>\n",
              "      <td>4</td>\n",
              "      <td>67</td>\n",
              "      <td>less1</td>\n",
              "      <td>7</td>\n",
              "      <td>Winter</td>\n",
              "      <td>Location A</td>\n",
              "      <td>1</td>\n",
              "      <td>Yes</td>\n",
              "    </tr>\n",
              "    <tr>\n",
              "      <th>3</th>\n",
              "      <td>10hours</td>\n",
              "      <td>₹37500 - ₹49999</td>\n",
              "      <td>less1</td>\n",
              "      <td>0</td>\n",
              "      <td>1~3</td>\n",
              "      <td>Single</td>\n",
              "      <td>Take-away restaurant</td>\n",
              "      <td>46</td>\n",
              "      <td>1</td>\n",
              "      <td>0</td>\n",
              "      <td>...</td>\n",
              "      <td>0</td>\n",
              "      <td>1</td>\n",
              "      <td>3</td>\n",
              "      <td>89</td>\n",
              "      <td>1~3</td>\n",
              "      <td>7</td>\n",
              "      <td>Summer</td>\n",
              "      <td>Location C</td>\n",
              "      <td>0</td>\n",
              "      <td>No</td>\n",
              "    </tr>\n",
              "    <tr>\n",
              "      <th>4</th>\n",
              "      <td>2days</td>\n",
              "      <td>₹100000 or More</td>\n",
              "      <td>never</td>\n",
              "      <td>1</td>\n",
              "      <td>1~3</td>\n",
              "      <td>Single</td>\n",
              "      <td>4 star restaurant</td>\n",
              "      <td>21</td>\n",
              "      <td>0</td>\n",
              "      <td>1</td>\n",
              "      <td>...</td>\n",
              "      <td>1</td>\n",
              "      <td>0</td>\n",
              "      <td>3</td>\n",
              "      <td>40</td>\n",
              "      <td>less1</td>\n",
              "      <td>7</td>\n",
              "      <td>Summer</td>\n",
              "      <td>Location C</td>\n",
              "      <td>0</td>\n",
              "      <td>No</td>\n",
              "    </tr>\n",
              "  </tbody>\n",
              "</table>\n",
              "<p>5 rows × 31 columns</p>\n",
              "</div>\n",
              "      <button class=\"colab-df-convert\" onclick=\"convertToInteractive('df-47080e7d-fda2-4a53-9009-531cbd984133')\"\n",
              "              title=\"Convert this dataframe to an interactive table.\"\n",
              "              style=\"display:none;\">\n",
              "        \n",
              "  <svg xmlns=\"http://www.w3.org/2000/svg\" height=\"24px\"viewBox=\"0 0 24 24\"\n",
              "       width=\"24px\">\n",
              "    <path d=\"M0 0h24v24H0V0z\" fill=\"none\"/>\n",
              "    <path d=\"M18.56 5.44l.94 2.06.94-2.06 2.06-.94-2.06-.94-.94-2.06-.94 2.06-2.06.94zm-11 1L8.5 8.5l.94-2.06 2.06-.94-2.06-.94L8.5 2.5l-.94 2.06-2.06.94zm10 10l.94 2.06.94-2.06 2.06-.94-2.06-.94-.94-2.06-.94 2.06-2.06.94z\"/><path d=\"M17.41 7.96l-1.37-1.37c-.4-.4-.92-.59-1.43-.59-.52 0-1.04.2-1.43.59L10.3 9.45l-7.72 7.72c-.78.78-.78 2.05 0 2.83L4 21.41c.39.39.9.59 1.41.59.51 0 1.02-.2 1.41-.59l7.78-7.78 2.81-2.81c.8-.78.8-2.07 0-2.86zM5.41 20L4 18.59l7.72-7.72 1.47 1.35L5.41 20z\"/>\n",
              "  </svg>\n",
              "      </button>\n",
              "      \n",
              "  <style>\n",
              "    .colab-df-container {\n",
              "      display:flex;\n",
              "      flex-wrap:wrap;\n",
              "      gap: 12px;\n",
              "    }\n",
              "\n",
              "    .colab-df-convert {\n",
              "      background-color: #E8F0FE;\n",
              "      border: none;\n",
              "      border-radius: 50%;\n",
              "      cursor: pointer;\n",
              "      display: none;\n",
              "      fill: #1967D2;\n",
              "      height: 32px;\n",
              "      padding: 0 0 0 0;\n",
              "      width: 32px;\n",
              "    }\n",
              "\n",
              "    .colab-df-convert:hover {\n",
              "      background-color: #E2EBFA;\n",
              "      box-shadow: 0px 1px 2px rgba(60, 64, 67, 0.3), 0px 1px 3px 1px rgba(60, 64, 67, 0.15);\n",
              "      fill: #174EA6;\n",
              "    }\n",
              "\n",
              "    [theme=dark] .colab-df-convert {\n",
              "      background-color: #3B4455;\n",
              "      fill: #D2E3FC;\n",
              "    }\n",
              "\n",
              "    [theme=dark] .colab-df-convert:hover {\n",
              "      background-color: #434B5C;\n",
              "      box-shadow: 0px 1px 3px 1px rgba(0, 0, 0, 0.15);\n",
              "      filter: drop-shadow(0px 1px 2px rgba(0, 0, 0, 0.3));\n",
              "      fill: #FFFFFF;\n",
              "    }\n",
              "  </style>\n",
              "\n",
              "      <script>\n",
              "        const buttonEl =\n",
              "          document.querySelector('#df-47080e7d-fda2-4a53-9009-531cbd984133 button.colab-df-convert');\n",
              "        buttonEl.style.display =\n",
              "          google.colab.kernel.accessAllowed ? 'block' : 'none';\n",
              "\n",
              "        async function convertToInteractive(key) {\n",
              "          const element = document.querySelector('#df-47080e7d-fda2-4a53-9009-531cbd984133');\n",
              "          const dataTable =\n",
              "            await google.colab.kernel.invokeFunction('convertToInteractive',\n",
              "                                                     [key], {});\n",
              "          if (!dataTable) return;\n",
              "\n",
              "          const docLinkHtml = 'Like what you see? Visit the ' +\n",
              "            '<a target=\"_blank\" href=https://colab.research.google.com/notebooks/data_table.ipynb>data table notebook</a>'\n",
              "            + ' to learn more about interactive tables.';\n",
              "          element.innerHTML = '';\n",
              "          dataTable['output_type'] = 'display_data';\n",
              "          await google.colab.output.renderOutput(dataTable, element);\n",
              "          const docLink = document.createElement('div');\n",
              "          docLink.innerHTML = docLinkHtml;\n",
              "          element.appendChild(docLink);\n",
              "        }\n",
              "      </script>\n",
              "    </div>\n",
              "  </div>\n",
              "  "
            ]
          },
          "metadata": {},
          "execution_count": 5
        }
      ]
    },
    {
      "cell_type": "code",
      "source": [
        "test_df.head()"
      ],
      "metadata": {
        "colab": {
          "base_uri": "https://localhost:8080/",
          "height": 456
        },
        "outputId": "930c0fd6-9cab-4a2a-d4a7-b9e2b8e02bfc",
        "id": "8pqxu_yDGKEo"
      },
      "execution_count": null,
      "outputs": [
        {
          "output_type": "execute_result",
          "data": {
            "text/plain": [
              "  offer expiration     income_range no_visited_Cold drinks  \\\n",
              "0            2days  ₹37500 - ₹49999                    1~3   \n",
              "1          10hours  ₹25000 - ₹37499                    4~8   \n",
              "2            2days  ₹100000 or More                  never   \n",
              "3            2days  ₹25000 - ₹37499                  never   \n",
              "4          10hours  ₹12500 - ₹24999                  never   \n",
              "\n",
              "   travelled_more_than_15mins_for_offer Restaur_spend_less_than20  \\\n",
              "0                                     1                       1~3   \n",
              "1                                     0                       1~3   \n",
              "2                                     1                     never   \n",
              "3                                     1                       1~3   \n",
              "4                                     0                       1~3   \n",
              "\n",
              "      Marital Status       restaurant type     age  \\\n",
              "0           Divorced  Take-away restaurant  50plus   \n",
              "1  Unmarried partner           Cold drinks      21   \n",
              "2             Single           Cold drinks      21   \n",
              "3    Married partner   Restaurant with pub      41   \n",
              "4             Single     2 star restaurant      31   \n",
              "\n",
              "   Prefer western over chinese  travelled_more_than_25mins_for_offer  ...  \\\n",
              "0                            0                                     1  ...   \n",
              "1                            1                                     0  ...   \n",
              "2                            1                                     0  ...   \n",
              "3                            0                                     0  ...   \n",
              "4                            1                                     0  ...   \n",
              "\n",
              "          Job/Job Industry restuarant_opposite_direction_house has Children  \\\n",
              "0          Sales & Related                                   1            1   \n",
              "1  Computer & Mathematical                                   1            1   \n",
              "2               Unemployed                                   1            0   \n",
              "3               Unemployed                                   1            1   \n",
              "4               Unemployed                                   0            0   \n",
              "\n",
              "  visit restaurant with rating (avg)  temperature  \\\n",
              "0                                  4           89   \n",
              "1                                  0           67   \n",
              "2                                  4           67   \n",
              "3                                  0           40   \n",
              "4                                  0           89   \n",
              "\n",
              "   Restaur_spend_greater_than20 Travel Time Climate  drop location  \\\n",
              "0                         less1           7  Summer     Location C   \n",
              "1                         less1          18  Summer     Location A   \n",
              "2                         never           7  Summer     Location C   \n",
              "3                         less1          18  Spring     Location C   \n",
              "4                           1~3          18  Summer     Location B   \n",
              "\n",
              "  Prefer home food  \n",
              "0                0  \n",
              "1                1  \n",
              "2                0  \n",
              "3                1  \n",
              "4                1  \n",
              "\n",
              "[5 rows x 30 columns]"
            ],
            "text/html": [
              "\n",
              "  <div id=\"df-6c31ab22-c5c3-4c0a-bfb9-1efd072b9bff\">\n",
              "    <div class=\"colab-df-container\">\n",
              "      <div>\n",
              "<style scoped>\n",
              "    .dataframe tbody tr th:only-of-type {\n",
              "        vertical-align: middle;\n",
              "    }\n",
              "\n",
              "    .dataframe tbody tr th {\n",
              "        vertical-align: top;\n",
              "    }\n",
              "\n",
              "    .dataframe thead th {\n",
              "        text-align: right;\n",
              "    }\n",
              "</style>\n",
              "<table border=\"1\" class=\"dataframe\">\n",
              "  <thead>\n",
              "    <tr style=\"text-align: right;\">\n",
              "      <th></th>\n",
              "      <th>offer expiration</th>\n",
              "      <th>income_range</th>\n",
              "      <th>no_visited_Cold drinks</th>\n",
              "      <th>travelled_more_than_15mins_for_offer</th>\n",
              "      <th>Restaur_spend_less_than20</th>\n",
              "      <th>Marital Status</th>\n",
              "      <th>restaurant type</th>\n",
              "      <th>age</th>\n",
              "      <th>Prefer western over chinese</th>\n",
              "      <th>travelled_more_than_25mins_for_offer</th>\n",
              "      <th>...</th>\n",
              "      <th>Job/Job Industry</th>\n",
              "      <th>restuarant_opposite_direction_house</th>\n",
              "      <th>has Children</th>\n",
              "      <th>visit restaurant with rating (avg)</th>\n",
              "      <th>temperature</th>\n",
              "      <th>Restaur_spend_greater_than20</th>\n",
              "      <th>Travel Time</th>\n",
              "      <th>Climate</th>\n",
              "      <th>drop location</th>\n",
              "      <th>Prefer home food</th>\n",
              "    </tr>\n",
              "  </thead>\n",
              "  <tbody>\n",
              "    <tr>\n",
              "      <th>0</th>\n",
              "      <td>2days</td>\n",
              "      <td>₹37500 - ₹49999</td>\n",
              "      <td>1~3</td>\n",
              "      <td>1</td>\n",
              "      <td>1~3</td>\n",
              "      <td>Divorced</td>\n",
              "      <td>Take-away restaurant</td>\n",
              "      <td>50plus</td>\n",
              "      <td>0</td>\n",
              "      <td>1</td>\n",
              "      <td>...</td>\n",
              "      <td>Sales &amp; Related</td>\n",
              "      <td>1</td>\n",
              "      <td>1</td>\n",
              "      <td>4</td>\n",
              "      <td>89</td>\n",
              "      <td>less1</td>\n",
              "      <td>7</td>\n",
              "      <td>Summer</td>\n",
              "      <td>Location C</td>\n",
              "      <td>0</td>\n",
              "    </tr>\n",
              "    <tr>\n",
              "      <th>1</th>\n",
              "      <td>10hours</td>\n",
              "      <td>₹25000 - ₹37499</td>\n",
              "      <td>4~8</td>\n",
              "      <td>0</td>\n",
              "      <td>1~3</td>\n",
              "      <td>Unmarried partner</td>\n",
              "      <td>Cold drinks</td>\n",
              "      <td>21</td>\n",
              "      <td>1</td>\n",
              "      <td>0</td>\n",
              "      <td>...</td>\n",
              "      <td>Computer &amp; Mathematical</td>\n",
              "      <td>1</td>\n",
              "      <td>1</td>\n",
              "      <td>0</td>\n",
              "      <td>67</td>\n",
              "      <td>less1</td>\n",
              "      <td>18</td>\n",
              "      <td>Summer</td>\n",
              "      <td>Location A</td>\n",
              "      <td>1</td>\n",
              "    </tr>\n",
              "    <tr>\n",
              "      <th>2</th>\n",
              "      <td>2days</td>\n",
              "      <td>₹100000 or More</td>\n",
              "      <td>never</td>\n",
              "      <td>1</td>\n",
              "      <td>never</td>\n",
              "      <td>Single</td>\n",
              "      <td>Cold drinks</td>\n",
              "      <td>21</td>\n",
              "      <td>1</td>\n",
              "      <td>0</td>\n",
              "      <td>...</td>\n",
              "      <td>Unemployed</td>\n",
              "      <td>1</td>\n",
              "      <td>0</td>\n",
              "      <td>4</td>\n",
              "      <td>67</td>\n",
              "      <td>never</td>\n",
              "      <td>7</td>\n",
              "      <td>Summer</td>\n",
              "      <td>Location C</td>\n",
              "      <td>0</td>\n",
              "    </tr>\n",
              "    <tr>\n",
              "      <th>3</th>\n",
              "      <td>2days</td>\n",
              "      <td>₹25000 - ₹37499</td>\n",
              "      <td>never</td>\n",
              "      <td>1</td>\n",
              "      <td>1~3</td>\n",
              "      <td>Married partner</td>\n",
              "      <td>Restaurant with pub</td>\n",
              "      <td>41</td>\n",
              "      <td>0</td>\n",
              "      <td>0</td>\n",
              "      <td>...</td>\n",
              "      <td>Unemployed</td>\n",
              "      <td>1</td>\n",
              "      <td>1</td>\n",
              "      <td>0</td>\n",
              "      <td>40</td>\n",
              "      <td>less1</td>\n",
              "      <td>18</td>\n",
              "      <td>Spring</td>\n",
              "      <td>Location C</td>\n",
              "      <td>1</td>\n",
              "    </tr>\n",
              "    <tr>\n",
              "      <th>4</th>\n",
              "      <td>10hours</td>\n",
              "      <td>₹12500 - ₹24999</td>\n",
              "      <td>never</td>\n",
              "      <td>0</td>\n",
              "      <td>1~3</td>\n",
              "      <td>Single</td>\n",
              "      <td>2 star restaurant</td>\n",
              "      <td>31</td>\n",
              "      <td>1</td>\n",
              "      <td>0</td>\n",
              "      <td>...</td>\n",
              "      <td>Unemployed</td>\n",
              "      <td>0</td>\n",
              "      <td>0</td>\n",
              "      <td>0</td>\n",
              "      <td>89</td>\n",
              "      <td>1~3</td>\n",
              "      <td>18</td>\n",
              "      <td>Summer</td>\n",
              "      <td>Location B</td>\n",
              "      <td>1</td>\n",
              "    </tr>\n",
              "  </tbody>\n",
              "</table>\n",
              "<p>5 rows × 30 columns</p>\n",
              "</div>\n",
              "      <button class=\"colab-df-convert\" onclick=\"convertToInteractive('df-6c31ab22-c5c3-4c0a-bfb9-1efd072b9bff')\"\n",
              "              title=\"Convert this dataframe to an interactive table.\"\n",
              "              style=\"display:none;\">\n",
              "        \n",
              "  <svg xmlns=\"http://www.w3.org/2000/svg\" height=\"24px\"viewBox=\"0 0 24 24\"\n",
              "       width=\"24px\">\n",
              "    <path d=\"M0 0h24v24H0V0z\" fill=\"none\"/>\n",
              "    <path d=\"M18.56 5.44l.94 2.06.94-2.06 2.06-.94-2.06-.94-.94-2.06-.94 2.06-2.06.94zm-11 1L8.5 8.5l.94-2.06 2.06-.94-2.06-.94L8.5 2.5l-.94 2.06-2.06.94zm10 10l.94 2.06.94-2.06 2.06-.94-2.06-.94-.94-2.06-.94 2.06-2.06.94z\"/><path d=\"M17.41 7.96l-1.37-1.37c-.4-.4-.92-.59-1.43-.59-.52 0-1.04.2-1.43.59L10.3 9.45l-7.72 7.72c-.78.78-.78 2.05 0 2.83L4 21.41c.39.39.9.59 1.41.59.51 0 1.02-.2 1.41-.59l7.78-7.78 2.81-2.81c.8-.78.8-2.07 0-2.86zM5.41 20L4 18.59l7.72-7.72 1.47 1.35L5.41 20z\"/>\n",
              "  </svg>\n",
              "      </button>\n",
              "      \n",
              "  <style>\n",
              "    .colab-df-container {\n",
              "      display:flex;\n",
              "      flex-wrap:wrap;\n",
              "      gap: 12px;\n",
              "    }\n",
              "\n",
              "    .colab-df-convert {\n",
              "      background-color: #E8F0FE;\n",
              "      border: none;\n",
              "      border-radius: 50%;\n",
              "      cursor: pointer;\n",
              "      display: none;\n",
              "      fill: #1967D2;\n",
              "      height: 32px;\n",
              "      padding: 0 0 0 0;\n",
              "      width: 32px;\n",
              "    }\n",
              "\n",
              "    .colab-df-convert:hover {\n",
              "      background-color: #E2EBFA;\n",
              "      box-shadow: 0px 1px 2px rgba(60, 64, 67, 0.3), 0px 1px 3px 1px rgba(60, 64, 67, 0.15);\n",
              "      fill: #174EA6;\n",
              "    }\n",
              "\n",
              "    [theme=dark] .colab-df-convert {\n",
              "      background-color: #3B4455;\n",
              "      fill: #D2E3FC;\n",
              "    }\n",
              "\n",
              "    [theme=dark] .colab-df-convert:hover {\n",
              "      background-color: #434B5C;\n",
              "      box-shadow: 0px 1px 3px 1px rgba(0, 0, 0, 0.15);\n",
              "      filter: drop-shadow(0px 1px 2px rgba(0, 0, 0, 0.3));\n",
              "      fill: #FFFFFF;\n",
              "    }\n",
              "  </style>\n",
              "\n",
              "      <script>\n",
              "        const buttonEl =\n",
              "          document.querySelector('#df-6c31ab22-c5c3-4c0a-bfb9-1efd072b9bff button.colab-df-convert');\n",
              "        buttonEl.style.display =\n",
              "          google.colab.kernel.accessAllowed ? 'block' : 'none';\n",
              "\n",
              "        async function convertToInteractive(key) {\n",
              "          const element = document.querySelector('#df-6c31ab22-c5c3-4c0a-bfb9-1efd072b9bff');\n",
              "          const dataTable =\n",
              "            await google.colab.kernel.invokeFunction('convertToInteractive',\n",
              "                                                     [key], {});\n",
              "          if (!dataTable) return;\n",
              "\n",
              "          const docLinkHtml = 'Like what you see? Visit the ' +\n",
              "            '<a target=\"_blank\" href=https://colab.research.google.com/notebooks/data_table.ipynb>data table notebook</a>'\n",
              "            + ' to learn more about interactive tables.';\n",
              "          element.innerHTML = '';\n",
              "          dataTable['output_type'] = 'display_data';\n",
              "          await google.colab.output.renderOutput(dataTable, element);\n",
              "          const docLink = document.createElement('div');\n",
              "          docLink.innerHTML = docLinkHtml;\n",
              "          element.appendChild(docLink);\n",
              "        }\n",
              "      </script>\n",
              "    </div>\n",
              "  </div>\n",
              "  "
            ]
          },
          "metadata": {},
          "execution_count": 8
        }
      ]
    },
    {
      "cell_type": "markdown",
      "source": [
        "##Removing unnecessary columns"
      ],
      "metadata": {
        "id": "AVonYW9wGqvI"
      }
    },
    {
      "cell_type": "markdown",
      "source": [
        "The column 'Car' has too many missing elements to reliably impute. Hence removed from the dataset."
      ],
      "metadata": {
        "id": "yX9uFzYAGqvJ"
      }
    },
    {
      "cell_type": "code",
      "source": [
        "train_nored = train_df.drop(['car','travelled_more_than_5mins_for_offer'], axis = 1)\n",
        "test_nored = test_df.drop(['car','travelled_more_than_5mins_for_offer'], axis = 1)"
      ],
      "metadata": {
        "id": "nL5G40vBGqvJ"
      },
      "execution_count": null,
      "outputs": []
    },
    {
      "cell_type": "code",
      "source": [
        "train_nored.shape, test_nored.shape"
      ],
      "metadata": {
        "colab": {
          "base_uri": "https://localhost:8080/"
        },
        "outputId": "c5193989-84a9-4fd0-a194-9e99dafbf851",
        "id": "SN3CZFEVGqvJ"
      },
      "execution_count": null,
      "outputs": [
        {
          "output_type": "execute_result",
          "data": {
            "text/plain": [
              "((12379, 29), (5305, 28))"
            ]
          },
          "metadata": {},
          "execution_count": 10
        }
      ]
    },
    {
      "cell_type": "markdown",
      "source": [
        "#Ordinal Encoding and Imputation"
      ],
      "metadata": {
        "id": "J1-vOCAaIuZ2"
      }
    },
    {
      "cell_type": "code",
      "source": [
        "#Dictionary for encoding\n",
        "custom_encoding_dict = {'offer expiration': {'2days':48, '10hours':10},\n",
        "                 'income_range': {'₹100000 or More': 100000, '₹87500 - ₹99999': 87500, '₹37500 - ₹49999': 37500, 'Less than ₹12500': 5000, '₹50000 - ₹62499': 50000,\n",
        "                                  '₹12500 - ₹24999': 12500, '₹75000 - ₹87499': 75000, '₹25000 - ₹37499': 25000, '₹62500 - ₹74999': 62500},\n",
        "                 'no_visited_Cold drinks': {'4~8':3,'less1':1, 'never':0, '1~3':2, 'gt8': 4},\n",
        "                 'Restaur_spend_less_than20': {'less1':1, '4~8':3, '1~3':2, 'gt8':4, 'never': 0},\n",
        "                 'age': {'36':36, '50plus':50, '26':26, '46':46, '21':21, 'below21':18, '41':41, '31':31},\n",
        "                 'no_visited_bars': {'less1':1, 'never':0, '1~3':2, '4~8':3, 'gt8':4},\n",
        "                 'Qualification': {'Bachelors degree': 3,  'Some college - no degree': 2, 'Graduate degree (Masters or Doctorate)': 5, 'Associates degree': 4,\n",
        "                                   'High School Graduate': 1, 'Some High School': 0 },\n",
        "                 'no_Take-aways': {'less1':1, 'never':0, '1~3':2, '4~8':3, 'gt8':4},\n",
        "                 'Restaur_spend_greater_than20': {'less1':1, 'never':0, '1~3':2, '4~8':3, 'gt8':4},\n",
        "                 }\n",
        "\n",
        "one_hot_encoding_list = ['Marital Status', 'gender' , 'Customer type', 'Job/Job Industry', 'Climate' ,'drop location','restaurant type']\n",
        "no_encoding_list = ['travelled_more_than_15mins_for_offer', 'Prefer western over chinese','travelled_more_than_25mins_for_offer', 'restuarant_same_direction_house',\n",
        "                    'Cooks regularly', 'is foodie','restuarant_opposite_direction_house', 'has Children','visit restaurant with rating (avg)', 'temperature', 'Travel Time', 'Prefer home food' ]"
      ],
      "metadata": {
        "id": "qw-n5yPnIxjL"
      },
      "execution_count": null,
      "outputs": []
    },
    {
      "cell_type": "code",
      "source": [
        "print(len(custom_encoding_dict) + len(one_hot_encoding_list) + len(no_encoding_list))"
      ],
      "metadata": {
        "colab": {
          "base_uri": "https://localhost:8080/"
        },
        "id": "S17UH39hN2Mr",
        "outputId": "d4559360-7e35-4e53-8c16-74d96ca7cb60"
      },
      "execution_count": null,
      "outputs": [
        {
          "output_type": "stream",
          "name": "stdout",
          "text": [
            "28\n"
          ]
        }
      ]
    },
    {
      "cell_type": "code",
      "source": [
        "train_enc = train_nored.copy()\n",
        "test_enc = test_nored.copy()"
      ],
      "metadata": {
        "id": "yRn4xGR-X7QN"
      },
      "execution_count": null,
      "outputs": []
    },
    {
      "cell_type": "code",
      "source": [
        "for feature in custom_encoding_dict.keys():\n",
        "  train_enc[feature] = train_nored[feature].map(custom_encoding_dict[feature])\n",
        "  test_enc[feature] = test_nored[feature].map(custom_encoding_dict[feature])\n",
        "\n",
        "train_enc.head()"
      ],
      "metadata": {
        "colab": {
          "base_uri": "https://localhost:8080/",
          "height": 456
        },
        "id": "7rG_8YbfYAFI",
        "outputId": "17b76714-d25a-4660-cdfd-e1cc14318f66"
      },
      "execution_count": null,
      "outputs": [
        {
          "output_type": "execute_result",
          "data": {
            "text/plain": [
              "   offer expiration  income_range  no_visited_Cold drinks  \\\n",
              "0                48        100000                     3.0   \n",
              "1                48         87500                     3.0   \n",
              "2                48         87500                     1.0   \n",
              "3                10         37500                     1.0   \n",
              "4                48        100000                     0.0   \n",
              "\n",
              "   travelled_more_than_15mins_for_offer  Restaur_spend_less_than20  \\\n",
              "0                                     1                        1.0   \n",
              "1                                     0                        3.0   \n",
              "2                                     1                        2.0   \n",
              "3                                     0                        2.0   \n",
              "4                                     1                        2.0   \n",
              "\n",
              "    Marital Status       restaurant type  age  Prefer western over chinese  \\\n",
              "0  Married partner     4 star restaurant   36                            0   \n",
              "1  Married partner  Take-away restaurant   50                            0   \n",
              "2           Single           Cold drinks   26                            1   \n",
              "3           Single  Take-away restaurant   46                            1   \n",
              "4           Single     4 star restaurant   21                            0   \n",
              "\n",
              "   travelled_more_than_25mins_for_offer  ...  \\\n",
              "0                                     0  ...   \n",
              "1                                     0  ...   \n",
              "2                                     0  ...   \n",
              "3                                     0  ...   \n",
              "4                                     1  ...   \n",
              "\n",
              "   restuarant_opposite_direction_house has Children  \\\n",
              "0                                    0            0   \n",
              "1                                    0            1   \n",
              "2                                    1            1   \n",
              "3                                    0            1   \n",
              "4                                    1            0   \n",
              "\n",
              "   visit restaurant with rating (avg)  temperature  \\\n",
              "0                                   4           67   \n",
              "1                                   3           89   \n",
              "2                                   4           67   \n",
              "3                                   3           89   \n",
              "4                                   3           40   \n",
              "\n",
              "  Restaur_spend_greater_than20  Travel Time  Climate  drop location  \\\n",
              "0                          1.0           22   Spring     Location B   \n",
              "1                          2.0           18   Summer     Location B   \n",
              "2                          1.0            7   Winter     Location A   \n",
              "3                          2.0            7   Summer     Location C   \n",
              "4                          1.0            7   Summer     Location C   \n",
              "\n",
              "  Prefer home food  Offer Accepted  \n",
              "0                0              No  \n",
              "1                0             Yes  \n",
              "2                1             Yes  \n",
              "3                0              No  \n",
              "4                0              No  \n",
              "\n",
              "[5 rows x 29 columns]"
            ],
            "text/html": [
              "\n",
              "  <div id=\"df-6e72ea6e-0b22-45ed-93b4-922177c154b3\">\n",
              "    <div class=\"colab-df-container\">\n",
              "      <div>\n",
              "<style scoped>\n",
              "    .dataframe tbody tr th:only-of-type {\n",
              "        vertical-align: middle;\n",
              "    }\n",
              "\n",
              "    .dataframe tbody tr th {\n",
              "        vertical-align: top;\n",
              "    }\n",
              "\n",
              "    .dataframe thead th {\n",
              "        text-align: right;\n",
              "    }\n",
              "</style>\n",
              "<table border=\"1\" class=\"dataframe\">\n",
              "  <thead>\n",
              "    <tr style=\"text-align: right;\">\n",
              "      <th></th>\n",
              "      <th>offer expiration</th>\n",
              "      <th>income_range</th>\n",
              "      <th>no_visited_Cold drinks</th>\n",
              "      <th>travelled_more_than_15mins_for_offer</th>\n",
              "      <th>Restaur_spend_less_than20</th>\n",
              "      <th>Marital Status</th>\n",
              "      <th>restaurant type</th>\n",
              "      <th>age</th>\n",
              "      <th>Prefer western over chinese</th>\n",
              "      <th>travelled_more_than_25mins_for_offer</th>\n",
              "      <th>...</th>\n",
              "      <th>restuarant_opposite_direction_house</th>\n",
              "      <th>has Children</th>\n",
              "      <th>visit restaurant with rating (avg)</th>\n",
              "      <th>temperature</th>\n",
              "      <th>Restaur_spend_greater_than20</th>\n",
              "      <th>Travel Time</th>\n",
              "      <th>Climate</th>\n",
              "      <th>drop location</th>\n",
              "      <th>Prefer home food</th>\n",
              "      <th>Offer Accepted</th>\n",
              "    </tr>\n",
              "  </thead>\n",
              "  <tbody>\n",
              "    <tr>\n",
              "      <th>0</th>\n",
              "      <td>48</td>\n",
              "      <td>100000</td>\n",
              "      <td>3.0</td>\n",
              "      <td>1</td>\n",
              "      <td>1.0</td>\n",
              "      <td>Married partner</td>\n",
              "      <td>4 star restaurant</td>\n",
              "      <td>36</td>\n",
              "      <td>0</td>\n",
              "      <td>0</td>\n",
              "      <td>...</td>\n",
              "      <td>0</td>\n",
              "      <td>0</td>\n",
              "      <td>4</td>\n",
              "      <td>67</td>\n",
              "      <td>1.0</td>\n",
              "      <td>22</td>\n",
              "      <td>Spring</td>\n",
              "      <td>Location B</td>\n",
              "      <td>0</td>\n",
              "      <td>No</td>\n",
              "    </tr>\n",
              "    <tr>\n",
              "      <th>1</th>\n",
              "      <td>48</td>\n",
              "      <td>87500</td>\n",
              "      <td>3.0</td>\n",
              "      <td>0</td>\n",
              "      <td>3.0</td>\n",
              "      <td>Married partner</td>\n",
              "      <td>Take-away restaurant</td>\n",
              "      <td>50</td>\n",
              "      <td>0</td>\n",
              "      <td>0</td>\n",
              "      <td>...</td>\n",
              "      <td>0</td>\n",
              "      <td>1</td>\n",
              "      <td>3</td>\n",
              "      <td>89</td>\n",
              "      <td>2.0</td>\n",
              "      <td>18</td>\n",
              "      <td>Summer</td>\n",
              "      <td>Location B</td>\n",
              "      <td>0</td>\n",
              "      <td>Yes</td>\n",
              "    </tr>\n",
              "    <tr>\n",
              "      <th>2</th>\n",
              "      <td>48</td>\n",
              "      <td>87500</td>\n",
              "      <td>1.0</td>\n",
              "      <td>1</td>\n",
              "      <td>2.0</td>\n",
              "      <td>Single</td>\n",
              "      <td>Cold drinks</td>\n",
              "      <td>26</td>\n",
              "      <td>1</td>\n",
              "      <td>0</td>\n",
              "      <td>...</td>\n",
              "      <td>1</td>\n",
              "      <td>1</td>\n",
              "      <td>4</td>\n",
              "      <td>67</td>\n",
              "      <td>1.0</td>\n",
              "      <td>7</td>\n",
              "      <td>Winter</td>\n",
              "      <td>Location A</td>\n",
              "      <td>1</td>\n",
              "      <td>Yes</td>\n",
              "    </tr>\n",
              "    <tr>\n",
              "      <th>3</th>\n",
              "      <td>10</td>\n",
              "      <td>37500</td>\n",
              "      <td>1.0</td>\n",
              "      <td>0</td>\n",
              "      <td>2.0</td>\n",
              "      <td>Single</td>\n",
              "      <td>Take-away restaurant</td>\n",
              "      <td>46</td>\n",
              "      <td>1</td>\n",
              "      <td>0</td>\n",
              "      <td>...</td>\n",
              "      <td>0</td>\n",
              "      <td>1</td>\n",
              "      <td>3</td>\n",
              "      <td>89</td>\n",
              "      <td>2.0</td>\n",
              "      <td>7</td>\n",
              "      <td>Summer</td>\n",
              "      <td>Location C</td>\n",
              "      <td>0</td>\n",
              "      <td>No</td>\n",
              "    </tr>\n",
              "    <tr>\n",
              "      <th>4</th>\n",
              "      <td>48</td>\n",
              "      <td>100000</td>\n",
              "      <td>0.0</td>\n",
              "      <td>1</td>\n",
              "      <td>2.0</td>\n",
              "      <td>Single</td>\n",
              "      <td>4 star restaurant</td>\n",
              "      <td>21</td>\n",
              "      <td>0</td>\n",
              "      <td>1</td>\n",
              "      <td>...</td>\n",
              "      <td>1</td>\n",
              "      <td>0</td>\n",
              "      <td>3</td>\n",
              "      <td>40</td>\n",
              "      <td>1.0</td>\n",
              "      <td>7</td>\n",
              "      <td>Summer</td>\n",
              "      <td>Location C</td>\n",
              "      <td>0</td>\n",
              "      <td>No</td>\n",
              "    </tr>\n",
              "  </tbody>\n",
              "</table>\n",
              "<p>5 rows × 29 columns</p>\n",
              "</div>\n",
              "      <button class=\"colab-df-convert\" onclick=\"convertToInteractive('df-6e72ea6e-0b22-45ed-93b4-922177c154b3')\"\n",
              "              title=\"Convert this dataframe to an interactive table.\"\n",
              "              style=\"display:none;\">\n",
              "        \n",
              "  <svg xmlns=\"http://www.w3.org/2000/svg\" height=\"24px\"viewBox=\"0 0 24 24\"\n",
              "       width=\"24px\">\n",
              "    <path d=\"M0 0h24v24H0V0z\" fill=\"none\"/>\n",
              "    <path d=\"M18.56 5.44l.94 2.06.94-2.06 2.06-.94-2.06-.94-.94-2.06-.94 2.06-2.06.94zm-11 1L8.5 8.5l.94-2.06 2.06-.94-2.06-.94L8.5 2.5l-.94 2.06-2.06.94zm10 10l.94 2.06.94-2.06 2.06-.94-2.06-.94-.94-2.06-.94 2.06-2.06.94z\"/><path d=\"M17.41 7.96l-1.37-1.37c-.4-.4-.92-.59-1.43-.59-.52 0-1.04.2-1.43.59L10.3 9.45l-7.72 7.72c-.78.78-.78 2.05 0 2.83L4 21.41c.39.39.9.59 1.41.59.51 0 1.02-.2 1.41-.59l7.78-7.78 2.81-2.81c.8-.78.8-2.07 0-2.86zM5.41 20L4 18.59l7.72-7.72 1.47 1.35L5.41 20z\"/>\n",
              "  </svg>\n",
              "      </button>\n",
              "      \n",
              "  <style>\n",
              "    .colab-df-container {\n",
              "      display:flex;\n",
              "      flex-wrap:wrap;\n",
              "      gap: 12px;\n",
              "    }\n",
              "\n",
              "    .colab-df-convert {\n",
              "      background-color: #E8F0FE;\n",
              "      border: none;\n",
              "      border-radius: 50%;\n",
              "      cursor: pointer;\n",
              "      display: none;\n",
              "      fill: #1967D2;\n",
              "      height: 32px;\n",
              "      padding: 0 0 0 0;\n",
              "      width: 32px;\n",
              "    }\n",
              "\n",
              "    .colab-df-convert:hover {\n",
              "      background-color: #E2EBFA;\n",
              "      box-shadow: 0px 1px 2px rgba(60, 64, 67, 0.3), 0px 1px 3px 1px rgba(60, 64, 67, 0.15);\n",
              "      fill: #174EA6;\n",
              "    }\n",
              "\n",
              "    [theme=dark] .colab-df-convert {\n",
              "      background-color: #3B4455;\n",
              "      fill: #D2E3FC;\n",
              "    }\n",
              "\n",
              "    [theme=dark] .colab-df-convert:hover {\n",
              "      background-color: #434B5C;\n",
              "      box-shadow: 0px 1px 3px 1px rgba(0, 0, 0, 0.15);\n",
              "      filter: drop-shadow(0px 1px 2px rgba(0, 0, 0, 0.3));\n",
              "      fill: #FFFFFF;\n",
              "    }\n",
              "  </style>\n",
              "\n",
              "      <script>\n",
              "        const buttonEl =\n",
              "          document.querySelector('#df-6e72ea6e-0b22-45ed-93b4-922177c154b3 button.colab-df-convert');\n",
              "        buttonEl.style.display =\n",
              "          google.colab.kernel.accessAllowed ? 'block' : 'none';\n",
              "\n",
              "        async function convertToInteractive(key) {\n",
              "          const element = document.querySelector('#df-6e72ea6e-0b22-45ed-93b4-922177c154b3');\n",
              "          const dataTable =\n",
              "            await google.colab.kernel.invokeFunction('convertToInteractive',\n",
              "                                                     [key], {});\n",
              "          if (!dataTable) return;\n",
              "\n",
              "          const docLinkHtml = 'Like what you see? Visit the ' +\n",
              "            '<a target=\"_blank\" href=https://colab.research.google.com/notebooks/data_table.ipynb>data table notebook</a>'\n",
              "            + ' to learn more about interactive tables.';\n",
              "          element.innerHTML = '';\n",
              "          dataTable['output_type'] = 'display_data';\n",
              "          await google.colab.output.renderOutput(dataTable, element);\n",
              "          const docLink = document.createElement('div');\n",
              "          docLink.innerHTML = docLinkHtml;\n",
              "          element.appendChild(docLink);\n",
              "        }\n",
              "      </script>\n",
              "    </div>\n",
              "  </div>\n",
              "  "
            ]
          },
          "metadata": {},
          "execution_count": 14
        }
      ]
    },
    {
      "cell_type": "code",
      "source": [
        "from sklearn.preprocessing import OrdinalEncoder, LabelEncoder\n",
        "le = LabelEncoder()\n",
        "for feature in one_hot_encoding_list:\n",
        "  train_enc[feature] = le.fit_transform(train_enc.loc[:, feature])\n",
        "  test_enc[feature] = le.transform(test_enc.loc[:, feature])\n",
        "\n",
        "train_enc['Offer Accepted'] = le.fit_transform(train_enc.loc[:, 'Offer Accepted'])\n",
        "train_enc.head()\n"
      ],
      "metadata": {
        "colab": {
          "base_uri": "https://localhost:8080/",
          "height": 369
        },
        "id": "ANqNbMhfzXkx",
        "outputId": "22cb19a1-efd7-4402-9dfd-ad8ff241da6e"
      },
      "execution_count": null,
      "outputs": [
        {
          "output_type": "execute_result",
          "data": {
            "text/plain": [
              "   offer expiration  income_range  no_visited_Cold drinks  \\\n",
              "0                48        100000                     3.0   \n",
              "1                48         87500                     3.0   \n",
              "2                48         87500                     1.0   \n",
              "3                10         37500                     1.0   \n",
              "4                48        100000                     0.0   \n",
              "\n",
              "   travelled_more_than_15mins_for_offer  Restaur_spend_less_than20  \\\n",
              "0                                     1                        1.0   \n",
              "1                                     0                        3.0   \n",
              "2                                     1                        2.0   \n",
              "3                                     0                        2.0   \n",
              "4                                     1                        2.0   \n",
              "\n",
              "   Marital Status  restaurant type  age  Prefer western over chinese  \\\n",
              "0               1                1   36                            0   \n",
              "1               1                4   50                            0   \n",
              "2               2                2   26                            1   \n",
              "3               2                4   46                            1   \n",
              "4               2                1   21                            0   \n",
              "\n",
              "   travelled_more_than_25mins_for_offer  ...  \\\n",
              "0                                     0  ...   \n",
              "1                                     0  ...   \n",
              "2                                     0  ...   \n",
              "3                                     0  ...   \n",
              "4                                     1  ...   \n",
              "\n",
              "   restuarant_opposite_direction_house  has Children  \\\n",
              "0                                    0             0   \n",
              "1                                    0             1   \n",
              "2                                    1             1   \n",
              "3                                    0             1   \n",
              "4                                    1             0   \n",
              "\n",
              "   visit restaurant with rating (avg)  temperature  \\\n",
              "0                                   4           67   \n",
              "1                                   3           89   \n",
              "2                                   4           67   \n",
              "3                                   3           89   \n",
              "4                                   3           40   \n",
              "\n",
              "   Restaur_spend_greater_than20  Travel Time  Climate  drop location  \\\n",
              "0                           1.0           22        0              1   \n",
              "1                           2.0           18        1              1   \n",
              "2                           1.0            7        2              0   \n",
              "3                           2.0            7        1              2   \n",
              "4                           1.0            7        1              2   \n",
              "\n",
              "   Prefer home food  Offer Accepted  \n",
              "0                 0               0  \n",
              "1                 0               1  \n",
              "2                 1               1  \n",
              "3                 0               0  \n",
              "4                 0               0  \n",
              "\n",
              "[5 rows x 29 columns]"
            ],
            "text/html": [
              "\n",
              "  <div id=\"df-10249746-69de-4602-8022-a5c2c148bf99\">\n",
              "    <div class=\"colab-df-container\">\n",
              "      <div>\n",
              "<style scoped>\n",
              "    .dataframe tbody tr th:only-of-type {\n",
              "        vertical-align: middle;\n",
              "    }\n",
              "\n",
              "    .dataframe tbody tr th {\n",
              "        vertical-align: top;\n",
              "    }\n",
              "\n",
              "    .dataframe thead th {\n",
              "        text-align: right;\n",
              "    }\n",
              "</style>\n",
              "<table border=\"1\" class=\"dataframe\">\n",
              "  <thead>\n",
              "    <tr style=\"text-align: right;\">\n",
              "      <th></th>\n",
              "      <th>offer expiration</th>\n",
              "      <th>income_range</th>\n",
              "      <th>no_visited_Cold drinks</th>\n",
              "      <th>travelled_more_than_15mins_for_offer</th>\n",
              "      <th>Restaur_spend_less_than20</th>\n",
              "      <th>Marital Status</th>\n",
              "      <th>restaurant type</th>\n",
              "      <th>age</th>\n",
              "      <th>Prefer western over chinese</th>\n",
              "      <th>travelled_more_than_25mins_for_offer</th>\n",
              "      <th>...</th>\n",
              "      <th>restuarant_opposite_direction_house</th>\n",
              "      <th>has Children</th>\n",
              "      <th>visit restaurant with rating (avg)</th>\n",
              "      <th>temperature</th>\n",
              "      <th>Restaur_spend_greater_than20</th>\n",
              "      <th>Travel Time</th>\n",
              "      <th>Climate</th>\n",
              "      <th>drop location</th>\n",
              "      <th>Prefer home food</th>\n",
              "      <th>Offer Accepted</th>\n",
              "    </tr>\n",
              "  </thead>\n",
              "  <tbody>\n",
              "    <tr>\n",
              "      <th>0</th>\n",
              "      <td>48</td>\n",
              "      <td>100000</td>\n",
              "      <td>3.0</td>\n",
              "      <td>1</td>\n",
              "      <td>1.0</td>\n",
              "      <td>1</td>\n",
              "      <td>1</td>\n",
              "      <td>36</td>\n",
              "      <td>0</td>\n",
              "      <td>0</td>\n",
              "      <td>...</td>\n",
              "      <td>0</td>\n",
              "      <td>0</td>\n",
              "      <td>4</td>\n",
              "      <td>67</td>\n",
              "      <td>1.0</td>\n",
              "      <td>22</td>\n",
              "      <td>0</td>\n",
              "      <td>1</td>\n",
              "      <td>0</td>\n",
              "      <td>0</td>\n",
              "    </tr>\n",
              "    <tr>\n",
              "      <th>1</th>\n",
              "      <td>48</td>\n",
              "      <td>87500</td>\n",
              "      <td>3.0</td>\n",
              "      <td>0</td>\n",
              "      <td>3.0</td>\n",
              "      <td>1</td>\n",
              "      <td>4</td>\n",
              "      <td>50</td>\n",
              "      <td>0</td>\n",
              "      <td>0</td>\n",
              "      <td>...</td>\n",
              "      <td>0</td>\n",
              "      <td>1</td>\n",
              "      <td>3</td>\n",
              "      <td>89</td>\n",
              "      <td>2.0</td>\n",
              "      <td>18</td>\n",
              "      <td>1</td>\n",
              "      <td>1</td>\n",
              "      <td>0</td>\n",
              "      <td>1</td>\n",
              "    </tr>\n",
              "    <tr>\n",
              "      <th>2</th>\n",
              "      <td>48</td>\n",
              "      <td>87500</td>\n",
              "      <td>1.0</td>\n",
              "      <td>1</td>\n",
              "      <td>2.0</td>\n",
              "      <td>2</td>\n",
              "      <td>2</td>\n",
              "      <td>26</td>\n",
              "      <td>1</td>\n",
              "      <td>0</td>\n",
              "      <td>...</td>\n",
              "      <td>1</td>\n",
              "      <td>1</td>\n",
              "      <td>4</td>\n",
              "      <td>67</td>\n",
              "      <td>1.0</td>\n",
              "      <td>7</td>\n",
              "      <td>2</td>\n",
              "      <td>0</td>\n",
              "      <td>1</td>\n",
              "      <td>1</td>\n",
              "    </tr>\n",
              "    <tr>\n",
              "      <th>3</th>\n",
              "      <td>10</td>\n",
              "      <td>37500</td>\n",
              "      <td>1.0</td>\n",
              "      <td>0</td>\n",
              "      <td>2.0</td>\n",
              "      <td>2</td>\n",
              "      <td>4</td>\n",
              "      <td>46</td>\n",
              "      <td>1</td>\n",
              "      <td>0</td>\n",
              "      <td>...</td>\n",
              "      <td>0</td>\n",
              "      <td>1</td>\n",
              "      <td>3</td>\n",
              "      <td>89</td>\n",
              "      <td>2.0</td>\n",
              "      <td>7</td>\n",
              "      <td>1</td>\n",
              "      <td>2</td>\n",
              "      <td>0</td>\n",
              "      <td>0</td>\n",
              "    </tr>\n",
              "    <tr>\n",
              "      <th>4</th>\n",
              "      <td>48</td>\n",
              "      <td>100000</td>\n",
              "      <td>0.0</td>\n",
              "      <td>1</td>\n",
              "      <td>2.0</td>\n",
              "      <td>2</td>\n",
              "      <td>1</td>\n",
              "      <td>21</td>\n",
              "      <td>0</td>\n",
              "      <td>1</td>\n",
              "      <td>...</td>\n",
              "      <td>1</td>\n",
              "      <td>0</td>\n",
              "      <td>3</td>\n",
              "      <td>40</td>\n",
              "      <td>1.0</td>\n",
              "      <td>7</td>\n",
              "      <td>1</td>\n",
              "      <td>2</td>\n",
              "      <td>0</td>\n",
              "      <td>0</td>\n",
              "    </tr>\n",
              "  </tbody>\n",
              "</table>\n",
              "<p>5 rows × 29 columns</p>\n",
              "</div>\n",
              "      <button class=\"colab-df-convert\" onclick=\"convertToInteractive('df-10249746-69de-4602-8022-a5c2c148bf99')\"\n",
              "              title=\"Convert this dataframe to an interactive table.\"\n",
              "              style=\"display:none;\">\n",
              "        \n",
              "  <svg xmlns=\"http://www.w3.org/2000/svg\" height=\"24px\"viewBox=\"0 0 24 24\"\n",
              "       width=\"24px\">\n",
              "    <path d=\"M0 0h24v24H0V0z\" fill=\"none\"/>\n",
              "    <path d=\"M18.56 5.44l.94 2.06.94-2.06 2.06-.94-2.06-.94-.94-2.06-.94 2.06-2.06.94zm-11 1L8.5 8.5l.94-2.06 2.06-.94-2.06-.94L8.5 2.5l-.94 2.06-2.06.94zm10 10l.94 2.06.94-2.06 2.06-.94-2.06-.94-.94-2.06-.94 2.06-2.06.94z\"/><path d=\"M17.41 7.96l-1.37-1.37c-.4-.4-.92-.59-1.43-.59-.52 0-1.04.2-1.43.59L10.3 9.45l-7.72 7.72c-.78.78-.78 2.05 0 2.83L4 21.41c.39.39.9.59 1.41.59.51 0 1.02-.2 1.41-.59l7.78-7.78 2.81-2.81c.8-.78.8-2.07 0-2.86zM5.41 20L4 18.59l7.72-7.72 1.47 1.35L5.41 20z\"/>\n",
              "  </svg>\n",
              "      </button>\n",
              "      \n",
              "  <style>\n",
              "    .colab-df-container {\n",
              "      display:flex;\n",
              "      flex-wrap:wrap;\n",
              "      gap: 12px;\n",
              "    }\n",
              "\n",
              "    .colab-df-convert {\n",
              "      background-color: #E8F0FE;\n",
              "      border: none;\n",
              "      border-radius: 50%;\n",
              "      cursor: pointer;\n",
              "      display: none;\n",
              "      fill: #1967D2;\n",
              "      height: 32px;\n",
              "      padding: 0 0 0 0;\n",
              "      width: 32px;\n",
              "    }\n",
              "\n",
              "    .colab-df-convert:hover {\n",
              "      background-color: #E2EBFA;\n",
              "      box-shadow: 0px 1px 2px rgba(60, 64, 67, 0.3), 0px 1px 3px 1px rgba(60, 64, 67, 0.15);\n",
              "      fill: #174EA6;\n",
              "    }\n",
              "\n",
              "    [theme=dark] .colab-df-convert {\n",
              "      background-color: #3B4455;\n",
              "      fill: #D2E3FC;\n",
              "    }\n",
              "\n",
              "    [theme=dark] .colab-df-convert:hover {\n",
              "      background-color: #434B5C;\n",
              "      box-shadow: 0px 1px 3px 1px rgba(0, 0, 0, 0.15);\n",
              "      filter: drop-shadow(0px 1px 2px rgba(0, 0, 0, 0.3));\n",
              "      fill: #FFFFFF;\n",
              "    }\n",
              "  </style>\n",
              "\n",
              "      <script>\n",
              "        const buttonEl =\n",
              "          document.querySelector('#df-10249746-69de-4602-8022-a5c2c148bf99 button.colab-df-convert');\n",
              "        buttonEl.style.display =\n",
              "          google.colab.kernel.accessAllowed ? 'block' : 'none';\n",
              "\n",
              "        async function convertToInteractive(key) {\n",
              "          const element = document.querySelector('#df-10249746-69de-4602-8022-a5c2c148bf99');\n",
              "          const dataTable =\n",
              "            await google.colab.kernel.invokeFunction('convertToInteractive',\n",
              "                                                     [key], {});\n",
              "          if (!dataTable) return;\n",
              "\n",
              "          const docLinkHtml = 'Like what you see? Visit the ' +\n",
              "            '<a target=\"_blank\" href=https://colab.research.google.com/notebooks/data_table.ipynb>data table notebook</a>'\n",
              "            + ' to learn more about interactive tables.';\n",
              "          element.innerHTML = '';\n",
              "          dataTable['output_type'] = 'display_data';\n",
              "          await google.colab.output.renderOutput(dataTable, element);\n",
              "          const docLink = document.createElement('div');\n",
              "          docLink.innerHTML = docLinkHtml;\n",
              "          element.appendChild(docLink);\n",
              "        }\n",
              "      </script>\n",
              "    </div>\n",
              "  </div>\n",
              "  "
            ]
          },
          "metadata": {},
          "execution_count": 15
        }
      ]
    },
    {
      "cell_type": "code",
      "source": [
        "test_enc.head()"
      ],
      "metadata": {
        "colab": {
          "base_uri": "https://localhost:8080/",
          "height": 369
        },
        "id": "O8p8xWv92HH8",
        "outputId": "1ae4fc5c-550a-427f-e5b2-7a1fe6a08f87"
      },
      "execution_count": null,
      "outputs": [
        {
          "output_type": "execute_result",
          "data": {
            "text/plain": [
              "   offer expiration  income_range  no_visited_Cold drinks  \\\n",
              "0                48         37500                     2.0   \n",
              "1                10         25000                     3.0   \n",
              "2                48        100000                     0.0   \n",
              "3                48         25000                     0.0   \n",
              "4                10         12500                     0.0   \n",
              "\n",
              "   travelled_more_than_15mins_for_offer  Restaur_spend_less_than20  \\\n",
              "0                                     1                        2.0   \n",
              "1                                     0                        2.0   \n",
              "2                                     1                        0.0   \n",
              "3                                     1                        2.0   \n",
              "4                                     0                        2.0   \n",
              "\n",
              "   Marital Status  restaurant type  age  Prefer western over chinese  \\\n",
              "0               0                4   50                            0   \n",
              "1               3                2   21                            1   \n",
              "2               2                2   21                            1   \n",
              "3               1                3   41                            0   \n",
              "4               2                0   31                            1   \n",
              "\n",
              "   travelled_more_than_25mins_for_offer  ...  Job/Job Industry  \\\n",
              "0                                     1  ...                21   \n",
              "1                                     0  ...                 5   \n",
              "2                                     0  ...                24   \n",
              "3                                     0  ...                24   \n",
              "4                                     0  ...                24   \n",
              "\n",
              "   restuarant_opposite_direction_house  has Children  \\\n",
              "0                                    1             1   \n",
              "1                                    1             1   \n",
              "2                                    1             0   \n",
              "3                                    1             1   \n",
              "4                                    0             0   \n",
              "\n",
              "   visit restaurant with rating (avg)  temperature  \\\n",
              "0                                   4           89   \n",
              "1                                   0           67   \n",
              "2                                   4           67   \n",
              "3                                   0           40   \n",
              "4                                   0           89   \n",
              "\n",
              "   Restaur_spend_greater_than20  Travel Time  Climate  drop location  \\\n",
              "0                           1.0            7        1              2   \n",
              "1                           1.0           18        1              0   \n",
              "2                           0.0            7        1              2   \n",
              "3                           1.0           18        0              2   \n",
              "4                           2.0           18        1              1   \n",
              "\n",
              "   Prefer home food  \n",
              "0                 0  \n",
              "1                 1  \n",
              "2                 0  \n",
              "3                 1  \n",
              "4                 1  \n",
              "\n",
              "[5 rows x 28 columns]"
            ],
            "text/html": [
              "\n",
              "  <div id=\"df-d09a6731-c77b-40ec-9d3b-256c166382cb\">\n",
              "    <div class=\"colab-df-container\">\n",
              "      <div>\n",
              "<style scoped>\n",
              "    .dataframe tbody tr th:only-of-type {\n",
              "        vertical-align: middle;\n",
              "    }\n",
              "\n",
              "    .dataframe tbody tr th {\n",
              "        vertical-align: top;\n",
              "    }\n",
              "\n",
              "    .dataframe thead th {\n",
              "        text-align: right;\n",
              "    }\n",
              "</style>\n",
              "<table border=\"1\" class=\"dataframe\">\n",
              "  <thead>\n",
              "    <tr style=\"text-align: right;\">\n",
              "      <th></th>\n",
              "      <th>offer expiration</th>\n",
              "      <th>income_range</th>\n",
              "      <th>no_visited_Cold drinks</th>\n",
              "      <th>travelled_more_than_15mins_for_offer</th>\n",
              "      <th>Restaur_spend_less_than20</th>\n",
              "      <th>Marital Status</th>\n",
              "      <th>restaurant type</th>\n",
              "      <th>age</th>\n",
              "      <th>Prefer western over chinese</th>\n",
              "      <th>travelled_more_than_25mins_for_offer</th>\n",
              "      <th>...</th>\n",
              "      <th>Job/Job Industry</th>\n",
              "      <th>restuarant_opposite_direction_house</th>\n",
              "      <th>has Children</th>\n",
              "      <th>visit restaurant with rating (avg)</th>\n",
              "      <th>temperature</th>\n",
              "      <th>Restaur_spend_greater_than20</th>\n",
              "      <th>Travel Time</th>\n",
              "      <th>Climate</th>\n",
              "      <th>drop location</th>\n",
              "      <th>Prefer home food</th>\n",
              "    </tr>\n",
              "  </thead>\n",
              "  <tbody>\n",
              "    <tr>\n",
              "      <th>0</th>\n",
              "      <td>48</td>\n",
              "      <td>37500</td>\n",
              "      <td>2.0</td>\n",
              "      <td>1</td>\n",
              "      <td>2.0</td>\n",
              "      <td>0</td>\n",
              "      <td>4</td>\n",
              "      <td>50</td>\n",
              "      <td>0</td>\n",
              "      <td>1</td>\n",
              "      <td>...</td>\n",
              "      <td>21</td>\n",
              "      <td>1</td>\n",
              "      <td>1</td>\n",
              "      <td>4</td>\n",
              "      <td>89</td>\n",
              "      <td>1.0</td>\n",
              "      <td>7</td>\n",
              "      <td>1</td>\n",
              "      <td>2</td>\n",
              "      <td>0</td>\n",
              "    </tr>\n",
              "    <tr>\n",
              "      <th>1</th>\n",
              "      <td>10</td>\n",
              "      <td>25000</td>\n",
              "      <td>3.0</td>\n",
              "      <td>0</td>\n",
              "      <td>2.0</td>\n",
              "      <td>3</td>\n",
              "      <td>2</td>\n",
              "      <td>21</td>\n",
              "      <td>1</td>\n",
              "      <td>0</td>\n",
              "      <td>...</td>\n",
              "      <td>5</td>\n",
              "      <td>1</td>\n",
              "      <td>1</td>\n",
              "      <td>0</td>\n",
              "      <td>67</td>\n",
              "      <td>1.0</td>\n",
              "      <td>18</td>\n",
              "      <td>1</td>\n",
              "      <td>0</td>\n",
              "      <td>1</td>\n",
              "    </tr>\n",
              "    <tr>\n",
              "      <th>2</th>\n",
              "      <td>48</td>\n",
              "      <td>100000</td>\n",
              "      <td>0.0</td>\n",
              "      <td>1</td>\n",
              "      <td>0.0</td>\n",
              "      <td>2</td>\n",
              "      <td>2</td>\n",
              "      <td>21</td>\n",
              "      <td>1</td>\n",
              "      <td>0</td>\n",
              "      <td>...</td>\n",
              "      <td>24</td>\n",
              "      <td>1</td>\n",
              "      <td>0</td>\n",
              "      <td>4</td>\n",
              "      <td>67</td>\n",
              "      <td>0.0</td>\n",
              "      <td>7</td>\n",
              "      <td>1</td>\n",
              "      <td>2</td>\n",
              "      <td>0</td>\n",
              "    </tr>\n",
              "    <tr>\n",
              "      <th>3</th>\n",
              "      <td>48</td>\n",
              "      <td>25000</td>\n",
              "      <td>0.0</td>\n",
              "      <td>1</td>\n",
              "      <td>2.0</td>\n",
              "      <td>1</td>\n",
              "      <td>3</td>\n",
              "      <td>41</td>\n",
              "      <td>0</td>\n",
              "      <td>0</td>\n",
              "      <td>...</td>\n",
              "      <td>24</td>\n",
              "      <td>1</td>\n",
              "      <td>1</td>\n",
              "      <td>0</td>\n",
              "      <td>40</td>\n",
              "      <td>1.0</td>\n",
              "      <td>18</td>\n",
              "      <td>0</td>\n",
              "      <td>2</td>\n",
              "      <td>1</td>\n",
              "    </tr>\n",
              "    <tr>\n",
              "      <th>4</th>\n",
              "      <td>10</td>\n",
              "      <td>12500</td>\n",
              "      <td>0.0</td>\n",
              "      <td>0</td>\n",
              "      <td>2.0</td>\n",
              "      <td>2</td>\n",
              "      <td>0</td>\n",
              "      <td>31</td>\n",
              "      <td>1</td>\n",
              "      <td>0</td>\n",
              "      <td>...</td>\n",
              "      <td>24</td>\n",
              "      <td>0</td>\n",
              "      <td>0</td>\n",
              "      <td>0</td>\n",
              "      <td>89</td>\n",
              "      <td>2.0</td>\n",
              "      <td>18</td>\n",
              "      <td>1</td>\n",
              "      <td>1</td>\n",
              "      <td>1</td>\n",
              "    </tr>\n",
              "  </tbody>\n",
              "</table>\n",
              "<p>5 rows × 28 columns</p>\n",
              "</div>\n",
              "      <button class=\"colab-df-convert\" onclick=\"convertToInteractive('df-d09a6731-c77b-40ec-9d3b-256c166382cb')\"\n",
              "              title=\"Convert this dataframe to an interactive table.\"\n",
              "              style=\"display:none;\">\n",
              "        \n",
              "  <svg xmlns=\"http://www.w3.org/2000/svg\" height=\"24px\"viewBox=\"0 0 24 24\"\n",
              "       width=\"24px\">\n",
              "    <path d=\"M0 0h24v24H0V0z\" fill=\"none\"/>\n",
              "    <path d=\"M18.56 5.44l.94 2.06.94-2.06 2.06-.94-2.06-.94-.94-2.06-.94 2.06-2.06.94zm-11 1L8.5 8.5l.94-2.06 2.06-.94-2.06-.94L8.5 2.5l-.94 2.06-2.06.94zm10 10l.94 2.06.94-2.06 2.06-.94-2.06-.94-.94-2.06-.94 2.06-2.06.94z\"/><path d=\"M17.41 7.96l-1.37-1.37c-.4-.4-.92-.59-1.43-.59-.52 0-1.04.2-1.43.59L10.3 9.45l-7.72 7.72c-.78.78-.78 2.05 0 2.83L4 21.41c.39.39.9.59 1.41.59.51 0 1.02-.2 1.41-.59l7.78-7.78 2.81-2.81c.8-.78.8-2.07 0-2.86zM5.41 20L4 18.59l7.72-7.72 1.47 1.35L5.41 20z\"/>\n",
              "  </svg>\n",
              "      </button>\n",
              "      \n",
              "  <style>\n",
              "    .colab-df-container {\n",
              "      display:flex;\n",
              "      flex-wrap:wrap;\n",
              "      gap: 12px;\n",
              "    }\n",
              "\n",
              "    .colab-df-convert {\n",
              "      background-color: #E8F0FE;\n",
              "      border: none;\n",
              "      border-radius: 50%;\n",
              "      cursor: pointer;\n",
              "      display: none;\n",
              "      fill: #1967D2;\n",
              "      height: 32px;\n",
              "      padding: 0 0 0 0;\n",
              "      width: 32px;\n",
              "    }\n",
              "\n",
              "    .colab-df-convert:hover {\n",
              "      background-color: #E2EBFA;\n",
              "      box-shadow: 0px 1px 2px rgba(60, 64, 67, 0.3), 0px 1px 3px 1px rgba(60, 64, 67, 0.15);\n",
              "      fill: #174EA6;\n",
              "    }\n",
              "\n",
              "    [theme=dark] .colab-df-convert {\n",
              "      background-color: #3B4455;\n",
              "      fill: #D2E3FC;\n",
              "    }\n",
              "\n",
              "    [theme=dark] .colab-df-convert:hover {\n",
              "      background-color: #434B5C;\n",
              "      box-shadow: 0px 1px 3px 1px rgba(0, 0, 0, 0.15);\n",
              "      filter: drop-shadow(0px 1px 2px rgba(0, 0, 0, 0.3));\n",
              "      fill: #FFFFFF;\n",
              "    }\n",
              "  </style>\n",
              "\n",
              "      <script>\n",
              "        const buttonEl =\n",
              "          document.querySelector('#df-d09a6731-c77b-40ec-9d3b-256c166382cb button.colab-df-convert');\n",
              "        buttonEl.style.display =\n",
              "          google.colab.kernel.accessAllowed ? 'block' : 'none';\n",
              "\n",
              "        async function convertToInteractive(key) {\n",
              "          const element = document.querySelector('#df-d09a6731-c77b-40ec-9d3b-256c166382cb');\n",
              "          const dataTable =\n",
              "            await google.colab.kernel.invokeFunction('convertToInteractive',\n",
              "                                                     [key], {});\n",
              "          if (!dataTable) return;\n",
              "\n",
              "          const docLinkHtml = 'Like what you see? Visit the ' +\n",
              "            '<a target=\"_blank\" href=https://colab.research.google.com/notebooks/data_table.ipynb>data table notebook</a>'\n",
              "            + ' to learn more about interactive tables.';\n",
              "          element.innerHTML = '';\n",
              "          dataTable['output_type'] = 'display_data';\n",
              "          await google.colab.output.renderOutput(dataTable, element);\n",
              "          const docLink = document.createElement('div');\n",
              "          docLink.innerHTML = docLinkHtml;\n",
              "          element.appendChild(docLink);\n",
              "        }\n",
              "      </script>\n",
              "    </div>\n",
              "  </div>\n",
              "  "
            ]
          },
          "metadata": {},
          "execution_count": 16
        }
      ]
    },
    {
      "cell_type": "code",
      "source": [
        "train_enc.isna().sum()"
      ],
      "metadata": {
        "colab": {
          "base_uri": "https://localhost:8080/"
        },
        "id": "pB08b7HbyRIk",
        "outputId": "e199c641-9d9c-407e-c3b7-daa171bc1d63"
      },
      "execution_count": null,
      "outputs": [
        {
          "output_type": "execute_result",
          "data": {
            "text/plain": [
              "offer expiration                          0\n",
              "income_range                              0\n",
              "no_visited_Cold drinks                  198\n",
              "travelled_more_than_15mins_for_offer      0\n",
              "Restaur_spend_less_than20               121\n",
              "Marital Status                            0\n",
              "restaurant type                           0\n",
              "age                                       0\n",
              "Prefer western over chinese               0\n",
              "travelled_more_than_25mins_for_offer      0\n",
              "no_visited_bars                          93\n",
              "gender                                    0\n",
              "restuarant_same_direction_house           0\n",
              "Cooks regularly                           0\n",
              "Customer type                             0\n",
              "Qualification                             0\n",
              "is foodie                                 0\n",
              "no_Take-aways                           144\n",
              "Job/Job Industry                          0\n",
              "restuarant_opposite_direction_house       0\n",
              "has Children                              0\n",
              "visit restaurant with rating (avg)        0\n",
              "temperature                               0\n",
              "Restaur_spend_greater_than20            160\n",
              "Travel Time                               0\n",
              "Climate                                   0\n",
              "drop location                             0\n",
              "Prefer home food                          0\n",
              "Offer Accepted                            0\n",
              "dtype: int64"
            ]
          },
          "metadata": {},
          "execution_count": 17
        }
      ]
    },
    {
      "cell_type": "code",
      "source": [
        "train_X = train_enc.iloc[:, :-1]\n",
        "train_y = train_enc.iloc[:, -1]"
      ],
      "metadata": {
        "id": "BbfaReqG2bw4"
      },
      "execution_count": null,
      "outputs": []
    },
    {
      "cell_type": "code",
      "source": [
        "from sklearn.impute import KNNImputer\n",
        "knn = KNNImputer(n_neighbors = 5)\n",
        "train_knn = knn.fit_transform(train_X)\n",
        "train_knn = pd.DataFrame(train_knn, columns = train_X.columns)\n",
        "test_knn = knn.transform(test_enc)\n",
        "test_knn = pd.DataFrame(test_knn, columns = test_enc.columns)\n"
      ],
      "metadata": {
        "id": "nzdJdY8YxvzI"
      },
      "execution_count": null,
      "outputs": []
    },
    {
      "cell_type": "code",
      "source": [
        "missing_cols = ['no_visited_Cold drinks', 'Restaur_spend_less_than20', 'no_visited_bars', 'no_Take-aways', 'Restaur_spend_greater_than20']\n",
        "for i in missing_cols:\n",
        "  train_knn[i] = train_knn[i].round(0)\n",
        "  test_knn[i] = test_knn[i].round(0)\n"
      ],
      "metadata": {
        "id": "VOrps8HkyC3C"
      },
      "execution_count": null,
      "outputs": []
    },
    {
      "cell_type": "code",
      "source": [
        "for i in missing_cols:\n",
        "  print(train_knn[i].value_counts())\n",
        "  print('----------------------------')"
      ],
      "metadata": {
        "colab": {
          "base_uri": "https://localhost:8080/"
        },
        "id": "069jcyGM22Oa",
        "outputId": "d6c6c3a3-fbd4-4755-d178-49bba58504c7"
      },
      "execution_count": null,
      "outputs": [
        {
          "output_type": "stream",
          "name": "stdout",
          "text": [
            "1.0    3383\n",
            "2.0    3233\n",
            "0.0    2920\n",
            "3.0    1790\n",
            "4.0    1053\n",
            "Name: no_visited_Cold drinks, dtype: int64\n",
            "----------------------------\n",
            "2.0    5320\n",
            "3.0    3525\n",
            "1.0    2061\n",
            "4.0    1265\n",
            "0.0     208\n",
            "Name: Restaur_spend_less_than20, dtype: int64\n",
            "----------------------------\n",
            "0.0    5084\n",
            "1.0    3462\n",
            "2.0    2436\n",
            "3.0    1048\n",
            "4.0     349\n",
            "Name: no_visited_bars, dtype: int64\n",
            "----------------------------\n",
            "2.0    4748\n",
            "3.0    4153\n",
            "1.0    1767\n",
            "4.0    1571\n",
            "0.0     140\n",
            "Name: no_Take-aways, dtype: int64\n",
            "----------------------------\n",
            "1.0    6102\n",
            "2.0    3252\n",
            "0.0    2046\n",
            "3.0     712\n",
            "4.0     267\n",
            "Name: Restaur_spend_greater_than20, dtype: int64\n",
            "----------------------------\n"
          ]
        }
      ]
    },
    {
      "cell_type": "markdown",
      "source": [
        "#Data Balancing (using imblearn)"
      ],
      "metadata": {
        "id": "j7Yq0WIHw4S0"
      }
    },
    {
      "cell_type": "code",
      "source": [
        "#Without Balancing\n",
        "train_imb_X = train_knn\n",
        "train_imb_y = train_y"
      ],
      "metadata": {
        "id": "f8z7SFJdxkgr"
      },
      "execution_count": null,
      "outputs": []
    },
    {
      "cell_type": "code",
      "source": [
        "# With Balancing\n",
        "from imblearn.over_sampling import SMOTE\n",
        "sm = SMOTE(random_state = 43)"
      ],
      "metadata": {
        "id": "mYAKyRBSw8YC"
      },
      "execution_count": null,
      "outputs": []
    },
    {
      "cell_type": "code",
      "source": [
        "train_imb_X, train_imb_y = sm.fit_resample(train_knn, train_y)"
      ],
      "metadata": {
        "id": "NDHSLPIkxCtg"
      },
      "execution_count": null,
      "outputs": []
    },
    {
      "cell_type": "code",
      "source": [
        "print(train_y.value_counts())\n",
        "print(train_imb_y.value_counts())"
      ],
      "metadata": {
        "colab": {
          "base_uri": "https://localhost:8080/"
        },
        "id": "ORaJTrrMxOlv",
        "outputId": "b9c478bd-057c-438f-fc0c-8b49b4a327ef"
      },
      "execution_count": null,
      "outputs": [
        {
          "output_type": "stream",
          "name": "stdout",
          "text": [
            "1    6994\n",
            "0    5385\n",
            "Name: Offer Accepted, dtype: int64\n",
            "0    5385\n",
            "1    5385\n",
            "Name: Offer Accepted, dtype: int64\n"
          ]
        }
      ]
    },
    {
      "cell_type": "code",
      "source": [
        "from imblearn.under_sampling import ClusterCentroids\n",
        "cc = ClusterCentroids(random_state=43)"
      ],
      "metadata": {
        "id": "vXURKNtbgOMp"
      },
      "execution_count": null,
      "outputs": []
    },
    {
      "cell_type": "code",
      "source": [
        "train_imb_X, train_imb_y = cc.fit_resample(train_knn, train_y)"
      ],
      "metadata": {
        "id": "QS1RjaeSg35Q"
      },
      "execution_count": null,
      "outputs": []
    },
    {
      "cell_type": "markdown",
      "source": [
        "#Feature Selection"
      ],
      "metadata": {
        "id": "ZJfaF-UNksdD"
      }
    },
    {
      "cell_type": "code",
      "source": [
        "from sklearn.feature_selection import SelectKBest, RFE, SequentialFeatureSelector, chi2\n",
        "from sklearn.linear_model import LogisticRegression\n",
        "from sklearn.decomposition import PCA"
      ],
      "metadata": {
        "id": "kFM_Rxi2kupX"
      },
      "execution_count": null,
      "outputs": []
    },
    {
      "cell_type": "code",
      "source": [
        "# No Feature selection\n",
        "train_feat = train_imb_X\n",
        "test_feat = test_knn\n",
        "feature_list = one_hot_encoding_list"
      ],
      "metadata": {
        "id": "IjhLWm49tOLh"
      },
      "execution_count": null,
      "outputs": []
    },
    {
      "cell_type": "code",
      "source": [
        "#Select K-Best\n",
        "skb = SelectKBest(chi2, k = 10)\n",
        "train_feat = skb.fit_transform(X = train_imb_X,y=train_imb_y)\n",
        "train_feat = pd.DataFrame(train_feat, columns = skb.get_feature_names_out())\n",
        "test_feat = skb.transform(X=test_knn)\n",
        "test_feat = pd.DataFrame(test_feat, columns = skb.get_feature_names_out())\n",
        "feature_list = skb.get_feature_names_out()"
      ],
      "metadata": {
        "id": "DQhfrIGSk7FR"
      },
      "execution_count": null,
      "outputs": []
    },
    {
      "cell_type": "code",
      "source": [
        "#Recursive Feature Elimination\n",
        "rfe = RFE(LogisticRegression(),n_features_to_select=10)\n",
        "train_feat = rfe.fit_transform(X = train_imb_X,y=train_y)\n",
        "train_feat = pd.DataFrame(train_feat, columns = rfe.get_feature_names_out())\n",
        "test_feat = rfe.transform(X=test_knn)\n",
        "test_feat = pd.DataFrame(test_feat, columns = rfe.get_feature_names_out())\n",
        "feature_list = rfe.get_feature_names_out()"
      ],
      "metadata": {
        "id": "XO-0_lOCnooe"
      },
      "execution_count": null,
      "outputs": []
    },
    {
      "cell_type": "markdown",
      "source": [
        "#Feature Encoding"
      ],
      "metadata": {
        "id": "yawkpbm-3yiT"
      }
    },
    {
      "cell_type": "markdown",
      "source": [
        "###Type 1 - Target Encoding"
      ],
      "metadata": {
        "id": "WcFt3CKr33Np"
      }
    },
    {
      "cell_type": "code",
      "source": [
        "#Consolidate the records\n",
        "train_mean = train_feat.copy()\n",
        "train_mean['Offer Accepted'] = train_imb_y\n",
        "test_mean = test_feat.copy()"
      ],
      "metadata": {
        "id": "SRAw73KS3yGV"
      },
      "execution_count": null,
      "outputs": []
    },
    {
      "cell_type": "code",
      "source": [
        "train_mean.isna().sum()"
      ],
      "metadata": {
        "id": "xhVtPd8F0Yos"
      },
      "execution_count": null,
      "outputs": []
    },
    {
      "cell_type": "code",
      "source": [
        "for feature in train_mean.columns:\n",
        "  mean_encode = train_mean.groupby(feature)['Offer Accepted'].mean().round(1)\n",
        "  #print(mean_encode)\n",
        "  train_mean.loc[:, feature] = train_mean[feature].map(mean_encode)\n",
        "  if (feature != 'Offer Accepted'):\n",
        "    test_mean.loc[:, feature] = test_mean[feature].map(mean_encode)"
      ],
      "metadata": {
        "id": "8_RpXxru40dj"
      },
      "execution_count": null,
      "outputs": []
    },
    {
      "cell_type": "code",
      "source": [
        "train_mean.head()"
      ],
      "metadata": {
        "colab": {
          "base_uri": "https://localhost:8080/",
          "height": 369
        },
        "id": "lukYMlPN5sp6",
        "outputId": "b0e4f5bf-4410-431a-8814-2e8d260fac6c"
      },
      "execution_count": null,
      "outputs": [
        {
          "output_type": "execute_result",
          "data": {
            "text/plain": [
              "   offer expiration  income_range  no_visited_Cold drinks  \\\n",
              "0               0.5           0.5                     0.5   \n",
              "1               0.5           0.5                     0.5   \n",
              "2               0.5           0.5                     0.4   \n",
              "3               0.5           0.5                     0.4   \n",
              "4               0.5           0.5                     0.5   \n",
              "\n",
              "   travelled_more_than_15mins_for_offer  Restaur_spend_less_than20  \\\n",
              "0                                   0.4                        0.5   \n",
              "1                                   0.5                        0.5   \n",
              "2                                   0.4                        0.5   \n",
              "3                                   0.4                        0.5   \n",
              "4                                   0.4                        0.5   \n",
              "\n",
              "   Marital Status  restaurant type  age  Prefer western over chinese  \\\n",
              "0             0.5              0.4  0.5                          0.5   \n",
              "1             0.5              0.6  0.5                          0.5   \n",
              "2             0.5              0.4  0.5                          0.5   \n",
              "3             0.5              0.4  0.5                          0.5   \n",
              "4             0.5              0.4  0.5                          0.5   \n",
              "\n",
              "   travelled_more_than_25mins_for_offer  ...  \\\n",
              "0                                   0.5  ...   \n",
              "1                                   0.5  ...   \n",
              "2                                   0.4  ...   \n",
              "3                                   0.5  ...   \n",
              "4                                   0.5  ...   \n",
              "\n",
              "   restuarant_opposite_direction_house  has Children  \\\n",
              "0                                  0.5           0.5   \n",
              "1                                  0.5           0.5   \n",
              "2                                  0.5           0.5   \n",
              "3                                  0.5           0.5   \n",
              "4                                  0.5           0.5   \n",
              "\n",
              "   visit restaurant with rating (avg)  temperature  \\\n",
              "0                                 0.5          0.5   \n",
              "1                                 0.5          0.5   \n",
              "2                                 0.5          0.5   \n",
              "3                                 0.5          0.5   \n",
              "4                                 0.5          0.5   \n",
              "\n",
              "   Restaur_spend_greater_than20  Travel Time  Climate  drop location  \\\n",
              "0                           0.5          0.5      0.4            0.5   \n",
              "1                           0.5          0.5      0.5            0.4   \n",
              "2                           0.5          0.5      0.5            0.4   \n",
              "3                           0.5          0.5      0.5            0.5   \n",
              "4                           0.5          0.5      0.5            0.4   \n",
              "\n",
              "   Prefer home food  Offer Accepted  \n",
              "0               0.5             0.0  \n",
              "1               0.5             0.0  \n",
              "2               0.5             0.0  \n",
              "3               0.5             0.0  \n",
              "4               0.5             0.0  \n",
              "\n",
              "[5 rows x 29 columns]"
            ],
            "text/html": [
              "\n",
              "  <div id=\"df-cff40c9a-af11-4e81-88ce-581310284e7c\">\n",
              "    <div class=\"colab-df-container\">\n",
              "      <div>\n",
              "<style scoped>\n",
              "    .dataframe tbody tr th:only-of-type {\n",
              "        vertical-align: middle;\n",
              "    }\n",
              "\n",
              "    .dataframe tbody tr th {\n",
              "        vertical-align: top;\n",
              "    }\n",
              "\n",
              "    .dataframe thead th {\n",
              "        text-align: right;\n",
              "    }\n",
              "</style>\n",
              "<table border=\"1\" class=\"dataframe\">\n",
              "  <thead>\n",
              "    <tr style=\"text-align: right;\">\n",
              "      <th></th>\n",
              "      <th>offer expiration</th>\n",
              "      <th>income_range</th>\n",
              "      <th>no_visited_Cold drinks</th>\n",
              "      <th>travelled_more_than_15mins_for_offer</th>\n",
              "      <th>Restaur_spend_less_than20</th>\n",
              "      <th>Marital Status</th>\n",
              "      <th>restaurant type</th>\n",
              "      <th>age</th>\n",
              "      <th>Prefer western over chinese</th>\n",
              "      <th>travelled_more_than_25mins_for_offer</th>\n",
              "      <th>...</th>\n",
              "      <th>restuarant_opposite_direction_house</th>\n",
              "      <th>has Children</th>\n",
              "      <th>visit restaurant with rating (avg)</th>\n",
              "      <th>temperature</th>\n",
              "      <th>Restaur_spend_greater_than20</th>\n",
              "      <th>Travel Time</th>\n",
              "      <th>Climate</th>\n",
              "      <th>drop location</th>\n",
              "      <th>Prefer home food</th>\n",
              "      <th>Offer Accepted</th>\n",
              "    </tr>\n",
              "  </thead>\n",
              "  <tbody>\n",
              "    <tr>\n",
              "      <th>0</th>\n",
              "      <td>0.5</td>\n",
              "      <td>0.5</td>\n",
              "      <td>0.5</td>\n",
              "      <td>0.4</td>\n",
              "      <td>0.5</td>\n",
              "      <td>0.5</td>\n",
              "      <td>0.4</td>\n",
              "      <td>0.5</td>\n",
              "      <td>0.5</td>\n",
              "      <td>0.5</td>\n",
              "      <td>...</td>\n",
              "      <td>0.5</td>\n",
              "      <td>0.5</td>\n",
              "      <td>0.5</td>\n",
              "      <td>0.5</td>\n",
              "      <td>0.5</td>\n",
              "      <td>0.5</td>\n",
              "      <td>0.4</td>\n",
              "      <td>0.5</td>\n",
              "      <td>0.5</td>\n",
              "      <td>0.0</td>\n",
              "    </tr>\n",
              "    <tr>\n",
              "      <th>1</th>\n",
              "      <td>0.5</td>\n",
              "      <td>0.5</td>\n",
              "      <td>0.5</td>\n",
              "      <td>0.5</td>\n",
              "      <td>0.5</td>\n",
              "      <td>0.5</td>\n",
              "      <td>0.6</td>\n",
              "      <td>0.5</td>\n",
              "      <td>0.5</td>\n",
              "      <td>0.5</td>\n",
              "      <td>...</td>\n",
              "      <td>0.5</td>\n",
              "      <td>0.5</td>\n",
              "      <td>0.5</td>\n",
              "      <td>0.5</td>\n",
              "      <td>0.5</td>\n",
              "      <td>0.5</td>\n",
              "      <td>0.5</td>\n",
              "      <td>0.4</td>\n",
              "      <td>0.5</td>\n",
              "      <td>0.0</td>\n",
              "    </tr>\n",
              "    <tr>\n",
              "      <th>2</th>\n",
              "      <td>0.5</td>\n",
              "      <td>0.5</td>\n",
              "      <td>0.4</td>\n",
              "      <td>0.4</td>\n",
              "      <td>0.5</td>\n",
              "      <td>0.5</td>\n",
              "      <td>0.4</td>\n",
              "      <td>0.5</td>\n",
              "      <td>0.5</td>\n",
              "      <td>0.4</td>\n",
              "      <td>...</td>\n",
              "      <td>0.5</td>\n",
              "      <td>0.5</td>\n",
              "      <td>0.5</td>\n",
              "      <td>0.5</td>\n",
              "      <td>0.5</td>\n",
              "      <td>0.5</td>\n",
              "      <td>0.5</td>\n",
              "      <td>0.4</td>\n",
              "      <td>0.5</td>\n",
              "      <td>0.0</td>\n",
              "    </tr>\n",
              "    <tr>\n",
              "      <th>3</th>\n",
              "      <td>0.5</td>\n",
              "      <td>0.5</td>\n",
              "      <td>0.4</td>\n",
              "      <td>0.4</td>\n",
              "      <td>0.5</td>\n",
              "      <td>0.5</td>\n",
              "      <td>0.4</td>\n",
              "      <td>0.5</td>\n",
              "      <td>0.5</td>\n",
              "      <td>0.5</td>\n",
              "      <td>...</td>\n",
              "      <td>0.5</td>\n",
              "      <td>0.5</td>\n",
              "      <td>0.5</td>\n",
              "      <td>0.5</td>\n",
              "      <td>0.5</td>\n",
              "      <td>0.5</td>\n",
              "      <td>0.5</td>\n",
              "      <td>0.5</td>\n",
              "      <td>0.5</td>\n",
              "      <td>0.0</td>\n",
              "    </tr>\n",
              "    <tr>\n",
              "      <th>4</th>\n",
              "      <td>0.5</td>\n",
              "      <td>0.5</td>\n",
              "      <td>0.5</td>\n",
              "      <td>0.4</td>\n",
              "      <td>0.5</td>\n",
              "      <td>0.5</td>\n",
              "      <td>0.4</td>\n",
              "      <td>0.5</td>\n",
              "      <td>0.5</td>\n",
              "      <td>0.5</td>\n",
              "      <td>...</td>\n",
              "      <td>0.5</td>\n",
              "      <td>0.5</td>\n",
              "      <td>0.5</td>\n",
              "      <td>0.5</td>\n",
              "      <td>0.5</td>\n",
              "      <td>0.5</td>\n",
              "      <td>0.5</td>\n",
              "      <td>0.4</td>\n",
              "      <td>0.5</td>\n",
              "      <td>0.0</td>\n",
              "    </tr>\n",
              "  </tbody>\n",
              "</table>\n",
              "<p>5 rows × 29 columns</p>\n",
              "</div>\n",
              "      <button class=\"colab-df-convert\" onclick=\"convertToInteractive('df-cff40c9a-af11-4e81-88ce-581310284e7c')\"\n",
              "              title=\"Convert this dataframe to an interactive table.\"\n",
              "              style=\"display:none;\">\n",
              "        \n",
              "  <svg xmlns=\"http://www.w3.org/2000/svg\" height=\"24px\"viewBox=\"0 0 24 24\"\n",
              "       width=\"24px\">\n",
              "    <path d=\"M0 0h24v24H0V0z\" fill=\"none\"/>\n",
              "    <path d=\"M18.56 5.44l.94 2.06.94-2.06 2.06-.94-2.06-.94-.94-2.06-.94 2.06-2.06.94zm-11 1L8.5 8.5l.94-2.06 2.06-.94-2.06-.94L8.5 2.5l-.94 2.06-2.06.94zm10 10l.94 2.06.94-2.06 2.06-.94-2.06-.94-.94-2.06-.94 2.06-2.06.94z\"/><path d=\"M17.41 7.96l-1.37-1.37c-.4-.4-.92-.59-1.43-.59-.52 0-1.04.2-1.43.59L10.3 9.45l-7.72 7.72c-.78.78-.78 2.05 0 2.83L4 21.41c.39.39.9.59 1.41.59.51 0 1.02-.2 1.41-.59l7.78-7.78 2.81-2.81c.8-.78.8-2.07 0-2.86zM5.41 20L4 18.59l7.72-7.72 1.47 1.35L5.41 20z\"/>\n",
              "  </svg>\n",
              "      </button>\n",
              "      \n",
              "  <style>\n",
              "    .colab-df-container {\n",
              "      display:flex;\n",
              "      flex-wrap:wrap;\n",
              "      gap: 12px;\n",
              "    }\n",
              "\n",
              "    .colab-df-convert {\n",
              "      background-color: #E8F0FE;\n",
              "      border: none;\n",
              "      border-radius: 50%;\n",
              "      cursor: pointer;\n",
              "      display: none;\n",
              "      fill: #1967D2;\n",
              "      height: 32px;\n",
              "      padding: 0 0 0 0;\n",
              "      width: 32px;\n",
              "    }\n",
              "\n",
              "    .colab-df-convert:hover {\n",
              "      background-color: #E2EBFA;\n",
              "      box-shadow: 0px 1px 2px rgba(60, 64, 67, 0.3), 0px 1px 3px 1px rgba(60, 64, 67, 0.15);\n",
              "      fill: #174EA6;\n",
              "    }\n",
              "\n",
              "    [theme=dark] .colab-df-convert {\n",
              "      background-color: #3B4455;\n",
              "      fill: #D2E3FC;\n",
              "    }\n",
              "\n",
              "    [theme=dark] .colab-df-convert:hover {\n",
              "      background-color: #434B5C;\n",
              "      box-shadow: 0px 1px 3px 1px rgba(0, 0, 0, 0.15);\n",
              "      filter: drop-shadow(0px 1px 2px rgba(0, 0, 0, 0.3));\n",
              "      fill: #FFFFFF;\n",
              "    }\n",
              "  </style>\n",
              "\n",
              "      <script>\n",
              "        const buttonEl =\n",
              "          document.querySelector('#df-cff40c9a-af11-4e81-88ce-581310284e7c button.colab-df-convert');\n",
              "        buttonEl.style.display =\n",
              "          google.colab.kernel.accessAllowed ? 'block' : 'none';\n",
              "\n",
              "        async function convertToInteractive(key) {\n",
              "          const element = document.querySelector('#df-cff40c9a-af11-4e81-88ce-581310284e7c');\n",
              "          const dataTable =\n",
              "            await google.colab.kernel.invokeFunction('convertToInteractive',\n",
              "                                                     [key], {});\n",
              "          if (!dataTable) return;\n",
              "\n",
              "          const docLinkHtml = 'Like what you see? Visit the ' +\n",
              "            '<a target=\"_blank\" href=https://colab.research.google.com/notebooks/data_table.ipynb>data table notebook</a>'\n",
              "            + ' to learn more about interactive tables.';\n",
              "          element.innerHTML = '';\n",
              "          dataTable['output_type'] = 'display_data';\n",
              "          await google.colab.output.renderOutput(dataTable, element);\n",
              "          const docLink = document.createElement('div');\n",
              "          docLink.innerHTML = docLinkHtml;\n",
              "          element.appendChild(docLink);\n",
              "        }\n",
              "      </script>\n",
              "    </div>\n",
              "  </div>\n",
              "  "
            ]
          },
          "metadata": {},
          "execution_count": 104
        }
      ]
    },
    {
      "cell_type": "code",
      "source": [
        "test_mean.head()"
      ],
      "metadata": {
        "colab": {
          "base_uri": "https://localhost:8080/",
          "height": 369
        },
        "id": "mgFjuO--6U4l",
        "outputId": "2beb94ec-36d4-477e-a18d-cad8a6d4b2bf"
      },
      "execution_count": null,
      "outputs": [
        {
          "output_type": "execute_result",
          "data": {
            "text/plain": [
              "   offer expiration  income_range  no_visited_Cold drinks  \\\n",
              "0               0.5           0.5                     0.5   \n",
              "1               0.5           0.5                     0.5   \n",
              "2               0.5           0.5                     0.4   \n",
              "3               0.5           0.5                     0.4   \n",
              "4               0.5           0.5                     0.4   \n",
              "\n",
              "   travelled_more_than_15mins_for_offer  Restaur_spend_less_than20  \\\n",
              "0                                   0.4                        0.5   \n",
              "1                                   0.5                        0.5   \n",
              "2                                   0.4                        0.5   \n",
              "3                                   0.4                        0.5   \n",
              "4                                   0.5                        0.5   \n",
              "\n",
              "   Marital Status  restaurant type  age  Prefer western over chinese  \\\n",
              "0             0.5              0.6  0.5                          0.5   \n",
              "1             0.5              0.4  0.5                          0.5   \n",
              "2             0.5              0.4  0.5                          0.5   \n",
              "3             0.5              0.4  0.5                          0.5   \n",
              "4             0.5              0.5  0.5                          0.5   \n",
              "\n",
              "   travelled_more_than_25mins_for_offer  ...  Job/Job Industry  \\\n",
              "0                                   0.4  ...               0.5   \n",
              "1                                   0.5  ...               0.5   \n",
              "2                                   0.5  ...               0.5   \n",
              "3                                   0.5  ...               0.5   \n",
              "4                                   0.5  ...               0.5   \n",
              "\n",
              "   restuarant_opposite_direction_house  has Children  \\\n",
              "0                                  0.5           0.5   \n",
              "1                                  0.5           0.5   \n",
              "2                                  0.5           0.5   \n",
              "3                                  0.5           0.5   \n",
              "4                                  0.5           0.5   \n",
              "\n",
              "   visit restaurant with rating (avg)  temperature  \\\n",
              "0                                 0.5          0.5   \n",
              "1                                 0.5          0.5   \n",
              "2                                 0.5          0.5   \n",
              "3                                 0.5          0.5   \n",
              "4                                 0.5          0.5   \n",
              "\n",
              "   Restaur_spend_greater_than20  Travel Time  Climate  drop location  \\\n",
              "0                           0.5          0.5      0.5            0.4   \n",
              "1                           0.5          0.5      0.5            0.5   \n",
              "2                           0.5          0.5      0.5            0.4   \n",
              "3                           0.5          0.5      0.4            0.4   \n",
              "4                           0.5          0.5      0.5            0.5   \n",
              "\n",
              "   Prefer home food  \n",
              "0               0.5  \n",
              "1               0.5  \n",
              "2               0.5  \n",
              "3               0.5  \n",
              "4               0.5  \n",
              "\n",
              "[5 rows x 28 columns]"
            ],
            "text/html": [
              "\n",
              "  <div id=\"df-ff1353fc-02b9-438d-a565-d9274e705c35\">\n",
              "    <div class=\"colab-df-container\">\n",
              "      <div>\n",
              "<style scoped>\n",
              "    .dataframe tbody tr th:only-of-type {\n",
              "        vertical-align: middle;\n",
              "    }\n",
              "\n",
              "    .dataframe tbody tr th {\n",
              "        vertical-align: top;\n",
              "    }\n",
              "\n",
              "    .dataframe thead th {\n",
              "        text-align: right;\n",
              "    }\n",
              "</style>\n",
              "<table border=\"1\" class=\"dataframe\">\n",
              "  <thead>\n",
              "    <tr style=\"text-align: right;\">\n",
              "      <th></th>\n",
              "      <th>offer expiration</th>\n",
              "      <th>income_range</th>\n",
              "      <th>no_visited_Cold drinks</th>\n",
              "      <th>travelled_more_than_15mins_for_offer</th>\n",
              "      <th>Restaur_spend_less_than20</th>\n",
              "      <th>Marital Status</th>\n",
              "      <th>restaurant type</th>\n",
              "      <th>age</th>\n",
              "      <th>Prefer western over chinese</th>\n",
              "      <th>travelled_more_than_25mins_for_offer</th>\n",
              "      <th>...</th>\n",
              "      <th>Job/Job Industry</th>\n",
              "      <th>restuarant_opposite_direction_house</th>\n",
              "      <th>has Children</th>\n",
              "      <th>visit restaurant with rating (avg)</th>\n",
              "      <th>temperature</th>\n",
              "      <th>Restaur_spend_greater_than20</th>\n",
              "      <th>Travel Time</th>\n",
              "      <th>Climate</th>\n",
              "      <th>drop location</th>\n",
              "      <th>Prefer home food</th>\n",
              "    </tr>\n",
              "  </thead>\n",
              "  <tbody>\n",
              "    <tr>\n",
              "      <th>0</th>\n",
              "      <td>0.5</td>\n",
              "      <td>0.5</td>\n",
              "      <td>0.5</td>\n",
              "      <td>0.4</td>\n",
              "      <td>0.5</td>\n",
              "      <td>0.5</td>\n",
              "      <td>0.6</td>\n",
              "      <td>0.5</td>\n",
              "      <td>0.5</td>\n",
              "      <td>0.4</td>\n",
              "      <td>...</td>\n",
              "      <td>0.5</td>\n",
              "      <td>0.5</td>\n",
              "      <td>0.5</td>\n",
              "      <td>0.5</td>\n",
              "      <td>0.5</td>\n",
              "      <td>0.5</td>\n",
              "      <td>0.5</td>\n",
              "      <td>0.5</td>\n",
              "      <td>0.4</td>\n",
              "      <td>0.5</td>\n",
              "    </tr>\n",
              "    <tr>\n",
              "      <th>1</th>\n",
              "      <td>0.5</td>\n",
              "      <td>0.5</td>\n",
              "      <td>0.5</td>\n",
              "      <td>0.5</td>\n",
              "      <td>0.5</td>\n",
              "      <td>0.5</td>\n",
              "      <td>0.4</td>\n",
              "      <td>0.5</td>\n",
              "      <td>0.5</td>\n",
              "      <td>0.5</td>\n",
              "      <td>...</td>\n",
              "      <td>0.5</td>\n",
              "      <td>0.5</td>\n",
              "      <td>0.5</td>\n",
              "      <td>0.5</td>\n",
              "      <td>0.5</td>\n",
              "      <td>0.5</td>\n",
              "      <td>0.5</td>\n",
              "      <td>0.5</td>\n",
              "      <td>0.5</td>\n",
              "      <td>0.5</td>\n",
              "    </tr>\n",
              "    <tr>\n",
              "      <th>2</th>\n",
              "      <td>0.5</td>\n",
              "      <td>0.5</td>\n",
              "      <td>0.4</td>\n",
              "      <td>0.4</td>\n",
              "      <td>0.5</td>\n",
              "      <td>0.5</td>\n",
              "      <td>0.4</td>\n",
              "      <td>0.5</td>\n",
              "      <td>0.5</td>\n",
              "      <td>0.5</td>\n",
              "      <td>...</td>\n",
              "      <td>0.5</td>\n",
              "      <td>0.5</td>\n",
              "      <td>0.5</td>\n",
              "      <td>0.5</td>\n",
              "      <td>0.5</td>\n",
              "      <td>0.5</td>\n",
              "      <td>0.5</td>\n",
              "      <td>0.5</td>\n",
              "      <td>0.4</td>\n",
              "      <td>0.5</td>\n",
              "    </tr>\n",
              "    <tr>\n",
              "      <th>3</th>\n",
              "      <td>0.5</td>\n",
              "      <td>0.5</td>\n",
              "      <td>0.4</td>\n",
              "      <td>0.4</td>\n",
              "      <td>0.5</td>\n",
              "      <td>0.5</td>\n",
              "      <td>0.4</td>\n",
              "      <td>0.5</td>\n",
              "      <td>0.5</td>\n",
              "      <td>0.5</td>\n",
              "      <td>...</td>\n",
              "      <td>0.5</td>\n",
              "      <td>0.5</td>\n",
              "      <td>0.5</td>\n",
              "      <td>0.5</td>\n",
              "      <td>0.5</td>\n",
              "      <td>0.5</td>\n",
              "      <td>0.5</td>\n",
              "      <td>0.4</td>\n",
              "      <td>0.4</td>\n",
              "      <td>0.5</td>\n",
              "    </tr>\n",
              "    <tr>\n",
              "      <th>4</th>\n",
              "      <td>0.5</td>\n",
              "      <td>0.5</td>\n",
              "      <td>0.4</td>\n",
              "      <td>0.5</td>\n",
              "      <td>0.5</td>\n",
              "      <td>0.5</td>\n",
              "      <td>0.5</td>\n",
              "      <td>0.5</td>\n",
              "      <td>0.5</td>\n",
              "      <td>0.5</td>\n",
              "      <td>...</td>\n",
              "      <td>0.5</td>\n",
              "      <td>0.5</td>\n",
              "      <td>0.5</td>\n",
              "      <td>0.5</td>\n",
              "      <td>0.5</td>\n",
              "      <td>0.5</td>\n",
              "      <td>0.5</td>\n",
              "      <td>0.5</td>\n",
              "      <td>0.5</td>\n",
              "      <td>0.5</td>\n",
              "    </tr>\n",
              "  </tbody>\n",
              "</table>\n",
              "<p>5 rows × 28 columns</p>\n",
              "</div>\n",
              "      <button class=\"colab-df-convert\" onclick=\"convertToInteractive('df-ff1353fc-02b9-438d-a565-d9274e705c35')\"\n",
              "              title=\"Convert this dataframe to an interactive table.\"\n",
              "              style=\"display:none;\">\n",
              "        \n",
              "  <svg xmlns=\"http://www.w3.org/2000/svg\" height=\"24px\"viewBox=\"0 0 24 24\"\n",
              "       width=\"24px\">\n",
              "    <path d=\"M0 0h24v24H0V0z\" fill=\"none\"/>\n",
              "    <path d=\"M18.56 5.44l.94 2.06.94-2.06 2.06-.94-2.06-.94-.94-2.06-.94 2.06-2.06.94zm-11 1L8.5 8.5l.94-2.06 2.06-.94-2.06-.94L8.5 2.5l-.94 2.06-2.06.94zm10 10l.94 2.06.94-2.06 2.06-.94-2.06-.94-.94-2.06-.94 2.06-2.06.94z\"/><path d=\"M17.41 7.96l-1.37-1.37c-.4-.4-.92-.59-1.43-.59-.52 0-1.04.2-1.43.59L10.3 9.45l-7.72 7.72c-.78.78-.78 2.05 0 2.83L4 21.41c.39.39.9.59 1.41.59.51 0 1.02-.2 1.41-.59l7.78-7.78 2.81-2.81c.8-.78.8-2.07 0-2.86zM5.41 20L4 18.59l7.72-7.72 1.47 1.35L5.41 20z\"/>\n",
              "  </svg>\n",
              "      </button>\n",
              "      \n",
              "  <style>\n",
              "    .colab-df-container {\n",
              "      display:flex;\n",
              "      flex-wrap:wrap;\n",
              "      gap: 12px;\n",
              "    }\n",
              "\n",
              "    .colab-df-convert {\n",
              "      background-color: #E8F0FE;\n",
              "      border: none;\n",
              "      border-radius: 50%;\n",
              "      cursor: pointer;\n",
              "      display: none;\n",
              "      fill: #1967D2;\n",
              "      height: 32px;\n",
              "      padding: 0 0 0 0;\n",
              "      width: 32px;\n",
              "    }\n",
              "\n",
              "    .colab-df-convert:hover {\n",
              "      background-color: #E2EBFA;\n",
              "      box-shadow: 0px 1px 2px rgba(60, 64, 67, 0.3), 0px 1px 3px 1px rgba(60, 64, 67, 0.15);\n",
              "      fill: #174EA6;\n",
              "    }\n",
              "\n",
              "    [theme=dark] .colab-df-convert {\n",
              "      background-color: #3B4455;\n",
              "      fill: #D2E3FC;\n",
              "    }\n",
              "\n",
              "    [theme=dark] .colab-df-convert:hover {\n",
              "      background-color: #434B5C;\n",
              "      box-shadow: 0px 1px 3px 1px rgba(0, 0, 0, 0.15);\n",
              "      filter: drop-shadow(0px 1px 2px rgba(0, 0, 0, 0.3));\n",
              "      fill: #FFFFFF;\n",
              "    }\n",
              "  </style>\n",
              "\n",
              "      <script>\n",
              "        const buttonEl =\n",
              "          document.querySelector('#df-ff1353fc-02b9-438d-a565-d9274e705c35 button.colab-df-convert');\n",
              "        buttonEl.style.display =\n",
              "          google.colab.kernel.accessAllowed ? 'block' : 'none';\n",
              "\n",
              "        async function convertToInteractive(key) {\n",
              "          const element = document.querySelector('#df-ff1353fc-02b9-438d-a565-d9274e705c35');\n",
              "          const dataTable =\n",
              "            await google.colab.kernel.invokeFunction('convertToInteractive',\n",
              "                                                     [key], {});\n",
              "          if (!dataTable) return;\n",
              "\n",
              "          const docLinkHtml = 'Like what you see? Visit the ' +\n",
              "            '<a target=\"_blank\" href=https://colab.research.google.com/notebooks/data_table.ipynb>data table notebook</a>'\n",
              "            + ' to learn more about interactive tables.';\n",
              "          element.innerHTML = '';\n",
              "          dataTable['output_type'] = 'display_data';\n",
              "          await google.colab.output.renderOutput(dataTable, element);\n",
              "          const docLink = document.createElement('div');\n",
              "          docLink.innerHTML = docLinkHtml;\n",
              "          element.appendChild(docLink);\n",
              "        }\n",
              "      </script>\n",
              "    </div>\n",
              "  </div>\n",
              "  "
            ]
          },
          "metadata": {},
          "execution_count": 105
        }
      ]
    },
    {
      "cell_type": "code",
      "source": [
        "train_mean_X = train_mean.iloc[:, :-1]\n",
        "train_mean_y = train_mean.iloc[:, -1]\n",
        "test_mean_X = test_mean"
      ],
      "metadata": {
        "id": "iFlfi7kX6k3Q"
      },
      "execution_count": null,
      "outputs": []
    },
    {
      "cell_type": "markdown",
      "source": [
        "###Type 2 - Ordinal + One hot encoding"
      ],
      "metadata": {
        "id": "ItZTL5Ls6zbr"
      }
    },
    {
      "cell_type": "code",
      "source": [
        "ohe_list = []\n",
        "for i in feature_list:\n",
        "  if (i in one_hot_encoding_list):\n",
        "    ohe_list.append(i)\n",
        "train_ohe_X = pd.get_dummies(train_feat, columns = ohe_list)#, drop_first = True)\n",
        "test_ohe_X = pd.get_dummies(test_feat, columns = ohe_list)#, drop_first = True)\n",
        "train_ohe_X.head()\n",
        "train_ohe_y = train_imb_y"
      ],
      "metadata": {
        "id": "Syt5lerk64D5"
      },
      "execution_count": null,
      "outputs": []
    },
    {
      "cell_type": "code",
      "source": [
        "train_ohe_X.head()"
      ],
      "metadata": {
        "colab": {
          "base_uri": "https://localhost:8080/",
          "height": 352
        },
        "id": "c8hwELWsttXK",
        "outputId": "2af042c2-6ec5-474d-c48e-31cc6a1f56fe"
      },
      "execution_count": null,
      "outputs": [
        {
          "output_type": "execute_result",
          "data": {
            "text/plain": [
              "   offer expiration  income_range  no_visited_Cold drinks  \\\n",
              "0              48.0      100000.0                     3.0   \n",
              "1              10.0       37500.0                     1.0   \n",
              "2              48.0      100000.0                     0.0   \n",
              "3              48.0       50000.0                     0.0   \n",
              "4              10.0       12500.0                     1.0   \n",
              "\n",
              "   travelled_more_than_15mins_for_offer  Restaur_spend_less_than20   age  \\\n",
              "0                                   1.0                        1.0  36.0   \n",
              "1                                   0.0                        2.0  46.0   \n",
              "2                                   1.0                        2.0  21.0   \n",
              "3                                   1.0                        2.0  50.0   \n",
              "4                                   1.0                        1.0  41.0   \n",
              "\n",
              "   Prefer western over chinese  travelled_more_than_25mins_for_offer  \\\n",
              "0                          0.0                                   0.0   \n",
              "1                          1.0                                   0.0   \n",
              "2                          0.0                                   1.0   \n",
              "3                          0.0                                   0.0   \n",
              "4                          1.0                                   0.0   \n",
              "\n",
              "   no_visited_bars  restuarant_same_direction_house  ...  \\\n",
              "0              1.0                              0.0  ...   \n",
              "1              0.0                              1.0  ...   \n",
              "2              1.0                              0.0  ...   \n",
              "3              2.0                              0.0  ...   \n",
              "4              0.0                              0.0  ...   \n",
              "\n",
              "   restaurant type_2.75  restaurant type_3.0  restaurant type_3.25  \\\n",
              "0                     0                    0                     0   \n",
              "1                     0                    0                     0   \n",
              "2                     0                    0                     0   \n",
              "3                     0                    1                     0   \n",
              "4                     0                    1                     0   \n",
              "\n",
              "   restaurant type_3.2857142857142856  restaurant type_3.333333333333333  \\\n",
              "0                                   0                                  0   \n",
              "1                                   0                                  0   \n",
              "2                                   0                                  0   \n",
              "3                                   0                                  0   \n",
              "4                                   0                                  0   \n",
              "\n",
              "   restaurant type_3.4  restaurant type_3.5  \\\n",
              "0                    0                    0   \n",
              "1                    0                    0   \n",
              "2                    0                    0   \n",
              "3                    0                    0   \n",
              "4                    0                    0   \n",
              "\n",
              "   restaurant type_3.666666666666666  restaurant type_3.75  \\\n",
              "0                                  0                     0   \n",
              "1                                  0                     0   \n",
              "2                                  0                     0   \n",
              "3                                  0                     0   \n",
              "4                                  0                     0   \n",
              "\n",
              "   restaurant type_4.0  \n",
              "0                    0  \n",
              "1                    1  \n",
              "2                    0  \n",
              "3                    0  \n",
              "4                    0  \n",
              "\n",
              "[5 rows x 260 columns]"
            ],
            "text/html": [
              "\n",
              "  <div id=\"df-0ebe1d5e-d5f8-4b22-928b-ad278d36198e\">\n",
              "    <div class=\"colab-df-container\">\n",
              "      <div>\n",
              "<style scoped>\n",
              "    .dataframe tbody tr th:only-of-type {\n",
              "        vertical-align: middle;\n",
              "    }\n",
              "\n",
              "    .dataframe tbody tr th {\n",
              "        vertical-align: top;\n",
              "    }\n",
              "\n",
              "    .dataframe thead th {\n",
              "        text-align: right;\n",
              "    }\n",
              "</style>\n",
              "<table border=\"1\" class=\"dataframe\">\n",
              "  <thead>\n",
              "    <tr style=\"text-align: right;\">\n",
              "      <th></th>\n",
              "      <th>offer expiration</th>\n",
              "      <th>income_range</th>\n",
              "      <th>no_visited_Cold drinks</th>\n",
              "      <th>travelled_more_than_15mins_for_offer</th>\n",
              "      <th>Restaur_spend_less_than20</th>\n",
              "      <th>age</th>\n",
              "      <th>Prefer western over chinese</th>\n",
              "      <th>travelled_more_than_25mins_for_offer</th>\n",
              "      <th>no_visited_bars</th>\n",
              "      <th>restuarant_same_direction_house</th>\n",
              "      <th>...</th>\n",
              "      <th>restaurant type_2.75</th>\n",
              "      <th>restaurant type_3.0</th>\n",
              "      <th>restaurant type_3.25</th>\n",
              "      <th>restaurant type_3.2857142857142856</th>\n",
              "      <th>restaurant type_3.333333333333333</th>\n",
              "      <th>restaurant type_3.4</th>\n",
              "      <th>restaurant type_3.5</th>\n",
              "      <th>restaurant type_3.666666666666666</th>\n",
              "      <th>restaurant type_3.75</th>\n",
              "      <th>restaurant type_4.0</th>\n",
              "    </tr>\n",
              "  </thead>\n",
              "  <tbody>\n",
              "    <tr>\n",
              "      <th>0</th>\n",
              "      <td>48.0</td>\n",
              "      <td>100000.0</td>\n",
              "      <td>3.0</td>\n",
              "      <td>1.0</td>\n",
              "      <td>1.0</td>\n",
              "      <td>36.0</td>\n",
              "      <td>0.0</td>\n",
              "      <td>0.0</td>\n",
              "      <td>1.0</td>\n",
              "      <td>0.0</td>\n",
              "      <td>...</td>\n",
              "      <td>0</td>\n",
              "      <td>0</td>\n",
              "      <td>0</td>\n",
              "      <td>0</td>\n",
              "      <td>0</td>\n",
              "      <td>0</td>\n",
              "      <td>0</td>\n",
              "      <td>0</td>\n",
              "      <td>0</td>\n",
              "      <td>0</td>\n",
              "    </tr>\n",
              "    <tr>\n",
              "      <th>1</th>\n",
              "      <td>10.0</td>\n",
              "      <td>37500.0</td>\n",
              "      <td>1.0</td>\n",
              "      <td>0.0</td>\n",
              "      <td>2.0</td>\n",
              "      <td>46.0</td>\n",
              "      <td>1.0</td>\n",
              "      <td>0.0</td>\n",
              "      <td>0.0</td>\n",
              "      <td>1.0</td>\n",
              "      <td>...</td>\n",
              "      <td>0</td>\n",
              "      <td>0</td>\n",
              "      <td>0</td>\n",
              "      <td>0</td>\n",
              "      <td>0</td>\n",
              "      <td>0</td>\n",
              "      <td>0</td>\n",
              "      <td>0</td>\n",
              "      <td>0</td>\n",
              "      <td>1</td>\n",
              "    </tr>\n",
              "    <tr>\n",
              "      <th>2</th>\n",
              "      <td>48.0</td>\n",
              "      <td>100000.0</td>\n",
              "      <td>0.0</td>\n",
              "      <td>1.0</td>\n",
              "      <td>2.0</td>\n",
              "      <td>21.0</td>\n",
              "      <td>0.0</td>\n",
              "      <td>1.0</td>\n",
              "      <td>1.0</td>\n",
              "      <td>0.0</td>\n",
              "      <td>...</td>\n",
              "      <td>0</td>\n",
              "      <td>0</td>\n",
              "      <td>0</td>\n",
              "      <td>0</td>\n",
              "      <td>0</td>\n",
              "      <td>0</td>\n",
              "      <td>0</td>\n",
              "      <td>0</td>\n",
              "      <td>0</td>\n",
              "      <td>0</td>\n",
              "    </tr>\n",
              "    <tr>\n",
              "      <th>3</th>\n",
              "      <td>48.0</td>\n",
              "      <td>50000.0</td>\n",
              "      <td>0.0</td>\n",
              "      <td>1.0</td>\n",
              "      <td>2.0</td>\n",
              "      <td>50.0</td>\n",
              "      <td>0.0</td>\n",
              "      <td>0.0</td>\n",
              "      <td>2.0</td>\n",
              "      <td>0.0</td>\n",
              "      <td>...</td>\n",
              "      <td>0</td>\n",
              "      <td>1</td>\n",
              "      <td>0</td>\n",
              "      <td>0</td>\n",
              "      <td>0</td>\n",
              "      <td>0</td>\n",
              "      <td>0</td>\n",
              "      <td>0</td>\n",
              "      <td>0</td>\n",
              "      <td>0</td>\n",
              "    </tr>\n",
              "    <tr>\n",
              "      <th>4</th>\n",
              "      <td>10.0</td>\n",
              "      <td>12500.0</td>\n",
              "      <td>1.0</td>\n",
              "      <td>1.0</td>\n",
              "      <td>1.0</td>\n",
              "      <td>41.0</td>\n",
              "      <td>1.0</td>\n",
              "      <td>0.0</td>\n",
              "      <td>0.0</td>\n",
              "      <td>0.0</td>\n",
              "      <td>...</td>\n",
              "      <td>0</td>\n",
              "      <td>1</td>\n",
              "      <td>0</td>\n",
              "      <td>0</td>\n",
              "      <td>0</td>\n",
              "      <td>0</td>\n",
              "      <td>0</td>\n",
              "      <td>0</td>\n",
              "      <td>0</td>\n",
              "      <td>0</td>\n",
              "    </tr>\n",
              "  </tbody>\n",
              "</table>\n",
              "<p>5 rows × 260 columns</p>\n",
              "</div>\n",
              "      <button class=\"colab-df-convert\" onclick=\"convertToInteractive('df-0ebe1d5e-d5f8-4b22-928b-ad278d36198e')\"\n",
              "              title=\"Convert this dataframe to an interactive table.\"\n",
              "              style=\"display:none;\">\n",
              "        \n",
              "  <svg xmlns=\"http://www.w3.org/2000/svg\" height=\"24px\"viewBox=\"0 0 24 24\"\n",
              "       width=\"24px\">\n",
              "    <path d=\"M0 0h24v24H0V0z\" fill=\"none\"/>\n",
              "    <path d=\"M18.56 5.44l.94 2.06.94-2.06 2.06-.94-2.06-.94-.94-2.06-.94 2.06-2.06.94zm-11 1L8.5 8.5l.94-2.06 2.06-.94-2.06-.94L8.5 2.5l-.94 2.06-2.06.94zm10 10l.94 2.06.94-2.06 2.06-.94-2.06-.94-.94-2.06-.94 2.06-2.06.94z\"/><path d=\"M17.41 7.96l-1.37-1.37c-.4-.4-.92-.59-1.43-.59-.52 0-1.04.2-1.43.59L10.3 9.45l-7.72 7.72c-.78.78-.78 2.05 0 2.83L4 21.41c.39.39.9.59 1.41.59.51 0 1.02-.2 1.41-.59l7.78-7.78 2.81-2.81c.8-.78.8-2.07 0-2.86zM5.41 20L4 18.59l7.72-7.72 1.47 1.35L5.41 20z\"/>\n",
              "  </svg>\n",
              "      </button>\n",
              "      \n",
              "  <style>\n",
              "    .colab-df-container {\n",
              "      display:flex;\n",
              "      flex-wrap:wrap;\n",
              "      gap: 12px;\n",
              "    }\n",
              "\n",
              "    .colab-df-convert {\n",
              "      background-color: #E8F0FE;\n",
              "      border: none;\n",
              "      border-radius: 50%;\n",
              "      cursor: pointer;\n",
              "      display: none;\n",
              "      fill: #1967D2;\n",
              "      height: 32px;\n",
              "      padding: 0 0 0 0;\n",
              "      width: 32px;\n",
              "    }\n",
              "\n",
              "    .colab-df-convert:hover {\n",
              "      background-color: #E2EBFA;\n",
              "      box-shadow: 0px 1px 2px rgba(60, 64, 67, 0.3), 0px 1px 3px 1px rgba(60, 64, 67, 0.15);\n",
              "      fill: #174EA6;\n",
              "    }\n",
              "\n",
              "    [theme=dark] .colab-df-convert {\n",
              "      background-color: #3B4455;\n",
              "      fill: #D2E3FC;\n",
              "    }\n",
              "\n",
              "    [theme=dark] .colab-df-convert:hover {\n",
              "      background-color: #434B5C;\n",
              "      box-shadow: 0px 1px 3px 1px rgba(0, 0, 0, 0.15);\n",
              "      filter: drop-shadow(0px 1px 2px rgba(0, 0, 0, 0.3));\n",
              "      fill: #FFFFFF;\n",
              "    }\n",
              "  </style>\n",
              "\n",
              "      <script>\n",
              "        const buttonEl =\n",
              "          document.querySelector('#df-0ebe1d5e-d5f8-4b22-928b-ad278d36198e button.colab-df-convert');\n",
              "        buttonEl.style.display =\n",
              "          google.colab.kernel.accessAllowed ? 'block' : 'none';\n",
              "\n",
              "        async function convertToInteractive(key) {\n",
              "          const element = document.querySelector('#df-0ebe1d5e-d5f8-4b22-928b-ad278d36198e');\n",
              "          const dataTable =\n",
              "            await google.colab.kernel.invokeFunction('convertToInteractive',\n",
              "                                                     [key], {});\n",
              "          if (!dataTable) return;\n",
              "\n",
              "          const docLinkHtml = 'Like what you see? Visit the ' +\n",
              "            '<a target=\"_blank\" href=https://colab.research.google.com/notebooks/data_table.ipynb>data table notebook</a>'\n",
              "            + ' to learn more about interactive tables.';\n",
              "          element.innerHTML = '';\n",
              "          dataTable['output_type'] = 'display_data';\n",
              "          await google.colab.output.renderOutput(dataTable, element);\n",
              "          const docLink = document.createElement('div');\n",
              "          docLink.innerHTML = docLinkHtml;\n",
              "          element.appendChild(docLink);\n",
              "        }\n",
              "      </script>\n",
              "    </div>\n",
              "  </div>\n",
              "  "
            ]
          },
          "metadata": {},
          "execution_count": 108
        }
      ]
    },
    {
      "cell_type": "markdown",
      "source": [
        "###Type 3 - Ordinal + Mean"
      ],
      "metadata": {
        "id": "jPkBJdvE-J4t"
      }
    },
    {
      "cell_type": "code",
      "source": [
        "train_ome_X = train_feat.copy()\n",
        "train_ome_X['Offer Accepted'] = train_imb_y\n",
        "test_ome_X = test_feat.copy()\n",
        "ohe_list = []\n",
        "for i in feature_list:\n",
        "  if (i in one_hot_encoding_list):\n",
        "    ohe_list.append(i)\n",
        "\n",
        "for feature in ohe_list:\n",
        "  mean_encode = train_ome_X.groupby(feature)['Offer Accepted'].mean().round(1)\n",
        "  train_ome_X.loc[:, feature] = train_ome_X[feature].map(mean_encode)\n",
        "  if (feature != 'Offer Accepted'):\n",
        "    test_ome_X.loc[:, feature] = test_ome_X[feature].map(mean_encode)\n",
        "\n",
        "train_ome_X = train_ome_X.iloc[:, :-1]\n",
        "train_ome_y = train_imb_y"
      ],
      "metadata": {
        "id": "VGJE-OGi-Njd"
      },
      "execution_count": null,
      "outputs": []
    },
    {
      "cell_type": "code",
      "source": [
        "train_ome_X.head()"
      ],
      "metadata": {
        "colab": {
          "base_uri": "https://localhost:8080/",
          "height": 369
        },
        "id": "4ePmT9u7_HIy",
        "outputId": "c9532c39-3bb6-4aa0-d1a2-4af49d0b95fe"
      },
      "execution_count": null,
      "outputs": [
        {
          "output_type": "execute_result",
          "data": {
            "text/plain": [
              "   offer expiration  income_range  no_visited_Cold drinks  \\\n",
              "0              48.0      100000.0                     3.0   \n",
              "1              10.0       37500.0                     1.0   \n",
              "2              48.0      100000.0                     0.0   \n",
              "3              48.0       50000.0                     0.0   \n",
              "4              10.0       12500.0                     1.0   \n",
              "\n",
              "   travelled_more_than_15mins_for_offer  Restaur_spend_less_than20  \\\n",
              "0                                   1.0                        1.0   \n",
              "1                                   0.0                        2.0   \n",
              "2                                   1.0                        2.0   \n",
              "3                                   1.0                        2.0   \n",
              "4                                   1.0                        1.0   \n",
              "\n",
              "   Marital Status  restaurant type   age  Prefer western over chinese  \\\n",
              "0             0.5              0.4  36.0                          0.0   \n",
              "1             0.5              0.6  46.0                          1.0   \n",
              "2             0.5              0.4  21.0                          0.0   \n",
              "3             0.5              0.4  50.0                          0.0   \n",
              "4             0.5              0.4  41.0                          1.0   \n",
              "\n",
              "   travelled_more_than_25mins_for_offer  ...  Job/Job Industry  \\\n",
              "0                                   0.0  ...               0.5   \n",
              "1                                   0.0  ...               0.5   \n",
              "2                                   1.0  ...               0.5   \n",
              "3                                   0.0  ...               0.5   \n",
              "4                                   0.0  ...               0.5   \n",
              "\n",
              "   restuarant_opposite_direction_house  has Children  \\\n",
              "0                                  0.0           0.0   \n",
              "1                                  0.0           1.0   \n",
              "2                                  1.0           0.0   \n",
              "3                                  1.0           1.0   \n",
              "4                                  1.0           1.0   \n",
              "\n",
              "   visit restaurant with rating (avg)  temperature  \\\n",
              "0                                 4.0         67.0   \n",
              "1                                 3.0         89.0   \n",
              "2                                 3.0         40.0   \n",
              "3                                 0.0         40.0   \n",
              "4                                 1.0         89.0   \n",
              "\n",
              "   Restaur_spend_greater_than20  Travel Time  Climate  drop location  \\\n",
              "0                           1.0         22.0      0.4            0.5   \n",
              "1                           2.0          7.0      0.5            0.4   \n",
              "2                           1.0          7.0      0.5            0.4   \n",
              "3                           1.0         10.0      0.5            0.5   \n",
              "4                           0.0          7.0      0.5            0.4   \n",
              "\n",
              "   Prefer home food  \n",
              "0               0.0  \n",
              "1               0.0  \n",
              "2               0.0  \n",
              "3               0.0  \n",
              "4               0.0  \n",
              "\n",
              "[5 rows x 28 columns]"
            ],
            "text/html": [
              "\n",
              "  <div id=\"df-c94d9f81-b575-4834-a5ba-4356f37ac7da\">\n",
              "    <div class=\"colab-df-container\">\n",
              "      <div>\n",
              "<style scoped>\n",
              "    .dataframe tbody tr th:only-of-type {\n",
              "        vertical-align: middle;\n",
              "    }\n",
              "\n",
              "    .dataframe tbody tr th {\n",
              "        vertical-align: top;\n",
              "    }\n",
              "\n",
              "    .dataframe thead th {\n",
              "        text-align: right;\n",
              "    }\n",
              "</style>\n",
              "<table border=\"1\" class=\"dataframe\">\n",
              "  <thead>\n",
              "    <tr style=\"text-align: right;\">\n",
              "      <th></th>\n",
              "      <th>offer expiration</th>\n",
              "      <th>income_range</th>\n",
              "      <th>no_visited_Cold drinks</th>\n",
              "      <th>travelled_more_than_15mins_for_offer</th>\n",
              "      <th>Restaur_spend_less_than20</th>\n",
              "      <th>Marital Status</th>\n",
              "      <th>restaurant type</th>\n",
              "      <th>age</th>\n",
              "      <th>Prefer western over chinese</th>\n",
              "      <th>travelled_more_than_25mins_for_offer</th>\n",
              "      <th>...</th>\n",
              "      <th>Job/Job Industry</th>\n",
              "      <th>restuarant_opposite_direction_house</th>\n",
              "      <th>has Children</th>\n",
              "      <th>visit restaurant with rating (avg)</th>\n",
              "      <th>temperature</th>\n",
              "      <th>Restaur_spend_greater_than20</th>\n",
              "      <th>Travel Time</th>\n",
              "      <th>Climate</th>\n",
              "      <th>drop location</th>\n",
              "      <th>Prefer home food</th>\n",
              "    </tr>\n",
              "  </thead>\n",
              "  <tbody>\n",
              "    <tr>\n",
              "      <th>0</th>\n",
              "      <td>48.0</td>\n",
              "      <td>100000.0</td>\n",
              "      <td>3.0</td>\n",
              "      <td>1.0</td>\n",
              "      <td>1.0</td>\n",
              "      <td>0.5</td>\n",
              "      <td>0.4</td>\n",
              "      <td>36.0</td>\n",
              "      <td>0.0</td>\n",
              "      <td>0.0</td>\n",
              "      <td>...</td>\n",
              "      <td>0.5</td>\n",
              "      <td>0.0</td>\n",
              "      <td>0.0</td>\n",
              "      <td>4.0</td>\n",
              "      <td>67.0</td>\n",
              "      <td>1.0</td>\n",
              "      <td>22.0</td>\n",
              "      <td>0.4</td>\n",
              "      <td>0.5</td>\n",
              "      <td>0.0</td>\n",
              "    </tr>\n",
              "    <tr>\n",
              "      <th>1</th>\n",
              "      <td>10.0</td>\n",
              "      <td>37500.0</td>\n",
              "      <td>1.0</td>\n",
              "      <td>0.0</td>\n",
              "      <td>2.0</td>\n",
              "      <td>0.5</td>\n",
              "      <td>0.6</td>\n",
              "      <td>46.0</td>\n",
              "      <td>1.0</td>\n",
              "      <td>0.0</td>\n",
              "      <td>...</td>\n",
              "      <td>0.5</td>\n",
              "      <td>0.0</td>\n",
              "      <td>1.0</td>\n",
              "      <td>3.0</td>\n",
              "      <td>89.0</td>\n",
              "      <td>2.0</td>\n",
              "      <td>7.0</td>\n",
              "      <td>0.5</td>\n",
              "      <td>0.4</td>\n",
              "      <td>0.0</td>\n",
              "    </tr>\n",
              "    <tr>\n",
              "      <th>2</th>\n",
              "      <td>48.0</td>\n",
              "      <td>100000.0</td>\n",
              "      <td>0.0</td>\n",
              "      <td>1.0</td>\n",
              "      <td>2.0</td>\n",
              "      <td>0.5</td>\n",
              "      <td>0.4</td>\n",
              "      <td>21.0</td>\n",
              "      <td>0.0</td>\n",
              "      <td>1.0</td>\n",
              "      <td>...</td>\n",
              "      <td>0.5</td>\n",
              "      <td>1.0</td>\n",
              "      <td>0.0</td>\n",
              "      <td>3.0</td>\n",
              "      <td>40.0</td>\n",
              "      <td>1.0</td>\n",
              "      <td>7.0</td>\n",
              "      <td>0.5</td>\n",
              "      <td>0.4</td>\n",
              "      <td>0.0</td>\n",
              "    </tr>\n",
              "    <tr>\n",
              "      <th>3</th>\n",
              "      <td>48.0</td>\n",
              "      <td>50000.0</td>\n",
              "      <td>0.0</td>\n",
              "      <td>1.0</td>\n",
              "      <td>2.0</td>\n",
              "      <td>0.5</td>\n",
              "      <td>0.4</td>\n",
              "      <td>50.0</td>\n",
              "      <td>0.0</td>\n",
              "      <td>0.0</td>\n",
              "      <td>...</td>\n",
              "      <td>0.5</td>\n",
              "      <td>1.0</td>\n",
              "      <td>1.0</td>\n",
              "      <td>0.0</td>\n",
              "      <td>40.0</td>\n",
              "      <td>1.0</td>\n",
              "      <td>10.0</td>\n",
              "      <td>0.5</td>\n",
              "      <td>0.5</td>\n",
              "      <td>0.0</td>\n",
              "    </tr>\n",
              "    <tr>\n",
              "      <th>4</th>\n",
              "      <td>10.0</td>\n",
              "      <td>12500.0</td>\n",
              "      <td>1.0</td>\n",
              "      <td>1.0</td>\n",
              "      <td>1.0</td>\n",
              "      <td>0.5</td>\n",
              "      <td>0.4</td>\n",
              "      <td>41.0</td>\n",
              "      <td>1.0</td>\n",
              "      <td>0.0</td>\n",
              "      <td>...</td>\n",
              "      <td>0.5</td>\n",
              "      <td>1.0</td>\n",
              "      <td>1.0</td>\n",
              "      <td>1.0</td>\n",
              "      <td>89.0</td>\n",
              "      <td>0.0</td>\n",
              "      <td>7.0</td>\n",
              "      <td>0.5</td>\n",
              "      <td>0.4</td>\n",
              "      <td>0.0</td>\n",
              "    </tr>\n",
              "  </tbody>\n",
              "</table>\n",
              "<p>5 rows × 28 columns</p>\n",
              "</div>\n",
              "      <button class=\"colab-df-convert\" onclick=\"convertToInteractive('df-c94d9f81-b575-4834-a5ba-4356f37ac7da')\"\n",
              "              title=\"Convert this dataframe to an interactive table.\"\n",
              "              style=\"display:none;\">\n",
              "        \n",
              "  <svg xmlns=\"http://www.w3.org/2000/svg\" height=\"24px\"viewBox=\"0 0 24 24\"\n",
              "       width=\"24px\">\n",
              "    <path d=\"M0 0h24v24H0V0z\" fill=\"none\"/>\n",
              "    <path d=\"M18.56 5.44l.94 2.06.94-2.06 2.06-.94-2.06-.94-.94-2.06-.94 2.06-2.06.94zm-11 1L8.5 8.5l.94-2.06 2.06-.94-2.06-.94L8.5 2.5l-.94 2.06-2.06.94zm10 10l.94 2.06.94-2.06 2.06-.94-2.06-.94-.94-2.06-.94 2.06-2.06.94z\"/><path d=\"M17.41 7.96l-1.37-1.37c-.4-.4-.92-.59-1.43-.59-.52 0-1.04.2-1.43.59L10.3 9.45l-7.72 7.72c-.78.78-.78 2.05 0 2.83L4 21.41c.39.39.9.59 1.41.59.51 0 1.02-.2 1.41-.59l7.78-7.78 2.81-2.81c.8-.78.8-2.07 0-2.86zM5.41 20L4 18.59l7.72-7.72 1.47 1.35L5.41 20z\"/>\n",
              "  </svg>\n",
              "      </button>\n",
              "      \n",
              "  <style>\n",
              "    .colab-df-container {\n",
              "      display:flex;\n",
              "      flex-wrap:wrap;\n",
              "      gap: 12px;\n",
              "    }\n",
              "\n",
              "    .colab-df-convert {\n",
              "      background-color: #E8F0FE;\n",
              "      border: none;\n",
              "      border-radius: 50%;\n",
              "      cursor: pointer;\n",
              "      display: none;\n",
              "      fill: #1967D2;\n",
              "      height: 32px;\n",
              "      padding: 0 0 0 0;\n",
              "      width: 32px;\n",
              "    }\n",
              "\n",
              "    .colab-df-convert:hover {\n",
              "      background-color: #E2EBFA;\n",
              "      box-shadow: 0px 1px 2px rgba(60, 64, 67, 0.3), 0px 1px 3px 1px rgba(60, 64, 67, 0.15);\n",
              "      fill: #174EA6;\n",
              "    }\n",
              "\n",
              "    [theme=dark] .colab-df-convert {\n",
              "      background-color: #3B4455;\n",
              "      fill: #D2E3FC;\n",
              "    }\n",
              "\n",
              "    [theme=dark] .colab-df-convert:hover {\n",
              "      background-color: #434B5C;\n",
              "      box-shadow: 0px 1px 3px 1px rgba(0, 0, 0, 0.15);\n",
              "      filter: drop-shadow(0px 1px 2px rgba(0, 0, 0, 0.3));\n",
              "      fill: #FFFFFF;\n",
              "    }\n",
              "  </style>\n",
              "\n",
              "      <script>\n",
              "        const buttonEl =\n",
              "          document.querySelector('#df-c94d9f81-b575-4834-a5ba-4356f37ac7da button.colab-df-convert');\n",
              "        buttonEl.style.display =\n",
              "          google.colab.kernel.accessAllowed ? 'block' : 'none';\n",
              "\n",
              "        async function convertToInteractive(key) {\n",
              "          const element = document.querySelector('#df-c94d9f81-b575-4834-a5ba-4356f37ac7da');\n",
              "          const dataTable =\n",
              "            await google.colab.kernel.invokeFunction('convertToInteractive',\n",
              "                                                     [key], {});\n",
              "          if (!dataTable) return;\n",
              "\n",
              "          const docLinkHtml = 'Like what you see? Visit the ' +\n",
              "            '<a target=\"_blank\" href=https://colab.research.google.com/notebooks/data_table.ipynb>data table notebook</a>'\n",
              "            + ' to learn more about interactive tables.';\n",
              "          element.innerHTML = '';\n",
              "          dataTable['output_type'] = 'display_data';\n",
              "          await google.colab.output.renderOutput(dataTable, element);\n",
              "          const docLink = document.createElement('div');\n",
              "          docLink.innerHTML = docLinkHtml;\n",
              "          element.appendChild(docLink);\n",
              "        }\n",
              "      </script>\n",
              "    </div>\n",
              "  </div>\n",
              "  "
            ]
          },
          "metadata": {},
          "execution_count": 110
        }
      ]
    },
    {
      "cell_type": "markdown",
      "source": [
        "#Data Analysis"
      ],
      "metadata": {
        "id": "YBJv3f1Fg_Cs"
      }
    },
    {
      "cell_type": "code",
      "source": [
        "train_y.hist()"
      ],
      "metadata": {
        "colab": {
          "base_uri": "https://localhost:8080/",
          "height": 282
        },
        "id": "NI53siSXO1pV",
        "outputId": "a66c0595-ba45-45ca-edf3-03762b41bd24"
      },
      "execution_count": null,
      "outputs": [
        {
          "output_type": "execute_result",
          "data": {
            "text/plain": [
              "<matplotlib.axes._subplots.AxesSubplot at 0x7f7613c62b10>"
            ]
          },
          "metadata": {},
          "execution_count": 69
        },
        {
          "output_type": "display_data",
          "data": {
            "text/plain": [
              "<Figure size 432x288 with 1 Axes>"
            ],
            "image/png": "[encoded data removed]"
          },
          "metadata": {
            "needs_background": "light"
          }
        }
      ]
    },
    {
      "cell_type": "code",
      "source": [
        "n = train_df.shape[1]\n",
        "for i in range(n):\n",
        "  print(train_df.columns[i],\" - \",train_df.iloc[:,i].dtype, \" - \", train_df.iloc[:,i].unique(), \" - \",train_df.iloc[:,i].isnull().sum())\n",
        "  print('--------------------------------------------------------')"
      ],
      "metadata": {
        "colab": {
          "base_uri": "https://localhost:8080/"
        },
        "id": "KBxfNCNxg-qK",
        "outputId": "01d67fec-3690-4c4f-efdb-0dd51445651e"
      },
      "execution_count": null,
      "outputs": [
        {
          "output_type": "stream",
          "name": "stdout",
          "text": [
            "offer expiration  -  object  -  ['2days' '10hours']  -  0\n",
            "--------------------------------------------------------\n",
            "income_range  -  object  -  ['₹100000 or More' '₹87500 - ₹99999' '₹37500 - ₹49999' 'Less than ₹12500'\n",
            " '₹50000 - ₹62499' '₹12500 - ₹24999' '₹75000 - ₹87499' '₹25000 - ₹37499'\n",
            " '₹62500 - ₹74999']  -  0\n",
            "--------------------------------------------------------\n",
            "no_visited_Cold drinks  -  object  -  ['4~8' 'less1' 'never' '1~3' 'gt8' nan]  -  198\n",
            "--------------------------------------------------------\n",
            "travelled_more_than_15mins_for_offer  -  int64  -  [1 0]  -  0\n",
            "--------------------------------------------------------\n",
            "Restaur_spend_less_than20  -  object  -  ['less1' '4~8' '1~3' 'gt8' 'never' nan]  -  121\n",
            "--------------------------------------------------------\n",
            "Marital Status  -  object  -  ['Married partner' 'Single' 'Divorced' 'Unmarried partner' 'Widowed']  -  0\n",
            "--------------------------------------------------------\n",
            "restaurant type  -  object  -  ['4 star restaurant' 'Take-away restaurant' 'Cold drinks'\n",
            " 'Restaurant with pub' '2 star restaurant']  -  0\n",
            "--------------------------------------------------------\n",
            "age  -  object  -  ['36' '50plus' '26' '46' '21' 'below21' '41' '31']  -  0\n",
            "--------------------------------------------------------\n",
            "Prefer western over chinese  -  int64  -  [0 1]  -  0\n",
            "--------------------------------------------------------\n",
            "travelled_more_than_25mins_for_offer  -  int64  -  [0 1]  -  0\n",
            "--------------------------------------------------------\n",
            "travelled_more_than_5mins_for_offer  -  int64  -  [1]  -  0\n",
            "--------------------------------------------------------\n",
            "no_visited_bars  -  object  -  ['less1' 'never' '1~3' nan '4~8' 'gt8']  -  93\n",
            "--------------------------------------------------------\n",
            "gender  -  object  -  ['Female' 'Male']  -  0\n",
            "--------------------------------------------------------\n",
            "car  -  object  -  [nan 'Mazda5' 'Car that is too old to install Onstar :D' 'crossover'\n",
            " 'Scooter and motorcycle' 'do not drive']  -  12268\n",
            "--------------------------------------------------------\n",
            "restuarant_same_direction_house  -  int64  -  [0 1]  -  0\n",
            "--------------------------------------------------------\n",
            "Cooks regularly  -  int64  -  [1 0]  -  0\n",
            "--------------------------------------------------------\n",
            "Customer type  -  object  -  ['Individual' 'With Family' 'With Kids' 'With Colleagues']  -  0\n",
            "--------------------------------------------------------\n",
            "Qualification  -  object  -  ['Bachelors degree' 'Some college - no degree'\n",
            " 'Graduate degree (Masters or Doctorate)' 'Associates degree'\n",
            " 'High School Graduate' 'Some High School']  -  0\n",
            "--------------------------------------------------------\n",
            "is foodie  -  int64  -  [0 1]  -  0\n",
            "--------------------------------------------------------\n",
            "no_Take-aways  -  object  -  ['1~3' 'gt8' '4~8' 'less1' nan 'never']  -  144\n",
            "--------------------------------------------------------\n",
            "Job/Job Industry  -  object  -  ['Unemployed' 'Arts Design Entertainment Sports & Media' 'Sales & Related'\n",
            " 'Student' 'Business & Financial' 'Computer & Mathematical'\n",
            " 'Office & Administrative Support' 'Management' 'Healthcare Support'\n",
            " 'Life Physical Social Science' 'Installation Maintenance & Repair'\n",
            " 'Legal' 'Community & Social Services' 'Education&Training&Library'\n",
            " 'Construction & Extraction' 'Healthcare Practitioners & Technical'\n",
            " 'Transportation & Material Moving' 'Retired' 'Architecture & Engineering'\n",
            " 'Production Occupations' 'Farming Fishing & Forestry'\n",
            " 'Protective Service' 'Personal Care & Service'\n",
            " 'Food Preparation & Serving Related'\n",
            " 'Building & Grounds Cleaning & Maintenance']  -  0\n",
            "--------------------------------------------------------\n",
            "restuarant_opposite_direction_house  -  int64  -  [0 1]  -  0\n",
            "--------------------------------------------------------\n",
            "has Children  -  int64  -  [0 1]  -  0\n",
            "--------------------------------------------------------\n",
            "visit restaurant with rating (avg)  -  int64  -  [4 3 0 1 2]  -  0\n",
            "--------------------------------------------------------\n",
            "temperature  -  int64  -  [67 89 40]  -  0\n",
            "--------------------------------------------------------\n",
            "Restaur_spend_greater_than20  -  object  -  ['less1' '1~3' 'never' 'gt8' nan '4~8']  -  160\n",
            "--------------------------------------------------------\n",
            "Travel Time  -  int64  -  [22 18  7 10 14]  -  0\n",
            "--------------------------------------------------------\n",
            "Climate  -  object  -  ['Spring' 'Summer' 'Winter']  -  0\n",
            "--------------------------------------------------------\n",
            "drop location  -  object  -  ['Location B' 'Location A' 'Location C']  -  0\n",
            "--------------------------------------------------------\n",
            "Prefer home food  -  int64  -  [0 1]  -  0\n",
            "--------------------------------------------------------\n",
            "Offer Accepted  -  object  -  ['No' 'Yes']  -  0\n",
            "--------------------------------------------------------\n"
          ]
        }
      ]
    },
    {
      "cell_type": "code",
      "source": [
        "round(100*train_nored.groupby(['Offer Accepted']).size()/train_nored.shape[0],0)"
      ],
      "metadata": {
        "colab": {
          "base_uri": "https://localhost:8080/"
        },
        "id": "5EIkA1Z7PTWt",
        "outputId": "27a2f04f-56cc-4eac-8829-5a6af85bb096"
      },
      "execution_count": null,
      "outputs": [
        {
          "output_type": "execute_result",
          "data": {
            "text/plain": [
              "Offer Accepted\n",
              "No     44.0\n",
              "Yes    56.0\n",
              "dtype: float64"
            ]
          },
          "metadata": {},
          "execution_count": 10
        }
      ]
    },
    {
      "cell_type": "code",
      "source": [
        "for i in train_nored.columns:\n",
        "  #print(round(100*train_nored.groupby([i, 'Offer Accepted']).size()/train_nored.shape[0],0))\n",
        "  print(round(100*train_nored.groupby([i, 'Offer Accepted']).size()/train_nored.groupby([i]).size(),0))\n",
        "  print('----------------------------------------------')"
      ],
      "metadata": {
        "colab": {
          "base_uri": "https://localhost:8080/"
        },
        "id": "KW4MGLR4KBIt",
        "outputId": "0f47ee1b-b526-4abb-bdf4-1bf94829c1c3"
      },
      "execution_count": null,
      "outputs": [
        {
          "output_type": "stream",
          "name": "stdout",
          "text": [
            "offer expiration  Offer Accepted\n",
            "10hours           No                47.0\n",
            "                  Yes               53.0\n",
            "2days             No                40.0\n",
            "                  Yes               60.0\n",
            "dtype: float64\n",
            "----------------------------------------------\n",
            "income_range      Offer Accepted\n",
            "Less than ₹12500  No                42.0\n",
            "                  Yes               58.0\n",
            "₹100000 or More   No                42.0\n",
            "                  Yes               58.0\n",
            "₹12500 - ₹24999   No                43.0\n",
            "                  Yes               57.0\n",
            "₹25000 - ₹37499   No                43.0\n",
            "                  Yes               57.0\n",
            "₹37500 - ₹49999   No                43.0\n",
            "                  Yes               57.0\n",
            "₹50000 - ₹62499   No                42.0\n",
            "                  Yes               58.0\n",
            "₹62500 - ₹74999   No                47.0\n",
            "                  Yes               53.0\n",
            "₹75000 - ₹87499   No                49.0\n",
            "                  Yes               51.0\n",
            "₹87500 - ₹99999   No                46.0\n",
            "                  Yes               54.0\n",
            "dtype: float64\n",
            "----------------------------------------------\n",
            "no_visited_Cold drinks  Offer Accepted\n",
            "1~3                     No                37.0\n",
            "                        Yes               63.0\n",
            "4~8                     No                40.0\n",
            "                        Yes               60.0\n",
            "gt8                     No                42.0\n",
            "                        Yes               58.0\n",
            "less1                   No                44.0\n",
            "                        Yes               56.0\n",
            "never                   No                52.0\n",
            "                        Yes               48.0\n",
            "dtype: float64\n",
            "----------------------------------------------\n",
            "travelled_more_than_15mins_for_offer  Offer Accepted\n",
            "0                                     No                40.0\n",
            "                                      Yes               60.0\n",
            "1                                     No                46.0\n",
            "                                      Yes               54.0\n",
            "dtype: float64\n",
            "----------------------------------------------\n",
            "Restaur_spend_less_than20  Offer Accepted\n",
            "1~3                        No                44.0\n",
            "                           Yes               56.0\n",
            "4~8                        No                42.0\n",
            "                           Yes               58.0\n",
            "gt8                        No                40.0\n",
            "                           Yes               60.0\n",
            "less1                      No                46.0\n",
            "                           Yes               54.0\n",
            "never                      No                45.0\n",
            "                           Yes               55.0\n",
            "dtype: float64\n",
            "----------------------------------------------\n",
            "Marital Status     Offer Accepted\n",
            "Divorced           No                46.0\n",
            "                   Yes               54.0\n",
            "Married partner    No                46.0\n",
            "                   Yes               54.0\n",
            "Single             No                41.0\n",
            "                   Yes               59.0\n",
            "Unmarried partner  No                43.0\n",
            "                   Yes               57.0\n",
            "Widowed            No                50.0\n",
            "                   Yes               50.0\n",
            "dtype: float64\n",
            "----------------------------------------------\n",
            "restaurant type       Offer Accepted\n",
            "2 star restaurant     No                37.0\n",
            "                      Yes               63.0\n",
            "4 star restaurant     No                50.0\n",
            "                      Yes               50.0\n",
            "Cold drinks           No                47.0\n",
            "                      Yes               53.0\n",
            "Restaurant with pub   No                50.0\n",
            "                      Yes               50.0\n",
            "Take-away restaurant  No                35.0\n",
            "                      Yes               65.0\n",
            "dtype: float64\n",
            "----------------------------------------------\n",
            "age      Offer Accepted\n",
            "21       No                40.0\n",
            "         Yes               60.0\n",
            "26       No                42.0\n",
            "         Yes               58.0\n",
            "31       No                45.0\n",
            "         Yes               55.0\n",
            "36       No                45.0\n",
            "         Yes               55.0\n",
            "41       No                45.0\n",
            "         Yes               55.0\n",
            "46       No                44.0\n",
            "         Yes               56.0\n",
            "50plus   No                47.0\n",
            "         Yes               53.0\n",
            "below21  No                41.0\n",
            "         Yes               59.0\n",
            "dtype: float64\n",
            "----------------------------------------------\n",
            "Prefer western over chinese  Offer Accepted\n",
            "0                            No                43.0\n",
            "                             Yes               57.0\n",
            "1                            No                44.0\n",
            "                             Yes               56.0\n",
            "dtype: float64\n",
            "----------------------------------------------\n",
            "travelled_more_than_25mins_for_offer  Offer Accepted\n",
            "0                                     No                42.0\n",
            "                                      Yes               58.0\n",
            "1                                     No                55.0\n",
            "                                      Yes               45.0\n",
            "dtype: float64\n",
            "----------------------------------------------\n",
            "no_visited_bars  Offer Accepted\n",
            "1~3              No                40.0\n",
            "                 Yes               60.0\n",
            "4~8              No                39.0\n",
            "                 Yes               61.0\n",
            "gt8              No                38.0\n",
            "                 Yes               62.0\n",
            "less1            No                44.0\n",
            "                 Yes               56.0\n",
            "never            No                46.0\n",
            "                 Yes               54.0\n",
            "dtype: float64\n",
            "----------------------------------------------\n",
            "gender  Offer Accepted\n",
            "Female  No                45.0\n",
            "        Yes               55.0\n",
            "Male    No                42.0\n",
            "        Yes               58.0\n",
            "dtype: float64\n",
            "----------------------------------------------\n",
            "restuarant_same_direction_house  Offer Accepted\n",
            "0                                No                44.0\n",
            "                                 Yes               56.0\n",
            "1                                No                43.0\n",
            "                                 Yes               57.0\n",
            "dtype: float64\n",
            "----------------------------------------------\n",
            "Cooks regularly  Offer Accepted\n",
            "0                No                44.0\n",
            "                 Yes               56.0\n",
            "1                No                43.0\n",
            "                 Yes               57.0\n",
            "dtype: float64\n",
            "----------------------------------------------\n",
            "Customer type    Offer Accepted\n",
            "Individual       No                46.0\n",
            "                 Yes               54.0\n",
            "With Colleagues  No                37.0\n",
            "                 Yes               63.0\n",
            "With Family      No                46.0\n",
            "                 Yes               54.0\n",
            "With Kids        No                43.0\n",
            "                 Yes               57.0\n",
            "dtype: float64\n",
            "----------------------------------------------\n",
            "Qualification                           Offer Accepted\n",
            "Associates degree                       No                45.0\n",
            "                                        Yes               55.0\n",
            "Bachelors degree                        No                45.0\n",
            "                                        Yes               55.0\n",
            "Graduate degree (Masters or Doctorate)  No                47.0\n",
            "                                        Yes               53.0\n",
            "High School Graduate                    No                42.0\n",
            "                                        Yes               58.0\n",
            "Some High School                        No                28.0\n",
            "                                        Yes               72.0\n",
            "Some college - no degree                No                41.0\n",
            "                                        Yes               59.0\n",
            "dtype: float64\n",
            "----------------------------------------------\n",
            "is foodie  Offer Accepted\n",
            "0          No                44.0\n",
            "           Yes               56.0\n",
            "1          No                43.0\n",
            "           Yes               57.0\n",
            "dtype: float64\n",
            "----------------------------------------------\n",
            "no_Take-aways  Offer Accepted\n",
            "1~3            No                42.0\n",
            "               Yes               58.0\n",
            "4~8            No                42.0\n",
            "               Yes               58.0\n",
            "gt8            No                45.0\n",
            "               Yes               55.0\n",
            "less1          No                48.0\n",
            "               Yes               52.0\n",
            "never          No                47.0\n",
            "               Yes               53.0\n",
            "dtype: float64\n",
            "----------------------------------------------\n",
            "Job/Job Industry                           Offer Accepted\n",
            "Architecture & Engineering                 No                32.0\n",
            "                                           Yes               68.0\n",
            "Arts Design Entertainment Sports & Media   No                45.0\n",
            "                                           Yes               55.0\n",
            "Building & Grounds Cleaning & Maintenance  No                34.0\n",
            "                                           Yes               66.0\n",
            "Business & Financial                       No                42.0\n",
            "                                           Yes               58.0\n",
            "Community & Social Services                No                48.0\n",
            "                                           Yes               52.0\n",
            "Computer & Mathematical                    No                45.0\n",
            "                                           Yes               55.0\n",
            "Construction & Extraction                  No                41.0\n",
            "                                           Yes               59.0\n",
            "Education&Training&Library                 No                48.0\n",
            "                                           Yes               52.0\n",
            "Farming Fishing & Forestry                 No                53.0\n",
            "                                           Yes               47.0\n",
            "Food Preparation & Serving Related         No                46.0\n",
            "                                           Yes               54.0\n",
            "Healthcare Practitioners & Technical       No                36.0\n",
            "                                           Yes               64.0\n",
            "Healthcare Support                         No                34.0\n",
            "                                           Yes               66.0\n",
            "Installation Maintenance & Repair          No                51.0\n",
            "                                           Yes               49.0\n",
            "Legal                                      No                48.0\n",
            "                                           Yes               52.0\n",
            "Life Physical Social Science               No                44.0\n",
            "                                           Yes               56.0\n",
            "Management                                 No                42.0\n",
            "                                           Yes               58.0\n",
            "Office & Administrative Support            No                42.0\n",
            "                                           Yes               58.0\n",
            "Personal Care & Service                    No                47.0\n",
            "                                           Yes               53.0\n",
            "Production Occupations                     No                37.0\n",
            "                                           Yes               63.0\n",
            "Protective Service                         No                42.0\n",
            "                                           Yes               58.0\n",
            "Retired                                    No                53.0\n",
            "                                           Yes               47.0\n",
            "Sales & Related                            No                43.0\n",
            "                                           Yes               57.0\n",
            "Student                                    No                39.0\n",
            "                                           Yes               61.0\n",
            "Transportation & Material Moving           No                44.0\n",
            "                                           Yes               56.0\n",
            "Unemployed                                 No                44.0\n",
            "                                           Yes               56.0\n",
            "dtype: float64\n",
            "----------------------------------------------\n",
            "restuarant_opposite_direction_house  Offer Accepted\n",
            "0                                    No                42.0\n",
            "                                     Yes               58.0\n",
            "1                                    No                44.0\n",
            "                                     Yes               56.0\n",
            "dtype: float64\n",
            "----------------------------------------------\n",
            "has Children  Offer Accepted\n",
            "0             No                42.0\n",
            "              Yes               58.0\n",
            "1             No                46.0\n",
            "              Yes               54.0\n",
            "dtype: float64\n",
            "----------------------------------------------\n",
            "visit restaurant with rating (avg)  Offer Accepted\n",
            "0                                   No                44.0\n",
            "                                    Yes               56.0\n",
            "1                                   No                45.0\n",
            "                                    Yes               55.0\n",
            "2                                   No                43.0\n",
            "                                    Yes               57.0\n",
            "3                                   No                42.0\n",
            "                                    Yes               58.0\n",
            "4                                   No                44.0\n",
            "                                    Yes               56.0\n",
            "dtype: float64\n",
            "----------------------------------------------\n",
            "temperature  Offer Accepted\n",
            "40           No                46.0\n",
            "             Yes               54.0\n",
            "67           No                45.0\n",
            "             Yes               55.0\n",
            "89           No                41.0\n",
            "             Yes               59.0\n",
            "dtype: float64\n",
            "----------------------------------------------\n",
            "Restaur_spend_greater_than20  Offer Accepted\n",
            "1~3                           No                41.0\n",
            "                              Yes               59.0\n",
            "4~8                           No                37.0\n",
            "                              Yes               63.0\n",
            "gt8                           No                35.0\n",
            "                              Yes               65.0\n",
            "less1                         No                45.0\n",
            "                              Yes               55.0\n",
            "never                         No                46.0\n",
            "                              Yes               54.0\n",
            "dtype: float64\n",
            "----------------------------------------------\n",
            "Travel Time  Offer Accepted\n",
            "7            No                47.0\n",
            "             Yes               53.0\n",
            "10           No                43.0\n",
            "             Yes               57.0\n",
            "14           No                40.0\n",
            "             Yes               60.0\n",
            "18           No                41.0\n",
            "             Yes               59.0\n",
            "22           No                47.0\n",
            "             Yes               53.0\n",
            "dtype: float64\n",
            "----------------------------------------------\n",
            "Climate  Offer Accepted\n",
            "Spring   No                47.0\n",
            "         Yes               53.0\n",
            "Summer   No                42.0\n",
            "         Yes               58.0\n",
            "Winter   No                45.0\n",
            "         Yes               55.0\n",
            "dtype: float64\n",
            "----------------------------------------------\n",
            "drop location  Offer Accepted\n",
            "Location A     No                40.0\n",
            "               Yes               60.0\n",
            "Location B     No                47.0\n",
            "               Yes               53.0\n",
            "Location C     No                46.0\n",
            "               Yes               54.0\n",
            "dtype: float64\n",
            "----------------------------------------------\n",
            "Prefer home food  Offer Accepted\n",
            "0                 No                44.0\n",
            "                  Yes               56.0\n",
            "1                 No                43.0\n",
            "                  Yes               57.0\n",
            "dtype: float64\n",
            "----------------------------------------------\n",
            "Offer Accepted  Offer Accepted\n",
            "No              No                100.0\n",
            "Yes             Yes               100.0\n",
            "dtype: float64\n",
            "----------------------------------------------\n"
          ]
        }
      ]
    },
    {
      "cell_type": "markdown",
      "source": [
        "#Common Libraries"
      ],
      "metadata": {
        "id": "pSNH8N0rvg6h"
      }
    },
    {
      "cell_type": "markdown",
      "source": [
        "####Generate File"
      ],
      "metadata": {
        "id": "9wvh8fkHSNtA"
      }
    },
    {
      "cell_type": "code",
      "source": [
        "def gen_submission_file(model, test_X, name):\n",
        "  label_pred = model.predict(test_X)\n",
        "  f = open(f'submissions_{name}.csv', \"w\")\n",
        "  f.write('id' + ',' + 'Offer Accepted\\n')\n",
        "  for i in range(len(label_pred)):\n",
        "    if (label_pred[i] == 0):\n",
        "      f.write(str(i) + ',' + 'No\\n')\n",
        "    else:\n",
        "      f.write(str(i) + ',' + 'Yes\\n')\n",
        "  f.close()"
      ],
      "metadata": {
        "id": "LqdksJ4kWzXV"
      },
      "execution_count": null,
      "outputs": []
    },
    {
      "cell_type": "code",
      "source": [
        "def metrics_display(model, X_train, X_test, y_train, y_test):\n",
        "  from sklearn.metrics import classification_report, confusion_matrix, ConfusionMatrixDisplay, roc_auc_score, RocCurveDisplay, PrecisionRecallDisplay\n",
        "  y_pred = model.predict(X_test)\n",
        "  #----------------------------------------------------------------------------------\n",
        "  print(f'Accuracy on Training: {model.score(X_train, y_train)}')\n",
        "  print()\n",
        "  print(f'Accuracy on Test: {model.score(X_test, y_test)}')\n",
        "  print()\n",
        "  print('---------------------------------------------------------------')\n",
        "  print(classification_report(y_test, y_pred))\n",
        "  cm = confusion_matrix(y_test, y_pred)\n",
        "  ConfusionMatrixDisplay(cm).plot()\n",
        "  RocCurveDisplay.from_estimator(model, X_test, y_test, pos_label = 0)\n",
        "  PrecisionRecallDisplay.from_estimator(model, y_test, y_pred)\n",
        "  plt.show()"
      ],
      "metadata": {
        "id": "l6aiBwAqvdqg"
      },
      "execution_count": null,
      "outputs": []
    },
    {
      "cell_type": "markdown",
      "source": [
        "#Linear Models"
      ],
      "metadata": {
        "id": "JgjoeDxwsy4l"
      }
    },
    {
      "cell_type": "markdown",
      "source": [
        "##Perceptron"
      ],
      "metadata": {
        "id": "jizUMyOCswBl"
      }
    },
    {
      "cell_type": "code",
      "source": [
        "## No Cross Validation\n",
        "def run_perceptron(train_X, train_y, test_X):\n",
        "  from sklearn.linear_model import Perceptron\n",
        "  from sklearn.model_selection import train_test_split\n",
        "  random_state = 43\n",
        "  X_train, X_test, y_train, y_test = train_test_split(train_X, train_y, test_size = 0.20, random_state = random_state)\n",
        "  model = Perceptron(random_state = random_state,)\n",
        "  model.fit(X_train, y_train)\n",
        "  metrics_display(model, X_train, X_test, y_train, y_test)\n",
        "  gen_submission_file(model, test_X, 'percep')\n"
      ],
      "metadata": {
        "id": "3vtikDTEzXNh"
      },
      "execution_count": null,
      "outputs": []
    },
    {
      "cell_type": "code",
      "source": [
        "## With Cross Validation\n",
        "def run_perceptron_cv(train_X, train_y):\n",
        "  from sklearn.linear_model import Perceptron\n",
        "  from sklearn.model_selection import GridSearchCV, RandomizedSearchCV, StratifiedShuffleSplit,train_test_split\n",
        "  random_state = 43\n",
        "  X_train, X_test, y_train, y_test = train_test_split(train_X, train_y, test_size = 0.20, random_state = random_state)\n",
        "  sss = StratifiedShuffleSplit(n_splits = 10, test_size = 0.2, random_state = random_state)\n",
        "  params = {'penalty':['l1','l2','elasticnet'], 'alpha': np.logspace(-4,0,5), 'l1_ratio':[0,0.15, 0.5], 'max_iter':[500,1000,1500], 'class_weight':[None, 'balanced']}\n",
        "  gs = GridSearchCV(estimator=Perceptron(), param_grid = params, cv = sss)\n",
        "  gs.fit(X_train, y_train)\n",
        "  metrics_display(gs, X_train, X_test, y_train, y_test)\n",
        "  print(gs.best_params_)\n"
      ],
      "metadata": {
        "id": "n4OJ2Bio5_VZ"
      },
      "execution_count": null,
      "outputs": []
    },
    {
      "cell_type": "markdown",
      "source": [
        "####Target Encoding Dataset"
      ],
      "metadata": {
        "id": "KbFrEI-jtses"
      }
    },
    {
      "cell_type": "code",
      "source": [
        "run_perceptron(train_mean_X, train_mean_y, test_mean_X)"
      ],
      "metadata": {
        "id": "q9EYFarvyyh6",
        "colab": {
          "base_uri": "https://localhost:8080/",
          "height": 1000
        },
        "outputId": "2cb229a0-d27f-49eb-e143-bc54f5d21732"
      },
      "execution_count": null,
      "outputs": [
        {
          "output_type": "stream",
          "name": "stdout",
          "text": [
            "Accuracy on Training: 0.6146559428060768\n",
            "\n",
            "Accuracy on Test: 0.6136526090064331\n",
            "\n",
            "---------------------------------------------------------------\n",
            "              precision    recall  f1-score   support\n",
            "\n",
            "         0.0       1.00      0.24      0.39      1425\n",
            "         1.0       0.56      1.00      0.72      1373\n",
            "\n",
            "    accuracy                           0.61      2798\n",
            "   macro avg       0.78      0.62      0.55      2798\n",
            "weighted avg       0.78      0.61      0.55      2798\n",
            "\n"
          ]
        },
        {
          "output_type": "display_data",
          "data": {
            "text/plain": [
              "<Figure size 432x288 with 2 Axes>"
            ],
            "image/png": "[encoded data removed]"
          },
          "metadata": {
            "needs_background": "light"
          }
        },
        {
          "output_type": "display_data",
          "data": {
            "text/plain": [
              "<Figure size 432x288 with 1 Axes>"
            ],
            "image/png": "[encoded data removed]"
          },
          "metadata": {
            "needs_background": "light"
          }
        },
        {
          "output_type": "display_data",
          "data": {
            "text/plain": [
              "<Figure size 432x288 with 1 Axes>"
            ],
            "image/png": "[encoded data removed]"
          },
          "metadata": {
            "needs_background": "light"
          }
        }
      ]
    },
    {
      "cell_type": "code",
      "source": [
        "run_perceptron_cv(train_mean_X, train_mean_y)"
      ],
      "metadata": {
        "id": "9HYGoh699blD"
      },
      "execution_count": null,
      "outputs": []
    },
    {
      "cell_type": "markdown",
      "source": [
        "####One hot encoding"
      ],
      "metadata": {
        "id": "L5m_7Ce74Rgm"
      }
    },
    {
      "cell_type": "code",
      "source": [
        "run_perceptron(train_ohe_X, train_ohe_y)"
      ],
      "metadata": {
        "id": "5F3HFJhT4Q5g"
      },
      "execution_count": null,
      "outputs": []
    },
    {
      "cell_type": "code",
      "source": [
        "run_perceptron_cv(train_ohe_X, train_ohe_y)"
      ],
      "metadata": {
        "id": "3PEnKUEp-DY7"
      },
      "execution_count": null,
      "outputs": []
    },
    {
      "cell_type": "markdown",
      "source": [
        "####Ordinal + Mean Encoding"
      ],
      "metadata": {
        "id": "QBQJWyTK4-O8"
      }
    },
    {
      "cell_type": "code",
      "source": [
        "run_perceptron(train_ome_X, train_ome_y)"
      ],
      "metadata": {
        "id": "DRdQ_QEb5B0q"
      },
      "execution_count": null,
      "outputs": []
    },
    {
      "cell_type": "code",
      "source": [
        "run_perceptron_cv(train_ome_X, train_ome_y)"
      ],
      "metadata": {
        "id": "Z0eoT2ieDg0W"
      },
      "execution_count": null,
      "outputs": []
    },
    {
      "cell_type": "markdown",
      "source": [
        "##Logistic Regression"
      ],
      "metadata": {
        "id": "73oD3V_5E_NQ"
      }
    },
    {
      "cell_type": "code",
      "source": [
        "## No Cross Validation\n",
        "def run_logreg(train_X, train_y, test_X):\n",
        "  from sklearn.linear_model import LogisticRegression\n",
        "  from sklearn.model_selection import train_test_split\n",
        "  random_state = 43\n",
        "  X_train, X_test, y_train, y_test = train_test_split(train_X, train_y, test_size = 0.20, random_state = random_state)\n",
        "  model = LogisticRegression(C=1.7782794100389228, class_weight= 'balanced', l1_ratio= 0, max_iter =200, penalty = 'l2', random_state = random_state)\n",
        "  #{'C': 1.7782794100389228, 'class_weight': 'balanced', 'l1_ratio': 0, 'max_iter': 200, 'penalty': 'l2'}\n",
        "  model.fit(X_train, y_train)\n",
        "  metrics_display(model, X_train, X_test, y_train, y_test)\n",
        "  gen_submission_file(model, test_X, 'logreg')\n",
        "\n"
      ],
      "metadata": {
        "id": "T7EV2AEXFHiB"
      },
      "execution_count": null,
      "outputs": []
    },
    {
      "cell_type": "code",
      "source": [
        "## With Cross Validation\n",
        "def run_logreg_cv(train_X, train_y):\n",
        "  from sklearn.linear_model import LogisticRegression\n",
        "  from sklearn.model_selection import GridSearchCV, RandomizedSearchCV, StratifiedShuffleSplit, train_test_split\n",
        "  random_state = 43\n",
        "  X_train, X_test, y_train, y_test = train_test_split(train_X, train_y, test_size = 0.20, random_state = random_state)\n",
        "  sss = StratifiedShuffleSplit(n_splits = 5, test_size = 0.3, random_state = random_state)\n",
        "  params = {'penalty':['l1','l2','elasticnet'], 'C': np.logspace(-2,1,5), 'l1_ratio':[0,0.15, 0.5], 'max_iter':[100, 200,500], 'class_weight':[None, 'balanced', {0: 0.6, 1: 0.4} ]}\n",
        "  gs = GridSearchCV(estimator=LogisticRegression(), param_grid = params, cv = sss)\n",
        "  gs.fit(X_train, y_train)\n",
        "  metrics_display(gs, X_train, X_test, y_train, y_test)\n",
        "  print(gs.best_params_)\n"
      ],
      "metadata": {
        "id": "2quj0H6BFHiC"
      },
      "execution_count": null,
      "outputs": []
    },
    {
      "cell_type": "markdown",
      "source": [
        "####Target Encoding Dataset"
      ],
      "metadata": {
        "id": "EV-C56CEFWtI"
      }
    },
    {
      "cell_type": "code",
      "source": [
        "run_logreg(train_mean_X, train_mean_y, test_mean_X)"
      ],
      "metadata": {
        "id": "ZV78UmK4FWtI",
        "colab": {
          "base_uri": "https://localhost:8080/",
          "height": 1000
        },
        "outputId": "e2df97b9-59cb-40f3-b43c-f7c066306914"
      },
      "execution_count": null,
      "outputs": [
        {
          "output_type": "stream",
          "name": "stdout",
          "text": [
            "Accuracy on Training: 0.6571939231456658\n",
            "\n",
            "Accuracy on Test: 0.6465332380271622\n",
            "\n",
            "---------------------------------------------------------------\n",
            "              precision    recall  f1-score   support\n",
            "\n",
            "         0.0       0.71      0.52      0.60      1425\n",
            "         1.0       0.61      0.77      0.68      1373\n",
            "\n",
            "    accuracy                           0.65      2798\n",
            "   macro avg       0.66      0.65      0.64      2798\n",
            "weighted avg       0.66      0.65      0.64      2798\n",
            "\n"
          ]
        },
        {
          "output_type": "display_data",
          "data": {
            "text/plain": [
              "<Figure size 432x288 with 2 Axes>"
            ],
            "image/png": "[encoded data removed]"
          },
          "metadata": {
            "needs_background": "light"
          }
        },
        {
          "output_type": "display_data",
          "data": {
            "text/plain": [
              "<Figure size 432x288 with 1 Axes>"
            ],
            "image/png": "[encoded data removed]"
          },
          "metadata": {
            "needs_background": "light"
          }
        },
        {
          "output_type": "display_data",
          "data": {
            "text/plain": [
              "<Figure size 432x288 with 1 Axes>"
            ],
            "image/png": "[encoded data removed]"
          },
          "metadata": {
            "needs_background": "light"
          }
        }
      ]
    },
    {
      "cell_type": "code",
      "source": [
        "run_logreg_cv(train_mean_X, train_mean_y)"
      ],
      "metadata": {
        "colab": {
          "base_uri": "https://localhost:8080/",
          "height": 1000
        },
        "id": "oZiIGA1sFWtI",
        "outputId": "80535905-5c4f-426d-eee3-05016a6086d8"
      },
      "execution_count": null,
      "outputs": [
        {
          "output_type": "stream",
          "name": "stdout",
          "text": [
            "Accuracy on Training: 0.6571939231456658\n",
            "\n",
            "Accuracy on Test: 0.6465332380271622\n",
            "\n",
            "---------------------------------------------------------------\n",
            "              precision    recall  f1-score   support\n",
            "\n",
            "         0.0       0.71      0.52      0.60      1425\n",
            "         1.0       0.61      0.77      0.68      1373\n",
            "\n",
            "    accuracy                           0.65      2798\n",
            "   macro avg       0.66      0.65      0.64      2798\n",
            "weighted avg       0.66      0.65      0.64      2798\n",
            "\n"
          ]
        },
        {
          "output_type": "display_data",
          "data": {
            "text/plain": [
              "<Figure size 432x288 with 2 Axes>"
            ],
            "image/png": "[encoded data removed]"
          },
          "metadata": {
            "needs_background": "light"
          }
        },
        {
          "output_type": "display_data",
          "data": {
            "text/plain": [
              "<Figure size 432x288 with 1 Axes>"
            ],
            "image/png": "[encoded data removed]"
          },
          "metadata": {
            "needs_background": "light"
          }
        },
        {
          "output_type": "display_data",
          "data": {
            "text/plain": [
              "<Figure size 432x288 with 1 Axes>"
            ],
            "image/png": "[encoded data removed]"
          },
          "metadata": {
            "needs_background": "light"
          }
        },
        {
          "output_type": "stream",
          "name": "stdout",
          "text": [
            "{'C': 1.7782794100389228, 'class_weight': 'balanced', 'l1_ratio': 0, 'max_iter': 200, 'penalty': 'l2'}\n"
          ]
        }
      ]
    },
    {
      "cell_type": "markdown",
      "source": [
        "####One hot encoding"
      ],
      "metadata": {
        "id": "ajSVpMmAFWtJ"
      }
    },
    {
      "cell_type": "code",
      "source": [
        "run_logreg(train_ohe_X, train_ohe_y, test_ohe_X)"
      ],
      "metadata": {
        "id": "WB1DaMD0FWtJ",
        "colab": {
          "base_uri": "https://localhost:8080/",
          "height": 1000
        },
        "outputId": "10a8bc6c-63e1-42c3-9c07-79d36ba55c63"
      },
      "execution_count": null,
      "outputs": [
        {
          "output_type": "stream",
          "name": "stdout",
          "text": [
            "Accuracy on Training: 0.5367060486721196\n",
            "\n",
            "Accuracy on Test: 0.5484652665589661\n",
            "\n",
            "---------------------------------------------------------------\n",
            "              precision    recall  f1-score   support\n",
            "\n",
            "           0       0.49      0.53      0.51      1093\n",
            "           1       0.60      0.56      0.58      1383\n",
            "\n",
            "    accuracy                           0.55      2476\n",
            "   macro avg       0.55      0.55      0.55      2476\n",
            "weighted avg       0.55      0.55      0.55      2476\n",
            "\n"
          ]
        },
        {
          "output_type": "display_data",
          "data": {
            "text/plain": [
              "<Figure size 432x288 with 2 Axes>"
            ],
            "image/png": "[encoded data removed]"
          },
          "metadata": {
            "needs_background": "light"
          }
        },
        {
          "output_type": "display_data",
          "data": {
            "text/plain": [
              "<Figure size 432x288 with 1 Axes>"
            ],
            "image/png": "[encoded data removed]"
          },
          "metadata": {
            "needs_background": "light"
          }
        },
        {
          "output_type": "display_data",
          "data": {
            "text/plain": [
              "<Figure size 432x288 with 1 Axes>"
            ],
            "image/png": "[encoded data removed]"
          },
          "metadata": {
            "needs_background": "light"
          }
        }
      ]
    },
    {
      "cell_type": "code",
      "source": [
        "run_logreg_cv(train_ohe_X, train_ohe_y)"
      ],
      "metadata": {
        "id": "hVA32scTFWtJ"
      },
      "execution_count": null,
      "outputs": []
    },
    {
      "cell_type": "markdown",
      "source": [
        "####Ordinal + Mean Encoding"
      ],
      "metadata": {
        "id": "4-2U_81XFWtJ"
      }
    },
    {
      "cell_type": "code",
      "source": [
        "run_logreg(train_ome_X, train_ome_y)"
      ],
      "metadata": {
        "id": "OUgI4NWGFWtJ",
        "colab": {
          "base_uri": "https://localhost:8080/",
          "height": 1000
        },
        "outputId": "0b620662-f27e-4702-a459-bf47d8e6d4f8"
      },
      "execution_count": null,
      "outputs": [
        {
          "output_type": "stream",
          "name": "stdout",
          "text": [
            "Accuracy on Training: 0.5177837354781054\n",
            "\n",
            "Accuracy on Test: 0.5139385275196569\n",
            "\n",
            "---------------------------------------------------------------\n",
            "              precision    recall  f1-score   support\n",
            "\n",
            "           0       0.52      0.55      0.54      1425\n",
            "           1       0.51      0.48      0.49      1373\n",
            "\n",
            "    accuracy                           0.51      2798\n",
            "   macro avg       0.51      0.51      0.51      2798\n",
            "weighted avg       0.51      0.51      0.51      2798\n",
            "\n"
          ]
        },
        {
          "output_type": "display_data",
          "data": {
            "text/plain": [
              "<Figure size 432x288 with 2 Axes>"
            ],
            "image/png": "[encoded data removed]"
          },
          "metadata": {
            "needs_background": "light"
          }
        },
        {
          "output_type": "display_data",
          "data": {
            "text/plain": [
              "<Figure size 432x288 with 1 Axes>"
            ],
            "image/png": "[encoded data removed]"
          },
          "metadata": {
            "needs_background": "light"
          }
        },
        {
          "output_type": "display_data",
          "data": {
            "text/plain": [
              "<Figure size 432x288 with 1 Axes>"
            ],
            "image/png": "[encoded data removed]"
          },
          "metadata": {
            "needs_background": "light"
          }
        }
      ]
    },
    {
      "cell_type": "code",
      "source": [
        "run_logreg_cv(train_ome_X, train_ome_y)"
      ],
      "metadata": {
        "id": "Fad7yogDFWtJ"
      },
      "execution_count": null,
      "outputs": []
    },
    {
      "cell_type": "markdown",
      "source": [
        "##Support Vector Machines"
      ],
      "metadata": {
        "id": "L5SeF4Dj7vIs"
      }
    },
    {
      "cell_type": "code",
      "source": [
        "## No Cross Validation\n",
        "def run_svc(train_X, train_y, test_X):\n",
        "  from sklearn.svm import SVC\n",
        "  from sklearn.model_selection import train_test_split\n",
        "  random_state = 43\n",
        "  X_train, X_test, y_train, y_test = train_test_split(train_X, train_y, test_size = 0.20, random_state = random_state)\n",
        "  model = SVC(C=10, kernel = 'rbf', degree = 2, gamma = 'scale', max_iter = -1, random_state =43)\n",
        "  #'kernel': 'rbf', 'gamma': 'scale', 'degree': 1, 'C': 0.1\n",
        "  #{'C': 3.1622776601683795, 'degree': 2, 'gamma': 'scale', 'kernel': 'poly'}\n",
        "  model.fit(X_train, y_train)\n",
        "  metrics_display(model, X_train, X_test, y_train, y_test)\n",
        "  gen_submission_file(model, test_X, 'svc')\n",
        "\n"
      ],
      "metadata": {
        "id": "MM90EZ1v7y9z"
      },
      "execution_count": null,
      "outputs": []
    },
    {
      "cell_type": "code",
      "source": [
        "## With Cross Validation\n",
        "def run_svc_cv(train_X, train_y):\n",
        "  from sklearn.svm import SVC\n",
        "  from sklearn.model_selection import GridSearchCV, RandomizedSearchCV, StratifiedShuffleSplit, train_test_split\n",
        "  random_state = 43\n",
        "  X_train, X_test, y_train, y_test = train_test_split(train_X, train_y, test_size = 0.20, random_state = random_state)\n",
        "  sss = StratifiedShuffleSplit(n_splits = 5, test_size = 0.3, random_state = random_state)\n",
        "  params = {'C':np.logspace(-1,2,5),'kernel':['rbf', 'linear', 'poly'], 'degree':[1,2,3], 'gamma':['scale', 'auto'] }\n",
        "  gs = RandomizedSearchCV(estimator=SVC(), param_distributions = params, cv = sss)\n",
        "  gs.fit(X_train, y_train)\n",
        "  metrics_display(gs, X_train, X_test, y_train, y_test)\n",
        "  print(gs.best_params_)\n"
      ],
      "metadata": {
        "id": "OxxyFPro7y9z"
      },
      "execution_count": null,
      "outputs": []
    },
    {
      "cell_type": "markdown",
      "source": [
        "####Target Encoding Dataset"
      ],
      "metadata": {
        "id": "XH_mGzz69TSb"
      }
    },
    {
      "cell_type": "code",
      "source": [
        "run_svc(train_mean_X, train_mean_y, test_mean_X)"
      ],
      "metadata": {
        "colab": {
          "base_uri": "https://localhost:8080/",
          "height": 1000
        },
        "outputId": "e6b712aa-8858-4f46-8a08-0958ebc310c4",
        "id": "WgSFzbQA9TSc"
      },
      "execution_count": null,
      "outputs": [
        {
          "output_type": "stream",
          "name": "stdout",
          "text": [
            "Accuracy on Training: 0.639301221851964\n",
            "\n",
            "Accuracy on Test: 0.6017770597738288\n",
            "\n",
            "---------------------------------------------------------------\n",
            "              precision    recall  f1-score   support\n",
            "\n",
            "         0.0       0.58      0.36      0.45      1093\n",
            "         1.0       0.61      0.79      0.69      1383\n",
            "\n",
            "    accuracy                           0.60      2476\n",
            "   macro avg       0.59      0.58      0.57      2476\n",
            "weighted avg       0.60      0.60      0.58      2476\n",
            "\n"
          ]
        },
        {
          "output_type": "display_data",
          "data": {
            "text/plain": [
              "<Figure size 432x288 with 2 Axes>"
            ],
            "image/png": "[encoded data removed]"
          },
          "metadata": {
            "needs_background": "light"
          }
        },
        {
          "output_type": "display_data",
          "data": {
            "text/plain": [
              "<Figure size 432x288 with 1 Axes>"
            ],
            "image/png": "[encoded data removed]"
          },
          "metadata": {
            "needs_background": "light"
          }
        },
        {
          "output_type": "display_data",
          "data": {
            "text/plain": [
              "<Figure size 432x288 with 1 Axes>"
            ],
            "image/png": "[encoded data removed]"
          },
          "metadata": {
            "needs_background": "light"
          }
        }
      ]
    },
    {
      "cell_type": "code",
      "source": [
        "run_svc_cv(train_mean_X, train_mean_y)"
      ],
      "metadata": {
        "colab": {
          "base_uri": "https://localhost:8080/",
          "height": 1000
        },
        "outputId": "6556937d-8153-49d1-8729-423804e44b3e",
        "id": "Dvgggk-h9TSd"
      },
      "execution_count": null,
      "outputs": [
        {
          "output_type": "stream",
          "name": "stdout",
          "text": [
            "Accuracy on Training: 0.6336463697869332\n",
            "\n",
            "Accuracy on Test: 0.6050080775444265\n",
            "\n",
            "---------------------------------------------------------------\n",
            "              precision    recall  f1-score   support\n",
            "\n",
            "         0.0       0.61      0.29      0.39      1093\n",
            "         1.0       0.60      0.85      0.71      1383\n",
            "\n",
            "    accuracy                           0.61      2476\n",
            "   macro avg       0.61      0.57      0.55      2476\n",
            "weighted avg       0.61      0.61      0.57      2476\n",
            "\n"
          ]
        },
        {
          "output_type": "display_data",
          "data": {
            "text/plain": [
              "<Figure size 432x288 with 2 Axes>"
            ],
            "image/png": "[encoded data removed]"
          },
          "metadata": {
            "needs_background": "light"
          }
        },
        {
          "output_type": "display_data",
          "data": {
            "text/plain": [
              "<Figure size 432x288 with 1 Axes>"
            ],
            "image/png": "[encoded data removed]"
          },
          "metadata": {
            "needs_background": "light"
          }
        },
        {
          "output_type": "display_data",
          "data": {
            "text/plain": [
              "<Figure size 432x288 with 1 Axes>"
            ],
            "image/png": "[encoded data removed]"
          },
          "metadata": {
            "needs_background": "light"
          }
        },
        {
          "output_type": "stream",
          "name": "stdout",
          "text": [
            "{'kernel': 'rbf', 'gamma': 'scale', 'degree': 1, 'C': 0.1}\n"
          ]
        }
      ]
    },
    {
      "cell_type": "markdown",
      "source": [
        "####One hot encoding"
      ],
      "metadata": {
        "id": "2jQdnAQr9TSe"
      }
    },
    {
      "cell_type": "code",
      "source": [
        "train_ohe_y.shape, train_ohe_X.shape"
      ],
      "metadata": {
        "colab": {
          "base_uri": "https://localhost:8080/"
        },
        "id": "jAzoQyRZWRkC",
        "outputId": "cbbba98d-56d3-4001-f183-45fad7b1e219"
      },
      "execution_count": null,
      "outputs": [
        {
          "output_type": "execute_result",
          "data": {
            "text/plain": [
              "((12379,), (12379, 68))"
            ]
          },
          "metadata": {},
          "execution_count": 43
        }
      ]
    },
    {
      "cell_type": "code",
      "source": [
        "run_svc(train_ohe_X, train_ohe_y, test_ohe_X)"
      ],
      "metadata": {
        "colab": {
          "base_uri": "https://localhost:8080/",
          "height": 1000
        },
        "outputId": "377f129e-9fa0-4356-8cc5-b4b944e238ba",
        "id": "QIqyZn-69TSe"
      },
      "execution_count": null,
      "outputs": [
        {
          "output_type": "stream",
          "name": "stdout",
          "text": [
            "Accuracy on Training: 0.5665959810158537\n",
            "\n",
            "Accuracy on Test: 0.558562197092084\n",
            "\n",
            "---------------------------------------------------------------\n",
            "              precision    recall  f1-score   support\n",
            "\n",
            "           0       0.00      0.00      0.00      1093\n",
            "           1       0.56      1.00      0.72      1383\n",
            "\n",
            "    accuracy                           0.56      2476\n",
            "   macro avg       0.28      0.50      0.36      2476\n",
            "weighted avg       0.31      0.56      0.40      2476\n",
            "\n"
          ]
        },
        {
          "output_type": "display_data",
          "data": {
            "text/plain": [
              "<Figure size 432x288 with 2 Axes>"
            ],
            "image/png": "[encoded data removed]"
          },
          "metadata": {
            "needs_background": "light"
          }
        },
        {
          "output_type": "display_data",
          "data": {
            "text/plain": [
              "<Figure size 432x288 with 1 Axes>"
            ],
            "image/png": "[encoded data removed]"
          },
          "metadata": {
            "needs_background": "light"
          }
        },
        {
          "output_type": "display_data",
          "data": {
            "text/plain": [
              "<Figure size 432x288 with 1 Axes>"
            ],
            "image/png": "[encoded data removed]"
          },
          "metadata": {
            "needs_background": "light"
          }
        }
      ]
    },
    {
      "cell_type": "code",
      "source": [
        "run_svc_cv(train_ohe_X, train_ohe_y)"
      ],
      "metadata": {
        "id": "po83f88y9TSf"
      },
      "execution_count": null,
      "outputs": []
    },
    {
      "cell_type": "markdown",
      "source": [
        "####Ordinal + Mean Encoding"
      ],
      "metadata": {
        "id": "Wb9hhAu_9TSf"
      }
    },
    {
      "cell_type": "code",
      "source": [
        "run_svc(train_ome_X, train_ome_y, test_ome_X)"
      ],
      "metadata": {
        "colab": {
          "base_uri": "https://localhost:8080/",
          "height": 1000
        },
        "outputId": "79a16b98-e29e-48c6-f445-78be7e837818",
        "id": "4RH42aIx9TSf"
      },
      "execution_count": null,
      "outputs": [
        {
          "output_type": "stream",
          "name": "stdout",
          "text": [
            "Accuracy on Training: 0.5665959810158537\n",
            "\n",
            "Accuracy on Test: 0.558562197092084\n",
            "\n",
            "---------------------------------------------------------------\n",
            "              precision    recall  f1-score   support\n",
            "\n",
            "           0       0.00      0.00      0.00      1093\n",
            "           1       0.56      1.00      0.72      1383\n",
            "\n",
            "    accuracy                           0.56      2476\n",
            "   macro avg       0.28      0.50      0.36      2476\n",
            "weighted avg       0.31      0.56      0.40      2476\n",
            "\n"
          ]
        },
        {
          "output_type": "display_data",
          "data": {
            "text/plain": [
              "<Figure size 432x288 with 2 Axes>"
            ],
            "image/png": "[encoded data removed]"
          },
          "metadata": {
            "needs_background": "light"
          }
        },
        {
          "output_type": "display_data",
          "data": {
            "text/plain": [
              "<Figure size 432x288 with 1 Axes>"
            ],
            "image/png": "[encoded data removed]"
          },
          "metadata": {
            "needs_background": "light"
          }
        },
        {
          "output_type": "display_data",
          "data": {
            "text/plain": [
              "<Figure size 432x288 with 1 Axes>"
            ],
            "image/png": "[encoded data removed]"
          },
          "metadata": {
            "needs_background": "light"
          }
        }
      ]
    },
    {
      "cell_type": "code",
      "source": [
        "run_svc_cv(train_ome_X, train_ome_y)"
      ],
      "metadata": {
        "id": "lzAK70of9TSg"
      },
      "execution_count": null,
      "outputs": []
    },
    {
      "cell_type": "markdown",
      "source": [
        "##RidgeClassifier"
      ],
      "metadata": {
        "id": "LsRgZgoLYTdJ"
      }
    },
    {
      "cell_type": "code",
      "source": [
        "## No Cross Validation\n",
        "def run_ridge(train_X, train_y, test_X):\n",
        "  from sklearn.linear_model import RidgeClassifier\n",
        "  from sklearn.model_selection import train_test_split\n",
        "  random_state = 43\n",
        "  X_train, X_test, y_train, y_test = train_test_split(train_X, train_y, test_size = 0.20, random_state = random_state)\n",
        "  model = RidgeClassifier(alpha = 0.1, max_iter = 500, )\n",
        "  model.fit(X_train, y_train)\n",
        "  metrics_display(model, X_train, X_test, y_train, y_test)\n",
        "  gen_submission_file(model, test_X, 'ridge')\n",
        "\n"
      ],
      "metadata": {
        "id": "uw_z47_cYTdV"
      },
      "execution_count": null,
      "outputs": []
    },
    {
      "cell_type": "code",
      "source": [
        "## With Cross Validation\n",
        "def run_ridge_cv(train_X, train_y):\n",
        "  from sklearn.linear_model import RidgeClassifier\n",
        "  from sklearn.model_selection import GridSearchCV, RandomizedSearchCV, StratifiedShuffleSplit, train_test_split\n",
        "  random_state = 43\n",
        "  X_train, X_test, y_train, y_test = train_test_split(train_X, train_y, test_size = 0.20, random_state = random_state)\n",
        "  sss = StratifiedShuffleSplit(n_splits = 5, test_size = 0.3, random_state = random_state)\n",
        "  params = {'alpha':[0, 0.0001, 0.001],'max_iter':[1, 10, 50]}\n",
        "  gs = GridSearchCV(estimator=RidgeClassifier(random_state = 43), param_grid = params, cv = sss)\n",
        "  gs.fit(X_train, y_train)\n",
        "  metrics_display(gs, X_train, X_test, y_train, y_test)\n",
        "  print(gs.best_params_)\n"
      ],
      "metadata": {
        "id": "oCnIq8XVYTdV"
      },
      "execution_count": null,
      "outputs": []
    },
    {
      "cell_type": "markdown",
      "source": [
        "####Target Encoding Dataset"
      ],
      "metadata": {
        "id": "aKNHLhEGYTdV"
      }
    },
    {
      "cell_type": "code",
      "source": [
        "run_ridge(train_mean_X, train_mean_y, test_mean_X)"
      ],
      "metadata": {
        "colab": {
          "base_uri": "https://localhost:8080/",
          "height": 1000
        },
        "outputId": "25845b6f-e39a-49b6-965a-dbf5c4ab8488",
        "id": "PEatK0TyYTdV"
      },
      "execution_count": null,
      "outputs": [
        {
          "output_type": "stream",
          "name": "stdout",
          "text": [
            "Accuracy on Training: 0.6258124419684308\n",
            "\n",
            "Accuracy on Test: 0.6258124419684308\n",
            "\n",
            "---------------------------------------------------------------\n",
            "              precision    recall  f1-score   support\n",
            "\n",
            "         0.0       0.58      0.93      0.71      1080\n",
            "         1.0       0.81      0.32      0.46      1074\n",
            "\n",
            "    accuracy                           0.63      2154\n",
            "   macro avg       0.70      0.62      0.59      2154\n",
            "weighted avg       0.70      0.63      0.59      2154\n",
            "\n"
          ]
        },
        {
          "output_type": "display_data",
          "data": {
            "text/plain": [
              "<Figure size 432x288 with 2 Axes>"
            ],
            "image/png": "[encoded data removed]"
          },
          "metadata": {
            "needs_background": "light"
          }
        },
        {
          "output_type": "display_data",
          "data": {
            "text/plain": [
              "<Figure size 432x288 with 1 Axes>"
            ],
            "image/png": "[encoded data removed]"
          },
          "metadata": {
            "needs_background": "light"
          }
        },
        {
          "output_type": "display_data",
          "data": {
            "text/plain": [
              "<Figure size 432x288 with 1 Axes>"
            ],
            "image/png": "[encoded data removed]"
          },
          "metadata": {
            "needs_background": "light"
          }
        }
      ]
    },
    {
      "cell_type": "code",
      "source": [
        "run_ridge_cv(train_mean_X, train_mean_y)"
      ],
      "metadata": {
        "colab": {
          "base_uri": "https://localhost:8080/",
          "height": 1000
        },
        "outputId": "667eb80b-a18c-4c73-e1d3-2a073d538cbe",
        "id": "JtMBJVqQYTdW"
      },
      "execution_count": null,
      "outputs": [
        {
          "output_type": "stream",
          "name": "stdout",
          "text": [
            "Accuracy on Training: 0.6266248839368617\n",
            "\n",
            "Accuracy on Test: 0.6299907149489322\n",
            "\n",
            "---------------------------------------------------------------\n",
            "              precision    recall  f1-score   support\n",
            "\n",
            "         0.0       0.58      0.91      0.71      1080\n",
            "         1.0       0.80      0.34      0.48      1074\n",
            "\n",
            "    accuracy                           0.63      2154\n",
            "   macro avg       0.69      0.63      0.60      2154\n",
            "weighted avg       0.69      0.63      0.60      2154\n",
            "\n"
          ]
        },
        {
          "output_type": "display_data",
          "data": {
            "text/plain": [
              "<Figure size 432x288 with 2 Axes>"
            ],
            "image/png": "[encoded data removed]"
          },
          "metadata": {
            "needs_background": "light"
          }
        },
        {
          "output_type": "display_data",
          "data": {
            "text/plain": [
              "<Figure size 432x288 with 1 Axes>"
            ],
            "image/png": "[encoded data removed]"
          },
          "metadata": {
            "needs_background": "light"
          }
        },
        {
          "output_type": "display_data",
          "data": {
            "text/plain": [
              "<Figure size 432x288 with 1 Axes>"
            ],
            "image/png": "[encoded data removed]"
          },
          "metadata": {
            "needs_background": "light"
          }
        },
        {
          "output_type": "stream",
          "name": "stdout",
          "text": [
            "{'alpha': 0.0001, 'max_iter': 1}\n"
          ]
        }
      ]
    },
    {
      "cell_type": "markdown",
      "source": [
        "####One hot encoding"
      ],
      "metadata": {
        "id": "uDFSssmsYTdW"
      }
    },
    {
      "cell_type": "code",
      "source": [
        "train_ohe_y.shape, train_ohe_X.shape"
      ],
      "metadata": {
        "colab": {
          "base_uri": "https://localhost:8080/"
        },
        "outputId": "cbbba98d-56d3-4001-f183-45fad7b1e219",
        "id": "3HvoqMwCYTdW"
      },
      "execution_count": null,
      "outputs": [
        {
          "output_type": "execute_result",
          "data": {
            "text/plain": [
              "((12379,), (12379, 68))"
            ]
          },
          "metadata": {},
          "execution_count": 43
        }
      ]
    },
    {
      "cell_type": "code",
      "source": [
        "run_ridge(train_ohe_X, train_ohe_y, test_ohe_X)"
      ],
      "metadata": {
        "id": "4Fa6kwdyYTdW"
      },
      "execution_count": null,
      "outputs": []
    },
    {
      "cell_type": "code",
      "source": [
        "run_svc_cv(train_ohe_X, train_ohe_y)"
      ],
      "metadata": {
        "id": "UvVCZPXxYTdW"
      },
      "execution_count": null,
      "outputs": []
    },
    {
      "cell_type": "markdown",
      "source": [
        "####Ordinal + Mean Encoding"
      ],
      "metadata": {
        "id": "6nUTDJZPYTdW"
      }
    },
    {
      "cell_type": "code",
      "source": [
        "run_ridge(train_ome_X, train_ome_y, test_ome_X)"
      ],
      "metadata": {
        "colab": {
          "base_uri": "https://localhost:8080/",
          "height": 1000
        },
        "outputId": "1a35aadc-6e44-4ec8-e592-2153cef6b15b",
        "id": "8YYXZMwMYTdW"
      },
      "execution_count": null,
      "outputs": [
        {
          "output_type": "stream",
          "name": "stdout",
          "text": [
            "Accuracy on Training: 0.6497765862377123\n",
            "\n",
            "Accuracy on Test: 0.6476054324517513\n",
            "\n",
            "---------------------------------------------------------------\n",
            "              precision    recall  f1-score   support\n",
            "\n",
            "           0       0.74      0.48      0.58      1425\n",
            "           1       0.60      0.82      0.70      1373\n",
            "\n",
            "    accuracy                           0.65      2798\n",
            "   macro avg       0.67      0.65      0.64      2798\n",
            "weighted avg       0.67      0.65      0.64      2798\n",
            "\n"
          ]
        },
        {
          "output_type": "display_data",
          "data": {
            "text/plain": [
              "<Figure size 432x288 with 2 Axes>"
            ],
            "image/png": "[encoded data removed]"
          },
          "metadata": {
            "needs_background": "light"
          }
        },
        {
          "output_type": "display_data",
          "data": {
            "text/plain": [
              "<Figure size 432x288 with 1 Axes>"
            ],
            "image/png": "[encoded data removed]"
          },
          "metadata": {
            "needs_background": "light"
          }
        },
        {
          "output_type": "display_data",
          "data": {
            "text/plain": [
              "<Figure size 432x288 with 1 Axes>"
            ],
            "image/png": "[encoded data removed]"
          },
          "metadata": {
            "needs_background": "light"
          }
        }
      ]
    },
    {
      "cell_type": "code",
      "source": [
        "run_ridge_cv(train_ome_X, train_ome_y)"
      ],
      "metadata": {
        "colab": {
          "base_uri": "https://localhost:8080/",
          "height": 1000
        },
        "id": "IloQ3-S6YTdX",
        "outputId": "a566a2b5-dedb-4cbd-de94-d89c55095fbf"
      },
      "execution_count": null,
      "outputs": [
        {
          "output_type": "stream",
          "name": "stdout",
          "text": [
            "Accuracy on Training: 0.649597855227882\n",
            "\n",
            "Accuracy on Test: 0.6476054324517513\n",
            "\n",
            "---------------------------------------------------------------\n",
            "              precision    recall  f1-score   support\n",
            "\n",
            "           0       0.74      0.48      0.58      1425\n",
            "           1       0.60      0.82      0.70      1373\n",
            "\n",
            "    accuracy                           0.65      2798\n",
            "   macro avg       0.67      0.65      0.64      2798\n",
            "weighted avg       0.67      0.65      0.64      2798\n",
            "\n"
          ]
        },
        {
          "output_type": "display_data",
          "data": {
            "text/plain": [
              "<Figure size 432x288 with 2 Axes>"
            ],
            "image/png": "[encoded data removed]"
          },
          "metadata": {
            "needs_background": "light"
          }
        },
        {
          "output_type": "display_data",
          "data": {
            "text/plain": [
              "<Figure size 432x288 with 1 Axes>"
            ],
            "image/png": "[encoded data removed]"
          },
          "metadata": {
            "needs_background": "light"
          }
        },
        {
          "output_type": "display_data",
          "data": {
            "text/plain": [
              "<Figure size 432x288 with 1 Axes>"
            ],
            "image/png": "[encoded data removed]"
          },
          "metadata": {
            "needs_background": "light"
          }
        },
        {
          "output_type": "stream",
          "name": "stdout",
          "text": [
            "{'alpha': 0, 'max_iter': 1}\n"
          ]
        }
      ]
    },
    {
      "cell_type": "markdown",
      "source": [
        "##SGDClassifier"
      ],
      "metadata": {
        "id": "Shg3YtXodIIq"
      }
    },
    {
      "cell_type": "code",
      "source": [
        "## No Cross Validation\n",
        "def run_sgd(train_X, train_y, test_X):\n",
        "  from sklearn.linear_model import SGDClassifier\n",
        "  from sklearn.model_selection import train_test_split\n",
        "  random_state = 43\n",
        "  X_train, X_test, y_train, y_test = train_test_split(train_X, train_y, test_size = 0.20, random_state = random_state)\n",
        "  model = SGDClassifier(loss = \"modified_huber\", penalty = 'l2', alpha = 0.00001, l1_ratio = 0, max_iter = 1000, random_state = 43)\n",
        "  model.fit(X_train, y_train)\n",
        "  metrics_display(model, X_train, X_test, y_train, y_test)\n",
        "  gen_submission_file(model, test_X, 'sgd')\n",
        "\n"
      ],
      "metadata": {
        "id": "0h1lCy1mdIIy"
      },
      "execution_count": null,
      "outputs": []
    },
    {
      "cell_type": "code",
      "source": [
        "## With Cross Validation\n",
        "def run_sgd_cv(train_X, train_y):\n",
        "  from sklearn.linear_model import RidgeClassifier\n",
        "  from sklearn.model_selection import GridSearchCV, RandomizedSearchCV, StratifiedShuffleSplit, train_test_split\n",
        "  random_state = 43\n",
        "  X_train, X_test, y_train, y_test = train_test_split(train_X, train_y, test_size = 0.20, random_state = random_state)\n",
        "  sss = StratifiedShuffleSplit(n_splits = 5, test_size = 0.3, random_state = random_state)\n",
        "  params = {'alpha':[0, 0.0001, 0.001],'max_iter':[1, 10, 50]}\n",
        "  gs = GridSearchCV(estimator=RidgeClassifier(random_state = 43), param_grid = params, cv = sss)\n",
        "  gs.fit(X_train, y_train)\n",
        "  metrics_display(gs, X_train, X_test, y_train, y_test)\n",
        "  print(gs.best_params_)\n"
      ],
      "metadata": {
        "id": "rFK-MEUSdIIz"
      },
      "execution_count": null,
      "outputs": []
    },
    {
      "cell_type": "markdown",
      "source": [
        "####Target Encoding Dataset"
      ],
      "metadata": {
        "id": "13JWxW73dIIz"
      }
    },
    {
      "cell_type": "code",
      "source": [
        "run_sgd(train_mean_X, train_mean_y, test_mean_X)"
      ],
      "metadata": {
        "colab": {
          "base_uri": "https://localhost:8080/",
          "height": 1000
        },
        "outputId": "be6e475c-7803-4e3b-b0f9-96b703809637",
        "id": "ENxbBlFXdIIz"
      },
      "execution_count": null,
      "outputs": [
        {
          "output_type": "stream",
          "name": "stdout",
          "text": [
            "Accuracy on Training: 0.6231456657730117\n",
            "\n",
            "Accuracy on Test: 0.6165117941386705\n",
            "\n",
            "---------------------------------------------------------------\n",
            "              precision    recall  f1-score   support\n",
            "\n",
            "         0.0       0.60      0.77      0.67      1425\n",
            "         1.0       0.66      0.46      0.54      1373\n",
            "\n",
            "    accuracy                           0.62      2798\n",
            "   macro avg       0.63      0.61      0.61      2798\n",
            "weighted avg       0.63      0.62      0.61      2798\n",
            "\n"
          ]
        },
        {
          "output_type": "display_data",
          "data": {
            "text/plain": [
              "<Figure size 432x288 with 2 Axes>"
            ],
            "image/png": "[encoded data removed]"
          },
          "metadata": {
            "needs_background": "light"
          }
        },
        {
          "output_type": "display_data",
          "data": {
            "text/plain": [
              "<Figure size 432x288 with 1 Axes>"
            ],
            "image/png": "[encoded data removed]"
          },
          "metadata": {
            "needs_background": "light"
          }
        },
        {
          "output_type": "display_data",
          "data": {
            "text/plain": [
              "<Figure size 432x288 with 1 Axes>"
            ],
            "image/png": "[encoded data removed]"
          },
          "metadata": {
            "needs_background": "light"
          }
        }
      ]
    },
    {
      "cell_type": "code",
      "source": [
        "run_ridge_cv(train_mean_X, train_mean_y)"
      ],
      "metadata": {
        "id": "itbf2qvudIIz"
      },
      "execution_count": null,
      "outputs": []
    },
    {
      "cell_type": "markdown",
      "source": [
        "####One hot encoding"
      ],
      "metadata": {
        "id": "FA9ySMI7dIIz"
      }
    },
    {
      "cell_type": "code",
      "source": [
        "train_ohe_y.shape, train_ohe_X.shape"
      ],
      "metadata": {
        "colab": {
          "base_uri": "https://localhost:8080/"
        },
        "outputId": "cbbba98d-56d3-4001-f183-45fad7b1e219",
        "id": "Zid05L03dIIz"
      },
      "execution_count": null,
      "outputs": [
        {
          "output_type": "execute_result",
          "data": {
            "text/plain": [
              "((12379,), (12379, 68))"
            ]
          },
          "metadata": {},
          "execution_count": 43
        }
      ]
    },
    {
      "cell_type": "code",
      "source": [
        "run_sgd(train_ohe_X, train_ohe_y, test_ohe_X)"
      ],
      "metadata": {
        "colab": {
          "base_uri": "https://localhost:8080/",
          "height": 1000
        },
        "id": "qf6CDaOEdII0",
        "outputId": "cad6cdc2-297c-4372-db65-dd7974908833"
      },
      "execution_count": null,
      "outputs": [
        {
          "output_type": "stream",
          "name": "stdout",
          "text": [
            "Accuracy on Training: 0.49767649687220733\n",
            "\n",
            "Accuracy on Test: 0.5092923516797713\n",
            "\n",
            "---------------------------------------------------------------\n",
            "              precision    recall  f1-score   support\n",
            "\n",
            "           0       0.51      1.00      0.67      1425\n",
            "           1       0.00      0.00      0.00      1373\n",
            "\n",
            "    accuracy                           0.51      2798\n",
            "   macro avg       0.25      0.50      0.34      2798\n",
            "weighted avg       0.26      0.51      0.34      2798\n",
            "\n"
          ]
        },
        {
          "output_type": "display_data",
          "data": {
            "text/plain": [
              "<Figure size 432x288 with 2 Axes>"
            ],
            "image/png": "[encoded data removed]"
          },
          "metadata": {
            "needs_background": "light"
          }
        },
        {
          "output_type": "display_data",
          "data": {
            "text/plain": [
              "<Figure size 432x288 with 1 Axes>"
            ],
            "image/png": "[encoded data removed]"
          },
          "metadata": {
            "needs_background": "light"
          }
        },
        {
          "output_type": "display_data",
          "data": {
            "text/plain": [
              "<Figure size 432x288 with 1 Axes>"
            ],
            "image/png": "[encoded data removed]"
          },
          "metadata": {
            "needs_background": "light"
          }
        },
        {
          "output_type": "error",
          "ename": "ValueError",
          "evalue": "ignored",
          "traceback": [
            "\u001b[0;31m---------------------------------------------------------------------------\u001b[0m",
            "\u001b[0;31mValueError\u001b[0m                                Traceback (most recent call last)",
            "\u001b[0;32m<ipython-input-94-6dff5b58c0cb>\u001b[0m in \u001b[0;36m<module>\u001b[0;34m\u001b[0m\n\u001b[0;32m----> 1\u001b[0;31m \u001b[0mrun_sgd\u001b[0m\u001b[0;34m(\u001b[0m\u001b[0mtrain_ohe_X\u001b[0m\u001b[0;34m,\u001b[0m \u001b[0mtrain_ohe_y\u001b[0m\u001b[0;34m,\u001b[0m \u001b[0mtest_ohe_X\u001b[0m\u001b[0;34m)\u001b[0m\u001b[0;34m\u001b[0m\u001b[0;34m\u001b[0m\u001b[0m\n\u001b[0m",
            "\u001b[0;32m<ipython-input-91-a5ded1818b8b>\u001b[0m in \u001b[0;36mrun_sgd\u001b[0;34m(train_X, train_y, test_X)\u001b[0m\n\u001b[1;32m      8\u001b[0m   \u001b[0mmodel\u001b[0m\u001b[0;34m.\u001b[0m\u001b[0mfit\u001b[0m\u001b[0;34m(\u001b[0m\u001b[0mX_train\u001b[0m\u001b[0;34m,\u001b[0m \u001b[0my_train\u001b[0m\u001b[0;34m)\u001b[0m\u001b[0;34m\u001b[0m\u001b[0;34m\u001b[0m\u001b[0m\n\u001b[1;32m      9\u001b[0m   \u001b[0mmetrics_display\u001b[0m\u001b[0;34m(\u001b[0m\u001b[0mmodel\u001b[0m\u001b[0;34m,\u001b[0m \u001b[0mX_train\u001b[0m\u001b[0;34m,\u001b[0m \u001b[0mX_test\u001b[0m\u001b[0;34m,\u001b[0m \u001b[0my_train\u001b[0m\u001b[0;34m,\u001b[0m \u001b[0my_test\u001b[0m\u001b[0;34m)\u001b[0m\u001b[0;34m\u001b[0m\u001b[0;34m\u001b[0m\u001b[0m\n\u001b[0;32m---> 10\u001b[0;31m   \u001b[0mgen_submission_file\u001b[0m\u001b[0;34m(\u001b[0m\u001b[0mmodel\u001b[0m\u001b[0;34m,\u001b[0m \u001b[0mtest_X\u001b[0m\u001b[0;34m,\u001b[0m \u001b[0;34m'sgd'\u001b[0m\u001b[0;34m)\u001b[0m\u001b[0;34m\u001b[0m\u001b[0;34m\u001b[0m\u001b[0m\n\u001b[0m\u001b[1;32m     11\u001b[0m \u001b[0;34m\u001b[0m\u001b[0m\n",
            "\u001b[0;32m<ipython-input-35-ed4dd05a9eb6>\u001b[0m in \u001b[0;36mgen_submission_file\u001b[0;34m(model, test_X, name)\u001b[0m\n\u001b[1;32m      1\u001b[0m \u001b[0;32mdef\u001b[0m \u001b[0mgen_submission_file\u001b[0m\u001b[0;34m(\u001b[0m\u001b[0mmodel\u001b[0m\u001b[0;34m,\u001b[0m \u001b[0mtest_X\u001b[0m\u001b[0;34m,\u001b[0m \u001b[0mname\u001b[0m\u001b[0;34m)\u001b[0m\u001b[0;34m:\u001b[0m\u001b[0;34m\u001b[0m\u001b[0;34m\u001b[0m\u001b[0m\n\u001b[0;32m----> 2\u001b[0;31m   \u001b[0mlabel_pred\u001b[0m \u001b[0;34m=\u001b[0m \u001b[0mmodel\u001b[0m\u001b[0;34m.\u001b[0m\u001b[0mpredict\u001b[0m\u001b[0;34m(\u001b[0m\u001b[0mtest_X\u001b[0m\u001b[0;34m)\u001b[0m\u001b[0;34m\u001b[0m\u001b[0;34m\u001b[0m\u001b[0m\n\u001b[0m\u001b[1;32m      3\u001b[0m   \u001b[0mf\u001b[0m \u001b[0;34m=\u001b[0m \u001b[0mopen\u001b[0m\u001b[0;34m(\u001b[0m\u001b[0;34mf'submissions_{name}.csv'\u001b[0m\u001b[0;34m,\u001b[0m \u001b[0;34m\"w\"\u001b[0m\u001b[0;34m)\u001b[0m\u001b[0;34m\u001b[0m\u001b[0;34m\u001b[0m\u001b[0m\n\u001b[1;32m      4\u001b[0m   \u001b[0mf\u001b[0m\u001b[0;34m.\u001b[0m\u001b[0mwrite\u001b[0m\u001b[0;34m(\u001b[0m\u001b[0;34m'id'\u001b[0m \u001b[0;34m+\u001b[0m \u001b[0;34m','\u001b[0m \u001b[0;34m+\u001b[0m \u001b[0;34m'Offer Accepted\\n'\u001b[0m\u001b[0;34m)\u001b[0m\u001b[0;34m\u001b[0m\u001b[0;34m\u001b[0m\u001b[0m\n\u001b[1;32m      5\u001b[0m   \u001b[0;32mfor\u001b[0m \u001b[0mi\u001b[0m \u001b[0;32min\u001b[0m \u001b[0mrange\u001b[0m\u001b[0;34m(\u001b[0m\u001b[0mlen\u001b[0m\u001b[0;34m(\u001b[0m\u001b[0mlabel_pred\u001b[0m\u001b[0;34m)\u001b[0m\u001b[0;34m)\u001b[0m\u001b[0;34m:\u001b[0m\u001b[0;34m\u001b[0m\u001b[0;34m\u001b[0m\u001b[0m\n",
            "\u001b[0;32m/usr/local/lib/python3.7/dist-packages/sklearn/linear_model/_base.py\u001b[0m in \u001b[0;36mpredict\u001b[0;34m(self, X)\u001b[0m\n\u001b[1;32m    423\u001b[0m             \u001b[0mVector\u001b[0m \u001b[0mcontaining\u001b[0m \u001b[0mthe\u001b[0m \u001b[0;32mclass\u001b[0m \u001b[0mlabels\u001b[0m \u001b[0;32mfor\u001b[0m \u001b[0meach\u001b[0m \u001b[0msample\u001b[0m\u001b[0;34m.\u001b[0m\u001b[0;34m\u001b[0m\u001b[0;34m\u001b[0m\u001b[0m\n\u001b[1;32m    424\u001b[0m         \"\"\"\n\u001b[0;32m--> 425\u001b[0;31m         \u001b[0mscores\u001b[0m \u001b[0;34m=\u001b[0m \u001b[0mself\u001b[0m\u001b[0;34m.\u001b[0m\u001b[0mdecision_function\u001b[0m\u001b[0;34m(\u001b[0m\u001b[0mX\u001b[0m\u001b[0;34m)\u001b[0m\u001b[0;34m\u001b[0m\u001b[0;34m\u001b[0m\u001b[0m\n\u001b[0m\u001b[1;32m    426\u001b[0m         \u001b[0;32mif\u001b[0m \u001b[0mlen\u001b[0m\u001b[0;34m(\u001b[0m\u001b[0mscores\u001b[0m\u001b[0;34m.\u001b[0m\u001b[0mshape\u001b[0m\u001b[0;34m)\u001b[0m \u001b[0;34m==\u001b[0m \u001b[0;36m1\u001b[0m\u001b[0;34m:\u001b[0m\u001b[0;34m\u001b[0m\u001b[0;34m\u001b[0m\u001b[0m\n\u001b[1;32m    427\u001b[0m             \u001b[0mindices\u001b[0m \u001b[0;34m=\u001b[0m \u001b[0;34m(\u001b[0m\u001b[0mscores\u001b[0m \u001b[0;34m>\u001b[0m \u001b[0;36m0\u001b[0m\u001b[0;34m)\u001b[0m\u001b[0;34m.\u001b[0m\u001b[0mastype\u001b[0m\u001b[0;34m(\u001b[0m\u001b[0mint\u001b[0m\u001b[0;34m)\u001b[0m\u001b[0;34m\u001b[0m\u001b[0;34m\u001b[0m\u001b[0m\n",
            "\u001b[0;32m/usr/local/lib/python3.7/dist-packages/sklearn/linear_model/_base.py\u001b[0m in \u001b[0;36mdecision_function\u001b[0;34m(self, X)\u001b[0m\n\u001b[1;32m    405\u001b[0m         \u001b[0mcheck_is_fitted\u001b[0m\u001b[0;34m(\u001b[0m\u001b[0mself\u001b[0m\u001b[0;34m)\u001b[0m\u001b[0;34m\u001b[0m\u001b[0;34m\u001b[0m\u001b[0m\n\u001b[1;32m    406\u001b[0m \u001b[0;34m\u001b[0m\u001b[0m\n\u001b[0;32m--> 407\u001b[0;31m         \u001b[0mX\u001b[0m \u001b[0;34m=\u001b[0m \u001b[0mself\u001b[0m\u001b[0;34m.\u001b[0m\u001b[0m_validate_data\u001b[0m\u001b[0;34m(\u001b[0m\u001b[0mX\u001b[0m\u001b[0;34m,\u001b[0m \u001b[0maccept_sparse\u001b[0m\u001b[0;34m=\u001b[0m\u001b[0;34m\"csr\"\u001b[0m\u001b[0;34m,\u001b[0m \u001b[0mreset\u001b[0m\u001b[0;34m=\u001b[0m\u001b[0;32mFalse\u001b[0m\u001b[0;34m)\u001b[0m\u001b[0;34m\u001b[0m\u001b[0;34m\u001b[0m\u001b[0m\n\u001b[0m\u001b[1;32m    408\u001b[0m         \u001b[0mscores\u001b[0m \u001b[0;34m=\u001b[0m \u001b[0msafe_sparse_dot\u001b[0m\u001b[0;34m(\u001b[0m\u001b[0mX\u001b[0m\u001b[0;34m,\u001b[0m \u001b[0mself\u001b[0m\u001b[0;34m.\u001b[0m\u001b[0mcoef_\u001b[0m\u001b[0;34m.\u001b[0m\u001b[0mT\u001b[0m\u001b[0;34m,\u001b[0m \u001b[0mdense_output\u001b[0m\u001b[0;34m=\u001b[0m\u001b[0;32mTrue\u001b[0m\u001b[0;34m)\u001b[0m \u001b[0;34m+\u001b[0m \u001b[0mself\u001b[0m\u001b[0;34m.\u001b[0m\u001b[0mintercept_\u001b[0m\u001b[0;34m\u001b[0m\u001b[0;34m\u001b[0m\u001b[0m\n\u001b[1;32m    409\u001b[0m         \u001b[0;32mreturn\u001b[0m \u001b[0mscores\u001b[0m\u001b[0;34m.\u001b[0m\u001b[0mravel\u001b[0m\u001b[0;34m(\u001b[0m\u001b[0;34m)\u001b[0m \u001b[0;32mif\u001b[0m \u001b[0mscores\u001b[0m\u001b[0;34m.\u001b[0m\u001b[0mshape\u001b[0m\u001b[0;34m[\u001b[0m\u001b[0;36m1\u001b[0m\u001b[0;34m]\u001b[0m \u001b[0;34m==\u001b[0m \u001b[0;36m1\u001b[0m \u001b[0;32melse\u001b[0m \u001b[0mscores\u001b[0m\u001b[0;34m\u001b[0m\u001b[0;34m\u001b[0m\u001b[0m\n",
            "\u001b[0;32m/usr/local/lib/python3.7/dist-packages/sklearn/base.py\u001b[0m in \u001b[0;36m_validate_data\u001b[0;34m(self, X, y, reset, validate_separately, **check_params)\u001b[0m\n\u001b[1;32m    583\u001b[0m \u001b[0;34m\u001b[0m\u001b[0m\n\u001b[1;32m    584\u001b[0m         \u001b[0;32mif\u001b[0m \u001b[0;32mnot\u001b[0m \u001b[0mno_val_X\u001b[0m \u001b[0;32mand\u001b[0m \u001b[0mcheck_params\u001b[0m\u001b[0;34m.\u001b[0m\u001b[0mget\u001b[0m\u001b[0;34m(\u001b[0m\u001b[0;34m\"ensure_2d\"\u001b[0m\u001b[0;34m,\u001b[0m \u001b[0;32mTrue\u001b[0m\u001b[0;34m)\u001b[0m\u001b[0;34m:\u001b[0m\u001b[0;34m\u001b[0m\u001b[0;34m\u001b[0m\u001b[0m\n\u001b[0;32m--> 585\u001b[0;31m             \u001b[0mself\u001b[0m\u001b[0;34m.\u001b[0m\u001b[0m_check_n_features\u001b[0m\u001b[0;34m(\u001b[0m\u001b[0mX\u001b[0m\u001b[0;34m,\u001b[0m \u001b[0mreset\u001b[0m\u001b[0;34m=\u001b[0m\u001b[0mreset\u001b[0m\u001b[0;34m)\u001b[0m\u001b[0;34m\u001b[0m\u001b[0;34m\u001b[0m\u001b[0m\n\u001b[0m\u001b[1;32m    586\u001b[0m \u001b[0;34m\u001b[0m\u001b[0m\n\u001b[1;32m    587\u001b[0m         \u001b[0;32mreturn\u001b[0m \u001b[0mout\u001b[0m\u001b[0;34m\u001b[0m\u001b[0;34m\u001b[0m\u001b[0m\n",
            "\u001b[0;32m/usr/local/lib/python3.7/dist-packages/sklearn/base.py\u001b[0m in \u001b[0;36m_check_n_features\u001b[0;34m(self, X, reset)\u001b[0m\n\u001b[1;32m    399\u001b[0m         \u001b[0;32mif\u001b[0m \u001b[0mn_features\u001b[0m \u001b[0;34m!=\u001b[0m \u001b[0mself\u001b[0m\u001b[0;34m.\u001b[0m\u001b[0mn_features_in_\u001b[0m\u001b[0;34m:\u001b[0m\u001b[0;34m\u001b[0m\u001b[0;34m\u001b[0m\u001b[0m\n\u001b[1;32m    400\u001b[0m             raise ValueError(\n\u001b[0;32m--> 401\u001b[0;31m                 \u001b[0;34mf\"X has {n_features} features, but {self.__class__.__name__} \"\u001b[0m\u001b[0;34m\u001b[0m\u001b[0;34m\u001b[0m\u001b[0m\n\u001b[0m\u001b[1;32m    402\u001b[0m                 \u001b[0;34mf\"is expecting {self.n_features_in_} features as input.\"\u001b[0m\u001b[0;34m\u001b[0m\u001b[0;34m\u001b[0m\u001b[0m\n\u001b[1;32m    403\u001b[0m             )\n",
            "\u001b[0;31mValueError\u001b[0m: X has 68 features, but SGDClassifier is expecting 6481 features as input."
          ]
        }
      ]
    },
    {
      "cell_type": "code",
      "source": [
        "run_sgd_cv(train_ohe_X, train_ohe_y)"
      ],
      "metadata": {
        "id": "2pH4uZJRdII0"
      },
      "execution_count": null,
      "outputs": []
    },
    {
      "cell_type": "markdown",
      "source": [
        "####Ordinal + Mean Encoding"
      ],
      "metadata": {
        "id": "w7R38nBEdII0"
      }
    },
    {
      "cell_type": "code",
      "source": [
        "run_sgd(train_ome_X, train_ome_y, test_ome_X)"
      ],
      "metadata": {
        "id": "9EL3W2MydII0"
      },
      "execution_count": null,
      "outputs": []
    },
    {
      "cell_type": "code",
      "source": [
        "run_sgd_cv(train_ome_X, train_ome_y)"
      ],
      "metadata": {
        "id": "iF-LE4zYdII0"
      },
      "execution_count": null,
      "outputs": []
    }
  ]
}